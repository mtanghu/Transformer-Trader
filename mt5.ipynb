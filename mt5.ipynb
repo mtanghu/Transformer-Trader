{
 "cells": [
  {
   "cell_type": "code",
   "execution_count": 1,
   "metadata": {},
   "outputs": [],
   "source": [
    "import MetaTrader5 as mt5"
   ]
  },
  {
   "cell_type": "code",
   "execution_count": 2,
   "metadata": {},
   "outputs": [],
   "source": [
    "from trader_models import SRUTrader, GPT2Config\n",
    "\n",
    "import torch\n",
    "import pandas as pd\n",
    "import numpy as np\n",
    "\n",
    "from datetime import datetime, timedelta\n",
    "import pytz\n",
    "\n",
    "stds = [0.00020527, 0.00015178, 0.00015272, 0.00022341, 0.00463119]"
   ]
  },
  {
   "cell_type": "code",
   "execution_count": 3,
   "metadata": {},
   "outputs": [
    {
     "data": {
      "text/plain": [
       "True"
      ]
     },
     "execution_count": 3,
     "metadata": {},
     "output_type": "execute_result"
    }
   ],
   "source": [
    "mt5.initialize(path = \"C:/Program Files/Coinexx MT5 Terminal/terminal64.exe\",\n",
    "               login = 806219,\n",
    "               server = \"Coinexx-Demo\",\n",
    "               password = \"@Ma4J@p0#@epM#0\")"
   ]
  },
  {
   "cell_type": "code",
   "execution_count": 182,
   "metadata": {},
   "outputs": [],
   "source": [
    "config = GPT2Config(\n",
    "    n_embd = 448, n_head = 7\n",
    ")\n",
    "model = SRUTrader.from_pretrained('srupp.model', config = config).cuda().eval()"
   ]
  },
  {
   "cell_type": "code",
   "execution_count": 241,
   "metadata": {},
   "outputs": [
    {
     "data": {
      "text/html": [
       "<div>\n",
       "<style scoped>\n",
       "    .dataframe tbody tr th:only-of-type {\n",
       "        vertical-align: middle;\n",
       "    }\n",
       "\n",
       "    .dataframe tbody tr th {\n",
       "        vertical-align: top;\n",
       "    }\n",
       "\n",
       "    .dataframe thead th {\n",
       "        text-align: right;\n",
       "    }\n",
       "</style>\n",
       "<table border=\"1\" class=\"dataframe\">\n",
       "  <thead>\n",
       "    <tr style=\"text-align: right;\">\n",
       "      <th></th>\n",
       "      <th>open</th>\n",
       "      <th>high</th>\n",
       "      <th>low</th>\n",
       "      <th>close</th>\n",
       "      <th>day_close</th>\n",
       "    </tr>\n",
       "    <tr>\n",
       "      <th>time</th>\n",
       "      <th></th>\n",
       "      <th></th>\n",
       "      <th></th>\n",
       "      <th></th>\n",
       "      <th></th>\n",
       "    </tr>\n",
       "  </thead>\n",
       "  <tbody>\n",
       "    <tr>\n",
       "      <th>2022-10-27 00:00:00</th>\n",
       "      <td>-0.828178</td>\n",
       "      <td>0.197654</td>\n",
       "      <td>-1.113148</td>\n",
       "      <td>0.760933</td>\n",
       "      <td>0.000000</td>\n",
       "    </tr>\n",
       "    <tr>\n",
       "      <th>2022-10-27 00:01:00</th>\n",
       "      <td>-0.292298</td>\n",
       "      <td>0.395309</td>\n",
       "      <td>-0.458355</td>\n",
       "      <td>0.223804</td>\n",
       "      <td>0.010796</td>\n",
       "    </tr>\n",
       "    <tr>\n",
       "      <th>2022-10-27 00:02:00</th>\n",
       "      <td>0.438447</td>\n",
       "      <td>0.658848</td>\n",
       "      <td>-0.065479</td>\n",
       "      <td>-0.313325</td>\n",
       "      <td>-0.004319</td>\n",
       "    </tr>\n",
       "    <tr>\n",
       "      <th>2022-10-27 00:03:00</th>\n",
       "      <td>0.438447</td>\n",
       "      <td>1.120042</td>\n",
       "      <td>-0.065479</td>\n",
       "      <td>-0.402847</td>\n",
       "      <td>-0.023752</td>\n",
       "    </tr>\n",
       "    <tr>\n",
       "      <th>2022-10-27 00:04:00</th>\n",
       "      <td>-0.243582</td>\n",
       "      <td>0.263539</td>\n",
       "      <td>-0.720272</td>\n",
       "      <td>0.223804</td>\n",
       "      <td>-0.012956</td>\n",
       "    </tr>\n",
       "    <tr>\n",
       "      <th>...</th>\n",
       "      <td>...</td>\n",
       "      <td>...</td>\n",
       "      <td>...</td>\n",
       "      <td>...</td>\n",
       "      <td>...</td>\n",
       "    </tr>\n",
       "    <tr>\n",
       "      <th>2022-10-27 05:54:00</th>\n",
       "      <td>0.097433</td>\n",
       "      <td>0.592963</td>\n",
       "      <td>-0.065479</td>\n",
       "      <td>-0.089522</td>\n",
       "      <td>0.233201</td>\n",
       "    </tr>\n",
       "    <tr>\n",
       "      <th>2022-10-27 05:55:00</th>\n",
       "      <td>-0.438447</td>\n",
       "      <td>0.000000</td>\n",
       "      <td>-0.654793</td>\n",
       "      <td>0.402847</td>\n",
       "      <td>0.252635</td>\n",
       "    </tr>\n",
       "    <tr>\n",
       "      <th>2022-10-27 05:56:00</th>\n",
       "      <td>0.389731</td>\n",
       "      <td>0.724733</td>\n",
       "      <td>-0.196438</td>\n",
       "      <td>-0.402847</td>\n",
       "      <td>0.233201</td>\n",
       "    </tr>\n",
       "    <tr>\n",
       "      <th>2022-10-27 05:57:00</th>\n",
       "      <td>0.487163</td>\n",
       "      <td>0.658848</td>\n",
       "      <td>-0.327397</td>\n",
       "      <td>-0.492368</td>\n",
       "      <td>0.209449</td>\n",
       "    </tr>\n",
       "    <tr>\n",
       "      <th>2022-10-27 05:58:00</th>\n",
       "      <td>0.146149</td>\n",
       "      <td>0.329424</td>\n",
       "      <td>-0.065479</td>\n",
       "      <td>-0.134282</td>\n",
       "      <td>0.202972</td>\n",
       "    </tr>\n",
       "  </tbody>\n",
       "</table>\n",
       "<p>346 rows × 5 columns</p>\n",
       "</div>"
      ],
      "text/plain": [
       "                         open      high       low     close  day_close\n",
       "time                                                                  \n",
       "2022-10-27 00:00:00 -0.828178  0.197654 -1.113148  0.760933   0.000000\n",
       "2022-10-27 00:01:00 -0.292298  0.395309 -0.458355  0.223804   0.010796\n",
       "2022-10-27 00:02:00  0.438447  0.658848 -0.065479 -0.313325  -0.004319\n",
       "2022-10-27 00:03:00  0.438447  1.120042 -0.065479 -0.402847  -0.023752\n",
       "2022-10-27 00:04:00 -0.243582  0.263539 -0.720272  0.223804  -0.012956\n",
       "...                       ...       ...       ...       ...        ...\n",
       "2022-10-27 05:54:00  0.097433  0.592963 -0.065479 -0.089522   0.233201\n",
       "2022-10-27 05:55:00 -0.438447  0.000000 -0.654793  0.402847   0.252635\n",
       "2022-10-27 05:56:00  0.389731  0.724733 -0.196438 -0.402847   0.233201\n",
       "2022-10-27 05:57:00  0.487163  0.658848 -0.327397 -0.492368   0.209449\n",
       "2022-10-27 05:58:00  0.146149  0.329424 -0.065479 -0.134282   0.202972\n",
       "\n",
       "[346 rows x 5 columns]"
      ]
     },
     "metadata": {},
     "output_type": "display_data"
    },
    {
     "data": {
      "text/plain": [
       "tensor([ 1.,  1.,  0., -1., -1., -0., -0.,  0.,  1.,  1., -2., -1., -2., -1.,\n",
       "        -1., -0., -2., -1., -1., -1., -1., -1., -0., -1., -1., -2., -0., -1.,\n",
       "        -2., -1., -2., -0., -2., -2., -1., -2., -1., -1., -2., -1., -1., -2.,\n",
       "        -1., -1., -2., -1., -1., -2., -1., -0., -2., -2., -0., -2.,  0.,  1.,\n",
       "        -2., -2., -1., -1.], device='cuda:0')"
      ]
     },
     "metadata": {},
     "output_type": "display_data"
    },
    {
     "data": {
      "text/plain": [
       "tensor([ 0.,  0., -0., -1., -2., -1., -1., -0.,  0., -0., -2., -1., -3., -2.,\n",
       "        -2., -1., -3., -1., -2., -1., -2., -2., -1., -2., -1., -3., -1., -1.,\n",
       "        -3., -2., -3., -1., -2., -2., -2., -2., -1., -2., -2., -1., -1., -2.,\n",
       "        -1., -3., -2., -2., -1., -2., -1., -1., -3., -1., -1., -1., -1.,  0.,\n",
       "        -2., -1., -1., -2.], device='cuda:0')"
      ]
     },
     "metadata": {},
     "output_type": "display_data"
    },
    {
     "ename": "KeyboardInterrupt",
     "evalue": "",
     "output_type": "error",
     "traceback": [
      "\u001b[1;31m---------------------------------------------------------------------------\u001b[0m",
      "\u001b[1;31mKeyboardInterrupt\u001b[0m                         Traceback (most recent call last)",
      "\u001b[1;32m<ipython-input-241-0927bf70eb40>\u001b[0m in \u001b[0;36m<module>\u001b[1;34m\u001b[0m\n\u001b[0;32m     32\u001b[0m         \u001b[0mdisplay\u001b[0m\u001b[1;33m(\u001b[0m\u001b[1;33m(\u001b[0m\u001b[0mmodel\u001b[0m\u001b[1;33m(\u001b[0m\u001b[0mtorch\u001b[0m\u001b[1;33m.\u001b[0m\u001b[0mTensor\u001b[0m\u001b[1;33m(\u001b[0m\u001b[0mbars\u001b[0m\u001b[1;33m.\u001b[0m\u001b[0mvalues\u001b[0m\u001b[1;33m)\u001b[0m\u001b[1;33m[\u001b[0m\u001b[1;33m:\u001b[0m\u001b[1;33m-\u001b[0m\u001b[1;36m1\u001b[0m\u001b[1;33m]\u001b[0m\u001b[1;33m.\u001b[0m\u001b[0munsqueeze\u001b[0m\u001b[1;33m(\u001b[0m\u001b[1;36m0\u001b[0m\u001b[1;33m)\u001b[0m\u001b[1;33m.\u001b[0m\u001b[0mcuda\u001b[0m\u001b[1;33m(\u001b[0m\u001b[1;33m)\u001b[0m\u001b[1;33m)\u001b[0m\u001b[1;33m[\u001b[0m\u001b[1;36m0\u001b[0m\u001b[1;33m]\u001b[0m\u001b[1;33m[\u001b[0m\u001b[1;33m-\u001b[0m\u001b[1;36m1\u001b[0m\u001b[1;33m]\u001b[0m \u001b[1;33m*\u001b[0m \u001b[1;36m100\u001b[0m\u001b[1;33m)\u001b[0m\u001b[1;33m.\u001b[0m\u001b[0mround\u001b[0m\u001b[1;33m(\u001b[0m\u001b[1;33m)\u001b[0m\u001b[1;33m)\u001b[0m\u001b[1;33m\u001b[0m\u001b[1;33m\u001b[0m\u001b[0m\n\u001b[0;32m     33\u001b[0m \u001b[1;33m\u001b[0m\u001b[0m\n\u001b[1;32m---> 34\u001b[1;33m     \u001b[0mtime\u001b[0m\u001b[1;33m.\u001b[0m\u001b[0msleep\u001b[0m\u001b[1;33m(\u001b[0m\u001b[1;36m5\u001b[0m\u001b[1;33m)\u001b[0m\u001b[1;33m\u001b[0m\u001b[1;33m\u001b[0m\u001b[0m\n\u001b[0m",
      "\u001b[1;31mKeyboardInterrupt\u001b[0m: "
     ]
    }
   ],
   "source": [
    "import time\n",
    "from IPython.display import clear_output\n",
    "\n",
    "while True:\n",
    "    clear_output(wait = True)\n",
    "    # mt5 assumes you'll pass a local timezone\n",
    "    bars = mt5.copy_rates_from(\"EURUSD\", mt5.TIMEFRAME_M1, datetime.now(), 1440)\n",
    "    bars = pd.DataFrame(bars)\n",
    "\n",
    "    # use coinexx timezone to avoid confusion (where 0:00 is start of trading day)\n",
    "    bars['time'] = pd.to_datetime(bars['time'], unit='s') + timedelta(hours = 3)\n",
    "    bars = bars.set_index('time')\n",
    "\n",
    "    # preprocessing (same code as original)\n",
    "    bars['day_close'] = bars['close'].sub(bars.groupby(bars.index.day)['close'].transform('first'), axis = 0)\n",
    "    bars[['open', 'high', 'low']] = bars[['open', 'high', 'low']].sub(bars['close'], axis = 0)\n",
    "    bars['close'] = bars['close'] - bars['close'].shift(1)\n",
    "\n",
    "    # filter to only today\n",
    "    bars = bars[bars.index.day == bars.index.day[-1]]\n",
    "\n",
    "    bars = bars[['open', 'high', 'low', 'close', 'day_close']]\n",
    "    bars = bars.div(stds['EURUSD'], axis = 1)\n",
    "\n",
    "    # # get rid of partial last close\n",
    "    # bars = bars.iloc[:-1]\n",
    "    display(bars)\n",
    "\n",
    "    with torch.no_grad():\n",
    "        model = model.eval()\n",
    "        display((model(torch.Tensor(bars.values).unsqueeze(0).cuda())[0][-1] * 100).round())\n",
    "        display((model(torch.Tensor(bars.values)[:-1].unsqueeze(0).cuda())[0][-1] * 100).round())\n",
    "    \n",
    "    time.sleep(5)"
   ]
  },
  {
   "cell_type": "code",
   "execution_count": 246,
   "metadata": {},
   "outputs": [
    {
     "data": {
      "text/plain": [
       "tensor([-6., -7.,  7.,  9.,  5., -2.,  1., -3., -6., -3., -3., -6., -5., -1.,\n",
       "         2.,  6.,  1.,  6.,  2.,  4.,  2.,  6.,  6.,  8.,  6.,  4.,  2.,  6.,\n",
       "         2.,  4.,  6.,  1.,  4.,  2.,  0., -0.,  1., -2.,  0.,  1.,  4.,  6.,\n",
       "         5.,  1.,  5.,  1.,  1.,  4.,  6.,  4.,  6.,  6.,  8.,  7.,  8.,  9.,\n",
       "         9.,  5.,  2., -0.,  5.,  3.,  4.,  5.,  7.,  4.,  5.,  6.,  5.,  1.,\n",
       "         5.,  6.,  7.,  5.,  7.,  6.,  7.,  8.,  4.,  2.,  5.,  5.,  6.,  6.,\n",
       "         2.,  1.,  4.,  5.,  4.,  6.,  3.,  5.,  1., -2.,  4.,  2.,  2.,  3.,\n",
       "         5.,  3.,  1.,  1., -1.,  2.,  4.,  2.,  4.,  4.,  3., -0.,  4.,  5.,\n",
       "         2., -1., -3., -3., -2., -2.,  2., -2.,  3.,  3.,  1., -1., -3., -3.,\n",
       "        -5., -1., -0.,  1.,  3.,  1., -1., -2.,  2.,  1.,  2.,  5.,  1.,  4.,\n",
       "         6.,  3.,  4.,  0.,  4.,  2.,  6.,  2.,  1.,  4.,  2.,  1.,  1.,  4.,\n",
       "         2., -1.,  0., -3., -5., -6.,  0., -0., -3., -5., -4., -4., -1., -2.,\n",
       "        -3., -1., -0., -3.,  1., -2.,  1., -1.,  2., -1.,  2.,  4.,  3., -1.,\n",
       "        -2., -3., -4., -3., -6., -3., -1., -6.,  1., 19., 21., 21., 22., 22.,\n",
       "        22., 17.,  7.,  2.,  2., 10.,  9., 10.,  6.,  1.,  7.,  5.,  2.,  6.,\n",
       "         4.,  9., 12., 12.,  5.,  8.,  7.,  1., -2.,  0.,  6.,  2., -1., 14.,\n",
       "        14., 10., 11., 11., 12., 11., 10., 10.,  9., 11.,  6.,  8.,  5.,  5.,\n",
       "        -0.,  6.,  3.,  4., -0.,  1., -3., -4., -5., -0.,  2.,  5.,  6.,  2.,\n",
       "        -0.,  4.,  2.,  2.,  0., -0.,  3., -1.,  2.,  3.,  2.,  5.,  2.,  3.,\n",
       "         0.,  1.,  3.,  2.,  2.,  3.,  3.,  4.,  3.,  6.,  4., -1.,  4.,  3.,\n",
       "         3., -1.,  4.,  5.,  6.,  6.,  4.,  2.,  1.,  2., -1., -3., -4., -5.,\n",
       "        -3., -3., -1., -4., -4., -5., -7., -3., -3., -5., -3., -4., -5., -6.,\n",
       "        -2.,  0., -2., -3., -4., -4., -1., -2.,  1.,  1., -1., -3., -4., -1.,\n",
       "         1., -0.,  0., -1., -1., -1., -0., -0., -2., -2., -3., -4., -2., -3.,\n",
       "        -4., -4., -4., -6., -6., -4., -6., -4., -1., -1.], device='cuda:0')"
      ]
     },
     "metadata": {},
     "output_type": "display_data"
    }
   ],
   "source": [
    "with torch.no_grad():\n",
    "    display((model(torch.Tensor(bars.values).unsqueeze(0).cuda())[0].mean(dim = 1)* 100).round())"
   ]
  },
  {
   "cell_type": "code",
   "execution_count": null,
   "metadata": {},
   "outputs": [],
   "source": []
  }
 ],
 "metadata": {
  "kernelspec": {
   "display_name": "Python 3",
   "language": "python",
   "name": "python3"
  },
  "language_info": {
   "codemirror_mode": {
    "name": "ipython",
    "version": 3
   },
   "file_extension": ".py",
   "mimetype": "text/x-python",
   "name": "python",
   "nbconvert_exporter": "python",
   "pygments_lexer": "ipython3",
   "version": "3.8.5"
  }
 },
 "nbformat": 4,
 "nbformat_minor": 4
}
