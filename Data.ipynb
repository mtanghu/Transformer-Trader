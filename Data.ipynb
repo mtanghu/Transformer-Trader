{
 "cells": [
  {
   "cell_type": "markdown",
   "metadata": {
    "tags": []
   },
   "source": [
    "# All data"
   ]
  },
  {
   "cell_type": "code",
   "execution_count": 1,
   "metadata": {},
   "outputs": [],
   "source": [
    "import os\n",
    "import shutil\n",
    "import pandas as pd\n",
    "from pandas import Timedelta\n",
    "import numpy as np\n",
    "\n",
    "import datasets\n",
    "from datasets import Dataset, concatenate_datasets"
   ]
  },
  {
   "cell_type": "markdown",
   "metadata": {},
   "source": [
    "# Processing functions"
   ]
  },
  {
   "cell_type": "code",
   "execution_count": 2,
   "metadata": {},
   "outputs": [],
   "source": [
    "def preprocess(filename):\n",
    "    fx = pd.read_csv(filename)\n",
    "    \n",
    "    fx['datetime'] = pd.to_datetime(fx['datetime'], infer_datetime_format = True)\n",
    "    # fx = fx[fx['datetime'].dt.year >= 2009].reset_index(drop = True)\n",
    "    \n",
    "    # convert to eastern time so that day light savings can be removed then back to UTC\n",
    "    fx['datetime'] = fx['datetime'].dt.tz_localize(\n",
    "        'US/Eastern', ambiguous = fx['datetime'].astype(bool), nonexistent='shift_forward'\n",
    "    )\n",
    "    fx['datetime'] = fx['datetime'].dt.tz_convert(None) - Timedelta('5 hours')\n",
    "    fx = fx.drop_duplicates(subset = 'datetime', keep = 'last')\n",
    "    assert not fx.duplicated(subset = 'datetime').any()\n",
    "    \n",
    "    # forward previous prices to fill time gaps\n",
    "    fx = fx.set_index('datetime').asfreq('1min')\n",
    "    fx['close'] = fx['close'].fillna(method = 'ffill')\n",
    "    fx['volume'] = fx['volume'].fillna(0) # no volume in gaps (according to first rate data people)\n",
    "\n",
    "    # fill open, high, and low with most recent close\n",
    "    fx = fx.fillna({\n",
    "        'open': fx['close'],\n",
    "        'high': fx['close'],\n",
    "        'low': fx['close']\n",
    "    })\n",
    "    \n",
    "    # define the \"trading day\" as from starting on 10pm UTC of the previous day ending at 9:59pm UTC\n",
    "    fx['day'] = fx.index.dayofweek \n",
    "    fx.loc[fx.between_time('22:00', '23:59').index, 'day'] += 1\n",
    "    fx['day'] = fx['day'] % 7 # sunday = 6, then + 1 would be 7 but we want that roll over to monday = 0\n",
    "\n",
    "    # ordinal trading day since start of data (just for help in preprocessing)\n",
    "    fx['ordinal_day'] = (fx['day'] != fx['day'].shift()).cumsum()\n",
    "\n",
    "    return fx\n",
    "\n",
    "\n",
    "\n",
    "def create_training_data(fx, periods, leverage):\n",
    "    # let's just arbitrary say there should be less than 400 zero volume -- shouldn't really mattter in the end\n",
    "    voluminous_index = (fx['volume'] == 0.).groupby(fx['ordinal_day']).filter(lambda x: x.sum() < 400).index\n",
    "    fx = fx.loc[voluminous_index]\n",
    "\n",
    "    # calculate future deltas\n",
    "    futures = {}\n",
    "    for i in periods:\n",
    "        futures_name = f'future_diff{i}'\n",
    "        future_diff = leverage * (fx['close'].shift(-i) - fx['close']) / fx['close']\n",
    "        futures[futures_name] = future_diff\n",
    "\n",
    "    futures_df = pd.DataFrame(futures).fillna(0)\n",
    "    future_cols = futures_df.columns\n",
    "    fx = pd.concat((fx, futures_df), axis = 1)\n",
    "\n",
    "    # clean up data odditity of future columns coming from the future of non-consecutive days (i.e. no overnight trading)\n",
    "    overnight_masks = {}\n",
    "    for i in periods:\n",
    "        futures_name = f'future_diff{i}'\n",
    "        no_futures = fx.between_time(f'{21 - i // 60}:{59 - i % 60}', '21:59').index\n",
    "        fx.loc[no_futures, futures_name] = 0\n",
    "        \n",
    "        # also create a mask for overnight trades\n",
    "        mask_name = f'overnight_mask{i}'\n",
    "        mask = pd.Series(0, index = fx.index)\n",
    "        mask.loc[no_futures] = 1\n",
    "        \n",
    "        # also mask out the zeros (i.e. no change) in the future columns\n",
    "        mask.loc[fx[futures_name] == 0] = 1\n",
    "\n",
    "        overnight_masks[mask_name] = mask\n",
    "    \n",
    "    masks_df = pd.DataFrame(overnight_masks)\n",
    "    mask_cols = masks_df.columns\n",
    "    fx = pd.concat((fx, masks_df), axis = 1)\n",
    "\n",
    "    return fx, future_cols, mask_cols\n",
    "\n",
    "\n",
    "\n",
    "def demean(fx):\n",
    "    # de mean prices by turning them into % change from previous minute close\n",
    "    price_features = ['open', 'high', 'low', 'close']\n",
    "    fx[price_features] = fx[price_features].subtract(fx['close'].shift(1), axis = 0)\n",
    "    fx[price_features] = fx[price_features].div(fx['close'].shift(1), axis = 0)\n",
    "        \n",
    "    # de mean volume using 200ma (exact number doesn't matter much)\n",
    "    fx[\"volume\"] = fx['volume'] - fx['volume'].groupby(fx['ordinal_day']).rolling(200, min_periods = 0).mean().reset_index(drop = True, level = 0)\n",
    "\n",
    "    return fx"
   ]
  },
  {
   "cell_type": "code",
   "execution_count": 3,
   "metadata": {},
   "outputs": [],
   "source": [
    "def make_dataset(filename, periods = [5, 10, 15, 20, 30, 45, 60, 90, 120],\n",
    "                 leverage = 200, return_df = False,\n",
    "                 bins = None, stds = None, squash_factor = 4,\n",
    "                 features = ['open', 'high', 'low', 'close', 'volume']):\n",
    "\n",
    "    # fix timezones, gaps, and interpolate missing data\n",
    "    fx = preprocess(filename)\n",
    "\n",
    "    # add future columns and overnight masks for training purposes\n",
    "    fx, future_cols, mask_cols = create_training_data(fx, periods, leverage)\n",
    "\n",
    "    # remove means from price data & volume\n",
    "    fx = demean(fx)\n",
    "\n",
    "    # get rid of first day and last day due to data incompleteness\n",
    "    fx = fx.drop(fx[fx['ordinal_day'] == fx['ordinal_day'].min()].index)\n",
    "    fx = fx.drop(fx[fx['ordinal_day'] == fx['ordinal_day'].max()].index)\n",
    "    \n",
    "    if return_df:\n",
    "        return fx\n",
    "\n",
    "    # create labels column for classification\n",
    "    assert bins is not None, \"bins are needed to form dataset\"\n",
    "    labels = {}\n",
    "    for col in future_cols:\n",
    "        labels[col] = pd.cut(fx[col], bins[col], labels = False)\n",
    "\n",
    "    labels_df = pd.DataFrame(labels).astype(int)\n",
    "        \n",
    "    # standardize data\n",
    "    assert stds is not None, \"stds are needed to form dataset\"\n",
    "    fx[features] = fx[features].div(stds, axis = 1)\n",
    "    \n",
    "    # squash data (to help limit OOD)\n",
    "    fx[features] = squash_factor * np.tanh(fx[features] / squash_factor)\n",
    "\n",
    "    ohlcv = fx[features].values.reshape(-1, 1440, len(features))\n",
    "    masks = fx[mask_cols].values.reshape(-1, 1440, len(periods))\n",
    "    future = fx[future_cols].values.reshape(-1, 1440, len(periods))\n",
    "    classes = labels_df.values.reshape(-1, 1440, len(periods))\n",
    "    \n",
    "    ds = Dataset.from_dict({\n",
    "        \"ohlcv\": ohlcv, \"overnight_masks\": masks,\n",
    "        \"labels\": future, \"classes\": classes\n",
    "    })\n",
    "\n",
    "    return ds, stds\n",
    "\n",
    "\n",
    "def get_standards(leverage, features):\n",
    "    # just using EUR/USD for now for simplicity\n",
    "    curr = make_dataset(\"Currency_Data/OANDA/EUR_USD.csv\", leverage = leverage, return_df = True)\n",
    "    future_cols = curr.columns[curr.columns.str.contains('future')]\n",
    "\n",
    "    bin_map = {}\n",
    "    for col in future_cols:\n",
    "        no_zeros = curr[col][curr[col] != 0]\n",
    "        \n",
    "        # get the number of cuts to make so that the middle bin only changes by .004 (i.e. commission)\n",
    "        num_cuts = int(1 / (1 - (no_zeros.abs() > .004).mean()))\n",
    "        \n",
    "        # make the number of cuts odd so that there is a middle bin\n",
    "        if num_cuts % 2 == 0:\n",
    "            num_cuts -= 1\n",
    "        \n",
    "        cut_array = pd.qcut(no_zeros, num_cuts, labels = False, retbins = True)[1]\n",
    "\n",
    "        # expand the first and last bins to include all values\n",
    "        cut_array[0] = -np.inf\n",
    "        cut_array[-1] = np.inf\n",
    "\n",
    "        bin_map[col] = cut_array\n",
    "        \n",
    "    stds = curr.iloc[:int(len(curr) * .9)][features].std(axis = 0)\n",
    "    \n",
    "    return bin_map, stds"
   ]
  },
  {
   "cell_type": "markdown",
   "metadata": {},
   "source": [
    "## Start with processing all CSVs to datasets"
   ]
  },
  {
   "cell_type": "code",
   "execution_count": 4,
   "metadata": {},
   "outputs": [],
   "source": [
    "data_dir = './Currency_Data/OANDA/'"
   ]
  },
  {
   "cell_type": "code",
   "execution_count": null,
   "metadata": {},
   "outputs": [],
   "source": [
    "leverage = 200\n",
    "features = ['open', 'high', 'low', 'close', 'volume']\n",
    "\n",
    "bins, stds = get_standards(leverage = leverage, features = features)\n",
    "stds.to_csv(\"Currency_Data/stds.csv\")\n",
    "\n",
    "# for file in majors: # if only majors are wanted\n",
    "for file in os.listdir(data_dir):\n",
    "    dataset, stds = make_dataset(\n",
    "        data_dir + file, leverage = leverage,\n",
    "        bins = bins, stds = stds, features = features\n",
    "    )\n",
    "    directory = f\"Currency_Data/OANDA_DS/{file[:7]}.ds\"\n",
    "    shutil.rmtree(directory, ignore_errors = True)\n",
    "    dataset.save_to_disk(directory)\n",
    "    print(file, end = '\\r')"
   ]
  },
  {
   "cell_type": "markdown",
   "metadata": {},
   "source": [
    "## Concat all datasets (done in 2 stages due to save memory at little to no time cost)"
   ]
  },
  {
   "cell_type": "code",
   "execution_count": 6,
   "metadata": {},
   "outputs": [
    {
     "data": {
      "text/plain": [
       "['XAU_NZD.ds', 'XAU_SGD.ds', 'XAU_XAG.ds', 'ZAR_JPY.ds', 'EUR_USD.ds']"
      ]
     },
     "execution_count": 6,
     "metadata": {},
     "output_type": "execute_result"
    }
   ],
   "source": [
    "data_dir = './Currency_Data/OANDA_DS/'\n",
    "filenames = os.listdir(data_dir)\n",
    "\n",
    "# put eur_usd at the end to form testing/validation sets\n",
    "filenames.remove('EUR_USD.ds')\n",
    "assert 'EUR_USD.ds' not in filenames\n",
    "filenames.append('EUR_USD.ds')\n",
    "filenames[-5:]"
   ]
  },
  {
   "cell_type": "code",
   "execution_count": 7,
   "metadata": {},
   "outputs": [],
   "source": [
    "list_ds = [datasets.load_from_disk(data_dir + filename) for filename in filenames]\n",
    "all_datasets = concatenate_datasets(list_ds)"
   ]
  },
  {
   "cell_type": "code",
   "execution_count": 8,
   "metadata": {},
   "outputs": [],
   "source": [
    "shutil.rmtree(\"Currency_Data/fx_days\", ignore_errors=True)\n",
    "all_datasets.save_to_disk(\"Currency_Data/fx_days\")"
   ]
  },
  {
   "cell_type": "code",
   "execution_count": 9,
   "metadata": {},
   "outputs": [
    {
     "data": {
      "text/plain": [
       "Dataset({\n",
       "    features: ['ohlcv', 'overnight_masks', 'labels', 'classes'],\n",
       "    num_rows: 361932\n",
       "})"
      ]
     },
     "execution_count": 9,
     "metadata": {},
     "output_type": "execute_result"
    }
   ],
   "source": [
    "datasets.load_from_disk(\"Currency_Data/fx_days\")"
   ]
  },
  {
   "cell_type": "markdown",
   "metadata": {},
   "source": [
    "# Random data (to test models/pipeline)"
   ]
  },
  {
   "cell_type": "markdown",
   "metadata": {},
   "source": [
    "### I want the data to be as realistic as possible\n",
    "- volatility should scale with price\n",
    "- prices should be > 0 (i.e. cap losses at 90%, also cap gains at %90 for balance)\n",
    "\n",
    "### General technical points\n",
    "- Use a log1p sum, that's exponentiated\n",
    "- ensure (mathematically) that from any starting point, expected value is 0 -- which would follow naturally from martingale property\n",
    "- Try to match EURUSD volitility in distribution, consider fitting a cauchy distribution with mean 0, maybe just visually is fine (leverage will still be 200x)\n",
    "- don't need to worry about overnight big differences since overnights are ignored\n",
    "\n",
    "### Implementation\n",
    "- to retrofit, simply start with the EURUSD file and replace closes with capped random numbers, log1p then cumsum then exp\n",
    "- set open to previous close * some distribution (visually find a good choice)\n",
    "- set high to be max(open, close) * some positive distribution (visually find a good choice)\n",
    "- set low to be min(open, close) / some positive distribution (use same as high)\n",
    "- set volume to be cauchy with similar mean and gamma (visually)\n",
    "\n",
    "### Organizational notes\n",
    "- want at least the same dataset size as before (i.e. 10 currencies worth), just load and randomize eurusd 10 times\n",
    "- create a randomize function\n",
    "- move functions to a python file since only make_dataset() is used in this notebook"
   ]
  },
  {
   "cell_type": "markdown",
   "metadata": {},
   "source": [
    "# Just EURUSD for observational purposes"
   ]
  },
  {
   "cell_type": "code",
   "execution_count": 5,
   "metadata": {},
   "outputs": [],
   "source": [
    "import pandas as pd\n",
    "from pandas import Timedelta\n",
    "import numpy as np\n",
    "\n",
    "from datasets import Dataset"
   ]
  },
  {
   "cell_type": "code",
   "execution_count": 6,
   "metadata": {},
   "outputs": [],
   "source": [
    "fx = pd.read_csv('Currency_Data/OANDA/EUR_USD.csv')\n",
    "\n",
    "fx['datetime'] = pd.to_datetime(fx['datetime'], infer_datetime_format = True)"
   ]
  },
  {
   "cell_type": "code",
   "execution_count": 7,
   "metadata": {},
   "outputs": [
    {
     "data": {
      "text/plain": [
       "False"
      ]
     },
     "execution_count": 7,
     "metadata": {},
     "output_type": "execute_result"
    }
   ],
   "source": [
    "fx.duplicated(subset = 'datetime').any()"
   ]
  },
  {
   "cell_type": "code",
   "execution_count": 8,
   "metadata": {},
   "outputs": [],
   "source": [
    "# convert to eastern time so that day light savings can be removed then back to UTC\n",
    "fx['datetime'] = fx['datetime'].dt.tz_localize(\n",
    "    'US/Eastern', ambiguous = fx['datetime'].astype(bool), nonexistent='shift_forward'\n",
    ")\n",
    "fx['datetime'] = fx['datetime'].dt.tz_convert(None) - Timedelta('5 hours')\n",
    "assert not fx.duplicated(subset = 'datetime').any()"
   ]
  },
  {
   "cell_type": "code",
   "execution_count": 9,
   "metadata": {},
   "outputs": [],
   "source": [
    "# Linearly interpolate time gaps\n",
    "fx = fx.set_index('datetime').asfreq('1min')\n",
    "fx['close'] = fx['close'].fillna(method = 'ffill')\n",
    "fx['volume'] = fx['volume'].fillna(0) # no volume in gaps (according to first rate data people)\n",
    "\n",
    "# fill open high and low with most recent close\n",
    "fx = fx.fillna({\n",
    "    'open': fx['close'],\n",
    "    'high': fx['close'],\n",
    "    'low': fx['close']\n",
    "})"
   ]
  },
  {
   "cell_type": "code",
   "execution_count": 10,
   "metadata": {},
   "outputs": [],
   "source": [
    "# define the \"trading day\" as from starting on 9pm UTC of the previous day ending at 8:59pm UTC\n",
    "fx['day'] = fx.index.dayofweek \n",
    "fx.loc[fx.between_time('22:00', '23:59').index, 'day'] += 1\n",
    "fx['day'] = fx['day'] % 7 # sunday = 6, then + 1 would be 7 but we want that roll over to monday = 0\n",
    "\n",
    "# ordinal trading day since start of data (just for help in preprocessing)\n",
    "fx['ordinal_day'] = (fx['day'] != fx['day'].shift()).cumsum()"
   ]
  },
  {
   "cell_type": "code",
   "execution_count": 11,
   "metadata": {},
   "outputs": [
    {
     "data": {
      "text/plain": [
       "<AxesSubplot:>"
      ]
     },
     "execution_count": 11,
     "metadata": {},
     "output_type": "execute_result"
    },
    {
     "data": {
      "image/png": "[encoded data removed]",
      "text/plain": [
       "<Figure size 432x288 with 1 Axes>"
      ]
     },
     "metadata": {
      "needs_background": "light"
     },
     "output_type": "display_data"
    }
   ],
   "source": [
    "# look at distribution of how many 0 volume minute\n",
    "(fx['volume'] == 0.).groupby(fx['ordinal_day']).sum().hist(bins = 30)"
   ]
  },
  {
   "cell_type": "code",
   "execution_count": 12,
   "metadata": {},
   "outputs": [],
   "source": [
    "# let's just arbitrary say there should be less than 100 zero volume -- shouldn't really mattter in the end\n",
    "voluminous_index = (fx['volume'] == 0.).groupby(fx['ordinal_day']).filter(lambda x: x.sum() < 200).index\n",
    "fx = fx.loc[voluminous_index]"
   ]
  },
  {
   "cell_type": "code",
   "execution_count": 13,
   "metadata": {},
   "outputs": [
    {
     "data": {
      "text/html": [
       "<div>\n",
       "<style scoped>\n",
       "    .dataframe tbody tr th:only-of-type {\n",
       "        vertical-align: middle;\n",
       "    }\n",
       "\n",
       "    .dataframe tbody tr th {\n",
       "        vertical-align: top;\n",
       "    }\n",
       "\n",
       "    .dataframe thead th {\n",
       "        text-align: right;\n",
       "    }\n",
       "</style>\n",
       "<table border=\"1\" class=\"dataframe\">\n",
       "  <thead>\n",
       "    <tr style=\"text-align: right;\">\n",
       "      <th></th>\n",
       "      <th>close</th>\n",
       "      <th>high</th>\n",
       "      <th>low</th>\n",
       "      <th>open</th>\n",
       "      <th>volume</th>\n",
       "      <th>day</th>\n",
       "      <th>ordinal_day</th>\n",
       "    </tr>\n",
       "    <tr>\n",
       "      <th>datetime</th>\n",
       "      <th></th>\n",
       "      <th></th>\n",
       "      <th></th>\n",
       "      <th></th>\n",
       "      <th></th>\n",
       "      <th></th>\n",
       "      <th></th>\n",
       "    </tr>\n",
       "  </thead>\n",
       "  <tbody>\n",
       "    <tr>\n",
       "      <th>2005-01-02 21:59:00</th>\n",
       "      <td>1.35475</td>\n",
       "      <td>1.35475</td>\n",
       "      <td>1.35475</td>\n",
       "      <td>1.35475</td>\n",
       "      <td>0.0</td>\n",
       "      <td>6</td>\n",
       "      <td>1</td>\n",
       "    </tr>\n",
       "    <tr>\n",
       "      <th>2005-01-02 22:00:00</th>\n",
       "      <td>1.35475</td>\n",
       "      <td>1.35475</td>\n",
       "      <td>1.35475</td>\n",
       "      <td>1.35475</td>\n",
       "      <td>0.0</td>\n",
       "      <td>0</td>\n",
       "      <td>2</td>\n",
       "    </tr>\n",
       "    <tr>\n",
       "      <th>2005-01-02 22:01:00</th>\n",
       "      <td>1.35475</td>\n",
       "      <td>1.35475</td>\n",
       "      <td>1.35475</td>\n",
       "      <td>1.35475</td>\n",
       "      <td>0.0</td>\n",
       "      <td>0</td>\n",
       "      <td>2</td>\n",
       "    </tr>\n",
       "    <tr>\n",
       "      <th>2005-01-03 21:59:00</th>\n",
       "      <td>1.34640</td>\n",
       "      <td>1.34650</td>\n",
       "      <td>1.34630</td>\n",
       "      <td>1.34650</td>\n",
       "      <td>6.0</td>\n",
       "      <td>0</td>\n",
       "      <td>2</td>\n",
       "    </tr>\n",
       "    <tr>\n",
       "      <th>2005-01-03 22:00:00</th>\n",
       "      <td>1.34650</td>\n",
       "      <td>1.34660</td>\n",
       "      <td>1.34640</td>\n",
       "      <td>1.34640</td>\n",
       "      <td>7.0</td>\n",
       "      <td>1</td>\n",
       "      <td>3</td>\n",
       "    </tr>\n",
       "    <tr>\n",
       "      <th>...</th>\n",
       "      <td>...</td>\n",
       "      <td>...</td>\n",
       "      <td>...</td>\n",
       "      <td>...</td>\n",
       "      <td>...</td>\n",
       "      <td>...</td>\n",
       "      <td>...</td>\n",
       "    </tr>\n",
       "    <tr>\n",
       "      <th>2023-02-14 22:00:00</th>\n",
       "      <td>1.07348</td>\n",
       "      <td>1.07348</td>\n",
       "      <td>1.07348</td>\n",
       "      <td>1.07348</td>\n",
       "      <td>0.0</td>\n",
       "      <td>2</td>\n",
       "      <td>6619</td>\n",
       "    </tr>\n",
       "    <tr>\n",
       "      <th>2023-02-14 22:01:00</th>\n",
       "      <td>1.07348</td>\n",
       "      <td>1.07348</td>\n",
       "      <td>1.07348</td>\n",
       "      <td>1.07348</td>\n",
       "      <td>0.0</td>\n",
       "      <td>2</td>\n",
       "      <td>6619</td>\n",
       "    </tr>\n",
       "    <tr>\n",
       "      <th>2023-02-15 21:59:00</th>\n",
       "      <td>1.06872</td>\n",
       "      <td>1.06872</td>\n",
       "      <td>1.06872</td>\n",
       "      <td>1.06872</td>\n",
       "      <td>0.0</td>\n",
       "      <td>2</td>\n",
       "      <td>6619</td>\n",
       "    </tr>\n",
       "    <tr>\n",
       "      <th>2023-02-15 22:00:00</th>\n",
       "      <td>1.06872</td>\n",
       "      <td>1.06872</td>\n",
       "      <td>1.06872</td>\n",
       "      <td>1.06872</td>\n",
       "      <td>0.0</td>\n",
       "      <td>3</td>\n",
       "      <td>6620</td>\n",
       "    </tr>\n",
       "    <tr>\n",
       "      <th>2023-02-15 22:01:00</th>\n",
       "      <td>1.06872</td>\n",
       "      <td>1.06872</td>\n",
       "      <td>1.06872</td>\n",
       "      <td>1.06872</td>\n",
       "      <td>0.0</td>\n",
       "      <td>3</td>\n",
       "      <td>6620</td>\n",
       "    </tr>\n",
       "  </tbody>\n",
       "</table>\n",
       "<p>13905 rows × 7 columns</p>\n",
       "</div>"
      ],
      "text/plain": [
       "                       close     high      low     open  volume  day  \\\n",
       "datetime                                                               \n",
       "2005-01-02 21:59:00  1.35475  1.35475  1.35475  1.35475     0.0    6   \n",
       "2005-01-02 22:00:00  1.35475  1.35475  1.35475  1.35475     0.0    0   \n",
       "2005-01-02 22:01:00  1.35475  1.35475  1.35475  1.35475     0.0    0   \n",
       "2005-01-03 21:59:00  1.34640  1.34650  1.34630  1.34650     6.0    0   \n",
       "2005-01-03 22:00:00  1.34650  1.34660  1.34640  1.34640     7.0    1   \n",
       "...                      ...      ...      ...      ...     ...  ...   \n",
       "2023-02-14 22:00:00  1.07348  1.07348  1.07348  1.07348     0.0    2   \n",
       "2023-02-14 22:01:00  1.07348  1.07348  1.07348  1.07348     0.0    2   \n",
       "2023-02-15 21:59:00  1.06872  1.06872  1.06872  1.06872     0.0    2   \n",
       "2023-02-15 22:00:00  1.06872  1.06872  1.06872  1.06872     0.0    3   \n",
       "2023-02-15 22:01:00  1.06872  1.06872  1.06872  1.06872     0.0    3   \n",
       "\n",
       "                     ordinal_day  \n",
       "datetime                          \n",
       "2005-01-02 21:59:00            1  \n",
       "2005-01-02 22:00:00            2  \n",
       "2005-01-02 22:01:00            2  \n",
       "2005-01-03 21:59:00            2  \n",
       "2005-01-03 22:00:00            3  \n",
       "...                          ...  \n",
       "2023-02-14 22:00:00         6619  \n",
       "2023-02-14 22:01:00         6619  \n",
       "2023-02-15 21:59:00         6619  \n",
       "2023-02-15 22:00:00         6620  \n",
       "2023-02-15 22:01:00         6620  \n",
       "\n",
       "[13905 rows x 7 columns]"
      ]
     },
     "execution_count": 13,
     "metadata": {},
     "output_type": "execute_result"
    }
   ],
   "source": [
    "# quick sanity check of data \n",
    "fx.between_time('21:59', '22:01')"
   ]
  },
  {
   "cell_type": "markdown",
   "metadata": {},
   "source": [
    "# Normalizing inputs analysis"
   ]
  },
  {
   "cell_type": "code",
   "execution_count": 14,
   "metadata": {},
   "outputs": [],
   "source": [
    "# demean close by subtracting from previous minute\n",
    "normal = (fx['close'] - fx['close'].shift(1)) / fx['close'].shift(1)\n",
    "\n",
    "# zero out if the previous minute came from skip in days (makes very little difference in distribution)\n",
    "# skips = ((fx['ordinal_day'] - fx['ordinal_day'].shift(1)) > 1)\n",
    "# normal.loc[skips] = 0\n",
    "\n",
    "normal = normal / normal.std()\n",
    "normal = normal.fillna(0)"
   ]
  },
  {
   "cell_type": "markdown",
   "metadata": {},
   "source": [
    "## Especially since financial data is very very fat tailed, a squashing function seems desirable to help keep inputs within distribution"
   ]
  },
  {
   "cell_type": "code",
   "execution_count": 15,
   "metadata": {},
   "outputs": [
    {
     "data": {
      "text/plain": [
       "[]"
      ]
     },
     "execution_count": 15,
     "metadata": {},
     "output_type": "execute_result"
    },
    {
     "data": {
      "image/png": "[encoded data removed]",
      "text/plain": [
       "<Figure size 432x288 with 1 Axes>"
      ]
     },
     "metadata": {
      "needs_background": "light"
     },
     "output_type": "display_data"
    }
   ],
   "source": [
    "ax = np.tanh(normal).hist(bins = 20)\n",
    "ax.hist(np.random.normal(size = len(normal)), bins = 20, alpha = .4)\n",
    "ax.plot()"
   ]
  },
  {
   "cell_type": "markdown",
   "metadata": {},
   "source": [
    "compared to the normal distribution in orange, the tail distribution looks quite off. Let's changes the squashing factor of the tanh"
   ]
  },
  {
   "cell_type": "code",
   "execution_count": 16,
   "metadata": {},
   "outputs": [
    {
     "data": {
      "text/plain": [
       "[]"
      ]
     },
     "execution_count": 16,
     "metadata": {},
     "output_type": "execute_result"
    },
    {
     "data": {
      "image/png": "[encoded data removed]",
      "text/plain": [
       "<Figure size 432x288 with 1 Axes>"
      ]
     },
     "metadata": {
      "needs_background": "light"
     },
     "output_type": "display_data"
    }
   ],
   "source": [
    "squash_factor = 2\n",
    "ax = (squash_factor * np.tanh(normal / squash_factor)).hist(bins = 20)\n",
    "ax.hist(np.random.normal(size = len(normal)), bins = 20, alpha = .4)\n",
    "ax.plot()"
   ]
  },
  {
   "cell_type": "code",
   "execution_count": 17,
   "metadata": {},
   "outputs": [
    {
     "data": {
      "text/plain": [
       "[]"
      ]
     },
     "execution_count": 17,
     "metadata": {},
     "output_type": "execute_result"
    },
    {
     "data": {
      "image/png": "[encoded data removed]",
      "text/plain": [
       "<Figure size 432x288 with 1 Axes>"
      ]
     },
     "metadata": {
      "needs_background": "light"
     },
     "output_type": "display_data"
    }
   ],
   "source": [
    "squash_factor = 4\n",
    "ax = (squash_factor * np.tanh(normal / squash_factor)).hist(bins = 20)\n",
    "ax.hist(np.random.normal(size = len(normal)), bins = 20, alpha = .4)\n",
    "ax.plot()"
   ]
  },
  {
   "cell_type": "markdown",
   "metadata": {},
   "source": [
    "squash factor of 4 seems to have the most natural looking tail distribution that about lines up with normal (not a rigorous analysis, but ultimately this should be a pretty minor hyperparameter)"
   ]
  },
  {
   "cell_type": "markdown",
   "metadata": {},
   "source": [
    "# Leverage Analysis"
   ]
  },
  {
   "cell_type": "code",
   "execution_count": 18,
   "metadata": {},
   "outputs": [],
   "source": [
    "periods = [5, 10, 15, 20, 30, 45, 60, 90, 120]\n",
    "\n",
    "# let's just arbitrary say there should be less than 400 zero volume -- shouldn't really mattter in the end\n",
    "voluminous_index = (fx['volume'] == 0.).groupby(fx['ordinal_day']).filter(lambda x: x.sum() < 400).index\n",
    "fx = fx.loc[voluminous_index]\n",
    "\n",
    "# calculate future deltas\n",
    "futures = {}\n",
    "for i in periods:\n",
    "    futures_name = f'future_diff{i}'\n",
    "    future_diff = (fx['close'].shift(-i) - fx['close']) / fx['close']\n",
    "    futures[futures_name] = future_diff\n",
    "\n",
    "futures_df = pd.DataFrame(futures)\n",
    "future_cols = futures_df.columns\n",
    "fx = pd.concat((fx, futures_df), axis = 1)\n",
    "\n",
    "# clean up data odditity of future columns coming from the future of non-consecutive days (i.e. no overnight trading)\n",
    "overnight_masks = {}\n",
    "fx['day_break'] = ((fx['day'] != (fx['day']).shift(-1)) & (fx['day'] != (fx['day'] - 1).shift(-1)))\n",
    "broken_days = fx[fx.groupby('ordinal_day')['day_break'].transform('any')]\n",
    "for i in periods:\n",
    "    futures_name = f'future_diff{i}'\n",
    "    no_futures = broken_days.between_time(f'{21 - i // 60}:{59 - i % 60}', '21:59').index\n",
    "    fx.loc[no_futures, futures_name] = 0"
   ]
  },
  {
   "cell_type": "code",
   "execution_count": 19,
   "metadata": {},
   "outputs": [
    {
     "data": {
      "text/plain": [
       "0.17397951978079285"
      ]
     },
     "execution_count": 19,
     "metadata": {},
     "output_type": "execute_result"
    },
    {
     "data": {
      "image/png": "[encoded data removed]",
      "text/plain": [
       "<Figure size 432x288 with 1 Axes>"
      ]
     },
     "metadata": {
      "needs_background": "light"
     },
     "output_type": "display_data"
    }
   ],
   "source": [
    "lev_5 = 500 * fx['future_diff5']\n",
    "lev_5.hist(bins = 100)\n",
    "lev_5.std()"
   ]
  },
  {
   "cell_type": "code",
   "execution_count": 20,
   "metadata": {},
   "outputs": [
    {
     "data": {
      "text/plain": [
       "0.41519973550789163"
      ]
     },
     "execution_count": 20,
     "metadata": {},
     "output_type": "execute_result"
    },
    {
     "data": {
      "image/png": "[encoded data removed]",
      "text/plain": [
       "<Figure size 432x288 with 1 Axes>"
      ]
     },
     "metadata": {
      "needs_background": "light"
     },
     "output_type": "display_data"
    }
   ],
   "source": [
    "lev_30 = 500 * fx['future_diff30']\n",
    "lev_30.hist(bins = 100)\n",
    "lev_30.std()"
   ]
  },
  {
   "cell_type": "code",
   "execution_count": 21,
   "metadata": {},
   "outputs": [
    {
     "data": {
      "text/plain": [
       "0.8239297477260055"
      ]
     },
     "execution_count": 21,
     "metadata": {},
     "output_type": "execute_result"
    },
    {
     "data": {
      "image/png": "[encoded data removed]",
      "text/plain": [
       "<Figure size 432x288 with 1 Axes>"
      ]
     },
     "metadata": {
      "needs_background": "light"
     },
     "output_type": "display_data"
    }
   ],
   "source": [
    "lev_120 = 500 * fx['future_diff120']\n",
    "lev_120.hist(bins = 100)\n",
    "lev_120.std()"
   ]
  },
  {
   "cell_type": "code",
   "execution_count": null,
   "metadata": {},
   "outputs": [],
   "source": []
  }
 ],
 "metadata": {
  "kernelspec": {
   "display_name": "Python 3",
   "language": "python",
   "name": "python3"
  },
  "language_info": {
   "codemirror_mode": {
    "name": "ipython",
    "version": 3
   },
   "file_extension": ".py",
   "mimetype": "text/x-python",
   "name": "python",
   "nbconvert_exporter": "python",
   "pygments_lexer": "ipython3",
   "version": "3.8.5"
  },
  "vscode": {
   "interpreter": {
    "hash": "36ab7f9348c7d0662a1965af503f4376fbff05df74ea3a3ead8d3abcf8650cb8"
   }
  }
 },
 "nbformat": 4,
 "nbformat_minor": 4
}
