{
 "cells": [
  {
   "cell_type": "code",
   "execution_count": 1,
   "metadata": {},
   "outputs": [],
   "source": [
    "import pandas as pd\n",
    "import numpy as np\n",
    "\n",
    "from datasets import Dataset"
   ]
  },
  {
   "cell_type": "code",
   "execution_count": 2,
   "metadata": {},
   "outputs": [],
   "source": [
    "fx = pd.read_csv('data/OANDA/EUR_USD.csv')\n",
    "\n",
    "fx['datetime'] = pd.to_datetime(fx['datetime'], infer_datetime_format = True)"
   ]
  },
  {
   "cell_type": "code",
   "execution_count": 3,
   "metadata": {},
   "outputs": [
    {
     "data": {
      "text/plain": [
       "False"
      ]
     },
     "execution_count": 3,
     "metadata": {},
     "output_type": "execute_result"
    }
   ],
   "source": [
    "fx.duplicated(subset = 'datetime').any()"
   ]
  },
  {
   "cell_type": "markdown",
   "metadata": {},
   "source": [
    "# Preprocessing\n",
    "\n",
    "- Step 1: linearly interpolate gaps (shoot, not sure how to do this in parallel besides filling in all gaps and then getting rid of friday -> sunday\n",
    "- Step 2: so we will go from 21:00 to 21:00 from sunday to friday\n",
    "    - make a \"trading day\" feature starting from 21:00 of \n",
    "    - get rid of stragler days with no trades at end and beginning if the don't match up right\n",
    "- Step 3: subtract the day's open at 21:00 from each day (group by day easy) -- let's not honestly...\n",
    "- Step 4: make relative volume indicator using comparing real volume to groupby day's MA -- yeah I mean for now let's not\n",
    "- Step 5: 60min HLC\n",
    "\n",
    "- Step 6: create train, validation and test datasets\n",
    "- Step 7: divide each column by their std (ungrouped) USING ONLY TRAINING SET MAKING SURE TO SAVE THIS NUMBER -- not for now\n",
    "\n",
    "\n",
    "Make JSON:\n",
    "- make the weekday and relative volume a feature\n",
    "- make inputs_embeds a 2d array containing OHLCV and label 2D array of HLC (no day of week)\n",
    "- store as JSON"
   ]
  },
  {
   "cell_type": "code",
   "execution_count": 4,
   "metadata": {},
   "outputs": [],
   "source": [
    "# Linearly interpolate time gaps\n",
    "fx = fx.set_index('datetime').asfreq('1min')\n",
    "fx['close'] = fx['close'].fillna(method = 'ffill')\n",
    "fx['volume'] = fx['volume'].fillna(0) # no volume in gaps (according to first rate data people)\n",
    "\n",
    "# fill open high and low with most recent close\n",
    "fx = fx.fillna({\n",
    "    'open': fx['close'],\n",
    "    'high': fx['close'],\n",
    "    'low': fx['close']\n",
    "})"
   ]
  },
  {
   "cell_type": "code",
   "execution_count": 5,
   "metadata": {},
   "outputs": [],
   "source": [
    "# define the \"trading day\" as from starting on 9pm UTC of the previous day ending at 8:59pm UTC\n",
    "fx['day'] = fx.index.dayofweek \n",
    "fx.loc[fx.between_time('21:00', '23:59').index, 'day'] += 1\n",
    "fx['day'] = fx['day'] % 7 # sunday = 6, then + 1 would be 7 but we want that roll over to monday = 0\n",
    "\n",
    "# ordinal trading day since start of data (just for help in preprocessing)\n",
    "fx['ordinal_day'] = (fx['day'] != fx['day'].shift()).cumsum()"
   ]
  },
  {
   "cell_type": "code",
   "execution_count": 6,
   "metadata": {},
   "outputs": [
    {
     "data": {
      "text/plain": [
       "<AxesSubplot:>"
      ]
     },
     "execution_count": 6,
     "metadata": {},
     "output_type": "execute_result"
    },
    {
     "data": {
      "image/png": "[encoded data removed]",
      "text/plain": [
       "<Figure size 432x288 with 1 Axes>"
      ]
     },
     "metadata": {
      "needs_background": "light"
     },
     "output_type": "display_data"
    }
   ],
   "source": [
    "# look at distribution of how many 0 volume minute\n",
    "(fx['volume'] == 0.).groupby(fx['ordinal_day']).sum().hist(bins = 30)"
   ]
  },
  {
   "cell_type": "code",
   "execution_count": 7,
   "metadata": {},
   "outputs": [],
   "source": [
    "# let's just arbitrary say there should be less than 100 zero volume -- shouldn't really mattter in the end\n",
    "voluminous_index = (fx['volume'] == 0.).groupby(fx['ordinal_day']).filter(lambda x: x.sum() < 200).index\n",
    "fx = fx.loc[voluminous_index]"
   ]
  },
  {
   "cell_type": "code",
   "execution_count": 8,
   "metadata": {},
   "outputs": [
    {
     "data": {
      "text/html": [
       "<div>\n",
       "<style scoped>\n",
       "    .dataframe tbody tr th:only-of-type {\n",
       "        vertical-align: middle;\n",
       "    }\n",
       "\n",
       "    .dataframe tbody tr th {\n",
       "        vertical-align: top;\n",
       "    }\n",
       "\n",
       "    .dataframe thead th {\n",
       "        text-align: right;\n",
       "    }\n",
       "</style>\n",
       "<table border=\"1\" class=\"dataframe\">\n",
       "  <thead>\n",
       "    <tr style=\"text-align: right;\">\n",
       "      <th></th>\n",
       "      <th>close</th>\n",
       "      <th>high</th>\n",
       "      <th>low</th>\n",
       "      <th>open</th>\n",
       "      <th>volume</th>\n",
       "      <th>day</th>\n",
       "      <th>ordinal_day</th>\n",
       "    </tr>\n",
       "    <tr>\n",
       "      <th>datetime</th>\n",
       "      <th></th>\n",
       "      <th></th>\n",
       "      <th></th>\n",
       "      <th></th>\n",
       "      <th></th>\n",
       "      <th></th>\n",
       "      <th></th>\n",
       "    </tr>\n",
       "  </thead>\n",
       "  <tbody>\n",
       "    <tr>\n",
       "      <th>2005-01-02 20:59:00</th>\n",
       "      <td>1.35410</td>\n",
       "      <td>1.35480</td>\n",
       "      <td>1.35410</td>\n",
       "      <td>1.35480</td>\n",
       "      <td>2.0</td>\n",
       "      <td>6</td>\n",
       "      <td>1</td>\n",
       "    </tr>\n",
       "    <tr>\n",
       "      <th>2005-01-02 21:00:00</th>\n",
       "      <td>1.35410</td>\n",
       "      <td>1.35410</td>\n",
       "      <td>1.35410</td>\n",
       "      <td>1.35410</td>\n",
       "      <td>0.0</td>\n",
       "      <td>0</td>\n",
       "      <td>2</td>\n",
       "    </tr>\n",
       "    <tr>\n",
       "      <th>2005-01-02 21:01:00</th>\n",
       "      <td>1.35400</td>\n",
       "      <td>1.35400</td>\n",
       "      <td>1.35400</td>\n",
       "      <td>1.35400</td>\n",
       "      <td>1.0</td>\n",
       "      <td>0</td>\n",
       "      <td>2</td>\n",
       "    </tr>\n",
       "    <tr>\n",
       "      <th>2005-01-03 20:59:00</th>\n",
       "      <td>1.34690</td>\n",
       "      <td>1.34700</td>\n",
       "      <td>1.34680</td>\n",
       "      <td>1.34690</td>\n",
       "      <td>19.0</td>\n",
       "      <td>0</td>\n",
       "      <td>2</td>\n",
       "    </tr>\n",
       "    <tr>\n",
       "      <th>2005-01-03 21:00:00</th>\n",
       "      <td>1.34700</td>\n",
       "      <td>1.34700</td>\n",
       "      <td>1.34690</td>\n",
       "      <td>1.34690</td>\n",
       "      <td>30.0</td>\n",
       "      <td>1</td>\n",
       "      <td>3</td>\n",
       "    </tr>\n",
       "    <tr>\n",
       "      <th>...</th>\n",
       "      <td>...</td>\n",
       "      <td>...</td>\n",
       "      <td>...</td>\n",
       "      <td>...</td>\n",
       "      <td>...</td>\n",
       "      <td>...</td>\n",
       "      <td>...</td>\n",
       "    </tr>\n",
       "    <tr>\n",
       "      <th>2022-10-30 21:00:00</th>\n",
       "      <td>0.99642</td>\n",
       "      <td>0.99642</td>\n",
       "      <td>0.99642</td>\n",
       "      <td>0.99642</td>\n",
       "      <td>0.0</td>\n",
       "      <td>0</td>\n",
       "      <td>6512</td>\n",
       "    </tr>\n",
       "    <tr>\n",
       "      <th>2022-10-30 21:01:00</th>\n",
       "      <td>0.99642</td>\n",
       "      <td>0.99642</td>\n",
       "      <td>0.99642</td>\n",
       "      <td>0.99642</td>\n",
       "      <td>0.0</td>\n",
       "      <td>0</td>\n",
       "      <td>6512</td>\n",
       "    </tr>\n",
       "    <tr>\n",
       "      <th>2022-10-31 20:59:00</th>\n",
       "      <td>0.98819</td>\n",
       "      <td>0.98819</td>\n",
       "      <td>0.98819</td>\n",
       "      <td>0.98819</td>\n",
       "      <td>0.0</td>\n",
       "      <td>0</td>\n",
       "      <td>6512</td>\n",
       "    </tr>\n",
       "    <tr>\n",
       "      <th>2022-10-31 21:00:00</th>\n",
       "      <td>0.98819</td>\n",
       "      <td>0.98819</td>\n",
       "      <td>0.98819</td>\n",
       "      <td>0.98819</td>\n",
       "      <td>0.0</td>\n",
       "      <td>1</td>\n",
       "      <td>6513</td>\n",
       "    </tr>\n",
       "    <tr>\n",
       "      <th>2022-10-31 21:01:00</th>\n",
       "      <td>0.98819</td>\n",
       "      <td>0.98819</td>\n",
       "      <td>0.98819</td>\n",
       "      <td>0.98819</td>\n",
       "      <td>0.0</td>\n",
       "      <td>1</td>\n",
       "      <td>6513</td>\n",
       "    </tr>\n",
       "  </tbody>\n",
       "</table>\n",
       "<p>13746 rows × 7 columns</p>\n",
       "</div>"
      ],
      "text/plain": [
       "                       close     high      low     open  volume  day  \\\n",
       "datetime                                                               \n",
       "2005-01-02 20:59:00  1.35410  1.35480  1.35410  1.35480     2.0    6   \n",
       "2005-01-02 21:00:00  1.35410  1.35410  1.35410  1.35410     0.0    0   \n",
       "2005-01-02 21:01:00  1.35400  1.35400  1.35400  1.35400     1.0    0   \n",
       "2005-01-03 20:59:00  1.34690  1.34700  1.34680  1.34690    19.0    0   \n",
       "2005-01-03 21:00:00  1.34700  1.34700  1.34690  1.34690    30.0    1   \n",
       "...                      ...      ...      ...      ...     ...  ...   \n",
       "2022-10-30 21:00:00  0.99642  0.99642  0.99642  0.99642     0.0    0   \n",
       "2022-10-30 21:01:00  0.99642  0.99642  0.99642  0.99642     0.0    0   \n",
       "2022-10-31 20:59:00  0.98819  0.98819  0.98819  0.98819     0.0    0   \n",
       "2022-10-31 21:00:00  0.98819  0.98819  0.98819  0.98819     0.0    1   \n",
       "2022-10-31 21:01:00  0.98819  0.98819  0.98819  0.98819     0.0    1   \n",
       "\n",
       "                     ordinal_day  \n",
       "datetime                          \n",
       "2005-01-02 20:59:00            1  \n",
       "2005-01-02 21:00:00            2  \n",
       "2005-01-02 21:01:00            2  \n",
       "2005-01-03 20:59:00            2  \n",
       "2005-01-03 21:00:00            3  \n",
       "...                          ...  \n",
       "2022-10-30 21:00:00         6512  \n",
       "2022-10-30 21:01:00         6512  \n",
       "2022-10-31 20:59:00         6512  \n",
       "2022-10-31 21:00:00         6513  \n",
       "2022-10-31 21:01:00         6513  \n",
       "\n",
       "[13746 rows x 7 columns]"
      ]
     },
     "execution_count": 8,
     "metadata": {},
     "output_type": "execute_result"
    }
   ],
   "source": [
    "# quick sanity check of data \n",
    "fx.between_time('20:59', '21:01')"
   ]
  },
  {
   "cell_type": "markdown",
   "metadata": {},
   "source": [
    "# All data"
   ]
  },
  {
   "cell_type": "code",
   "execution_count": 1,
   "metadata": {},
   "outputs": [],
   "source": [
    "import os\n",
    "import pandas as pd\n",
    "import numpy as np\n",
    "\n",
    "import datasets\n",
    "from datasets import Dataset, concatenate_datasets"
   ]
  },
  {
   "cell_type": "markdown",
   "metadata": {},
   "source": [
    "# Start with processing all CSVs to datasets"
   ]
  },
  {
   "cell_type": "code",
   "execution_count": 2,
   "metadata": {},
   "outputs": [],
   "source": [
    "def make_dataset(filename, periods = [1, 2, 3, 4, 5, 10, 15, 20, 30, 45, 60, 90, 120]):\n",
    "    fx = pd.read_csv(filename)\n",
    "\n",
    "    fx['datetime'] = pd.to_datetime(fx['datetime'], infer_datetime_format = True)\n",
    "    \n",
    "    # Linearly interpolate time gaps\n",
    "    fx = fx.set_index('datetime').asfreq('1min')\n",
    "    fx['close'] = fx['close'].fillna(method = 'ffill')\n",
    "    fx['volume'] = fx['volume'].fillna(0) # no volume in gaps (according to first rate data people)\n",
    "\n",
    "    # fill open high and low with most recent close\n",
    "    fx = fx.fillna({\n",
    "        'open': fx['close'],\n",
    "        'high': fx['close'],\n",
    "        'low': fx['close']\n",
    "    })\n",
    "    \n",
    "    # define the \"trading day\" as from starting on 9pm UTC of the previous day ending at 8:59pm UTC\n",
    "    fx['day'] = fx.index.dayofweek \n",
    "    fx.loc[fx.between_time('21:00', '23:59').index, 'day'] += 1\n",
    "    fx['day'] = fx['day'] % 7 # sunday = 6, then + 1 would be 7 but we want that roll over to monday = 0\n",
    "\n",
    "    # ordinal trading day since start of data (just for help in preprocessing)\n",
    "    fx['ordinal_day'] = (fx['day'] != fx['day'].shift()).cumsum()\n",
    "    \n",
    "    # let's just arbitrary say there should be less than 200 zero volume -- shouldn't really mattter in the end\n",
    "    voluminous_index = (fx['volume'] == 0.).groupby(fx['ordinal_day']).filter(lambda x: x.sum() < 200).index\n",
    "    fx = fx.loc[voluminous_index]\n",
    "\n",
    "    futures = {}\n",
    "    for i in periods:\n",
    "        col_name = f'future_close{i}'\n",
    "        futures[col_name]  = fx['close'].shift(-i) - fx['close']\n",
    "    futures_df = pd.DataFrame(futures)\n",
    "    future_cols = futures_df.columns\n",
    "\n",
    "    fx = pd.concat((fx, futures_df), axis = 1)\n",
    "    \n",
    "    # clean up data odditity of future columns coming from the future of non-consecutive days (i.e. no overnight trading)\n",
    "    fx['day_break'] = ((fx['day'] != (fx['day']).shift(-1)) & (fx['day'] != (fx['day'] - 1).shift(-1)))\n",
    "    no_futures = fx[fx.groupby('ordinal_day')['day_break'].transform('any')].between_time(f'{20 - max(periods) // 60}:{59 - max(periods) % 60}', '20:59').index\n",
    "    fx.loc[no_futures, future_cols] = 0\n",
    "    \n",
    "    # de mean prices by considering their differences\n",
    "    fx['day_close'] = fx['close'].sub(fx.groupby('ordinal_day')['close'].transform('first'), axis = 0)\n",
    "    fx[['open', 'high', 'low']] = fx[['open', 'high', 'low']].sub(fx['close'], axis = 0)\n",
    "    fx['close_diff'] = fx['close'] - fx['close'].shift(1)\n",
    "    \n",
    "    # de mean close and volume using previous day's mean\n",
    "    fx['close'] = fx.groupby('ordinal_day')['close'].transform('mean').shift(1440)\n",
    "    fx['volume'] = fx.groupby('ordinal_day')['volume'].transform('mean').shift(1440)\n",
    "    \n",
    "    features = ['open', 'high', 'low', 'close_diff', 'close', 'volume']\n",
    "    \n",
    "    # de standardize using the previous day's std\n",
    "    stds = fx.groupby('ordinal_day')[features].transform('std').shift(1440)\n",
    "    fx[features] = fx[features] / stds\n",
    "        \n",
    "    # get rid of first two days and last day due to data incompleteness\n",
    "    fx = fx.drop(fx[fx['ordinal_day'] == fx['ordinal_day'].min()].index)\n",
    "    fx = fx.drop(fx[fx['ordinal_day'] == fx['ordinal_day'].min()].index)\n",
    "    fx = fx.drop(fx[fx['ordinal_day'] == fx['ordinal_day'].max()].index)\n",
    "        \n",
    "    ohlcv = fx[features].values.reshape(-1, 1440, 6)\n",
    "    future = fx[future_cols].values.reshape(-1, 1440, len(periods))\n",
    "    \n",
    "    # save some memory\n",
    "    del fx\n",
    "    \n",
    "    ds = Dataset.from_dict({\"ohlcv\": ohlcv, \"future\": future})\n",
    "    \n",
    "    return ds"
   ]
  },
  {
   "cell_type": "code",
   "execution_count": 3,
   "metadata": {},
   "outputs": [
    {
     "name": "stdout",
     "output_type": "stream",
     "text": [
      "USD_JPY.csv\r"
     ]
    }
   ],
   "source": [
    "data_dir = './data/OANDA/'\n",
    "for file in os.listdir(data_dir):\n",
    "    dataset = make_dataset(data_dir + file)\n",
    "    dataset.save_to_disk(f\"data/OANDA_DS/{file[:7]}.ds\")\n",
    "    print(file, end = '\\r')"
   ]
  },
  {
   "cell_type": "markdown",
   "metadata": {},
   "source": [
    "# Concat all datasets (done in 2 stages due to memory contraints)"
   ]
  },
  {
   "cell_type": "code",
   "execution_count": 4,
   "metadata": {},
   "outputs": [
    {
     "data": {
      "text/plain": [
       "['AUD_CAD.ds',\n",
       " 'AUD_JPY.ds',\n",
       " 'AUD_NZD.ds',\n",
       " 'AUD_USD.ds',\n",
       " 'EUR_AUD.ds',\n",
       " 'EUR_CHF.ds',\n",
       " 'EUR_GBP.ds',\n",
       " 'EUR_JPY.ds',\n",
       " 'EUR_NZD.ds',\n",
       " 'EUR_USD.ds',\n",
       " 'GBP_AUD.ds',\n",
       " 'GBP_CAD.ds',\n",
       " 'GBP_CHF.ds',\n",
       " 'GBP_JPY.ds',\n",
       " 'GBP_USD.ds',\n",
       " 'NZD_JPY.ds',\n",
       " 'NZD_USD.ds',\n",
       " 'USD_CAD.ds',\n",
       " 'USD_CHF.ds',\n",
       " 'USD_JPY.ds']"
      ]
     },
     "execution_count": 4,
     "metadata": {},
     "output_type": "execute_result"
    }
   ],
   "source": [
    "data_dir = './data/OANDA_DS/'\n",
    "os.listdir(data_dir)"
   ]
  },
  {
   "cell_type": "code",
   "execution_count": 5,
   "metadata": {},
   "outputs": [],
   "source": [
    "# make eurusd the last dataset (as it will be the validation set)\n",
    "filenames = [\n",
    "    'AUD_CAD.ds',\n",
    "    'AUD_JPY.ds',\n",
    "    'AUD_NZD.ds',\n",
    "    'AUD_USD.ds',\n",
    "    'EUR_AUD.ds',\n",
    "    'EUR_CHF.ds',\n",
    "    'EUR_GBP.ds',\n",
    "    'EUR_JPY.ds',\n",
    "    'EUR_NZD.ds',\n",
    "    'GBP_AUD.ds',\n",
    "    'GBP_CAD.ds',\n",
    "    'GBP_CHF.ds',\n",
    "    'GBP_JPY.ds',\n",
    "    'GBP_USD.ds',\n",
    "    'NZD_JPY.ds',\n",
    "    'NZD_USD.ds',\n",
    "    'USD_CAD.ds',\n",
    "    'USD_CHF.ds',\n",
    "    'USD_JPY.ds',\n",
    "    'EUR_USD.ds'\n",
    "]"
   ]
  },
  {
   "cell_type": "code",
   "execution_count": 6,
   "metadata": {},
   "outputs": [],
   "source": [
    "list_ds = [datasets.load_from_disk(data_dir + filename) for filename in filenames]"
   ]
  },
  {
   "cell_type": "code",
   "execution_count": 7,
   "metadata": {},
   "outputs": [
    {
     "ename": "OSError",
     "evalue": "[Errno 22] Invalid argument: 'C:/Users/micha/Desktop/Trader/data/fx_days.ds/dataset.arrow'",
     "output_type": "error",
     "traceback": [
      "\u001b[1;31m---------------------------------------------------------------------------\u001b[0m",
      "\u001b[1;31mOSError\u001b[0m                                   Traceback (most recent call last)",
      "\u001b[1;32m<ipython-input-7-f9112314388d>\u001b[0m in \u001b[0;36m<module>\u001b[1;34m\u001b[0m\n\u001b[0;32m      1\u001b[0m \u001b[0mall_datasets\u001b[0m \u001b[1;33m=\u001b[0m \u001b[0mconcatenate_datasets\u001b[0m\u001b[1;33m(\u001b[0m\u001b[0mlist_ds\u001b[0m\u001b[1;33m)\u001b[0m\u001b[1;33m\u001b[0m\u001b[1;33m\u001b[0m\u001b[0m\n\u001b[1;32m----> 2\u001b[1;33m \u001b[0mall_datasets\u001b[0m\u001b[1;33m.\u001b[0m\u001b[0msave_to_disk\u001b[0m\u001b[1;33m(\u001b[0m\u001b[1;34m\"data/fx_days.ds\"\u001b[0m\u001b[1;33m)\u001b[0m\u001b[1;33m\u001b[0m\u001b[1;33m\u001b[0m\u001b[0m\n\u001b[0m",
      "\u001b[1;32m~\\anaconda3\\lib\\site-packages\\datasets\\arrow_dataset.py\u001b[0m in \u001b[0;36msave_to_disk\u001b[1;34m(self, dataset_path, fs)\u001b[0m\n\u001b[0;32m   1195\u001b[0m         \u001b[1;31m# Save dataset + state + info\u001b[0m\u001b[1;33m\u001b[0m\u001b[1;33m\u001b[0m\u001b[1;33m\u001b[0m\u001b[0m\n\u001b[0;32m   1196\u001b[0m         \u001b[0mfs\u001b[0m\u001b[1;33m.\u001b[0m\u001b[0mmakedirs\u001b[0m\u001b[1;33m(\u001b[0m\u001b[0mdataset_path\u001b[0m\u001b[1;33m,\u001b[0m \u001b[0mexist_ok\u001b[0m\u001b[1;33m=\u001b[0m\u001b[1;32mTrue\u001b[0m\u001b[1;33m)\u001b[0m\u001b[1;33m\u001b[0m\u001b[1;33m\u001b[0m\u001b[0m\n\u001b[1;32m-> 1197\u001b[1;33m         \u001b[1;32mwith\u001b[0m \u001b[0mfs\u001b[0m\u001b[1;33m.\u001b[0m\u001b[0mopen\u001b[0m\u001b[1;33m(\u001b[0m\u001b[0mPath\u001b[0m\u001b[1;33m(\u001b[0m\u001b[0mdataset_path\u001b[0m\u001b[1;33m,\u001b[0m \u001b[0mconfig\u001b[0m\u001b[1;33m.\u001b[0m\u001b[0mDATASET_ARROW_FILENAME\u001b[0m\u001b[1;33m)\u001b[0m\u001b[1;33m.\u001b[0m\u001b[0mas_posix\u001b[0m\u001b[1;33m(\u001b[0m\u001b[1;33m)\u001b[0m\u001b[1;33m,\u001b[0m \u001b[1;34m\"wb\"\u001b[0m\u001b[1;33m)\u001b[0m \u001b[1;32mas\u001b[0m \u001b[0mdataset_file\u001b[0m\u001b[1;33m:\u001b[0m\u001b[1;33m\u001b[0m\u001b[1;33m\u001b[0m\u001b[0m\n\u001b[0m\u001b[0;32m   1198\u001b[0m             \u001b[1;32mwith\u001b[0m \u001b[0mArrowWriter\u001b[0m\u001b[1;33m(\u001b[0m\u001b[0mstream\u001b[0m\u001b[1;33m=\u001b[0m\u001b[0mdataset_file\u001b[0m\u001b[1;33m)\u001b[0m \u001b[1;32mas\u001b[0m \u001b[0mwriter\u001b[0m\u001b[1;33m:\u001b[0m\u001b[1;33m\u001b[0m\u001b[1;33m\u001b[0m\u001b[0m\n\u001b[0;32m   1199\u001b[0m                 \u001b[0mwriter\u001b[0m\u001b[1;33m.\u001b[0m\u001b[0mwrite_table\u001b[0m\u001b[1;33m(\u001b[0m\u001b[0mdataset\u001b[0m\u001b[1;33m.\u001b[0m\u001b[0m_data\u001b[0m\u001b[1;33m.\u001b[0m\u001b[0mtable\u001b[0m\u001b[1;33m)\u001b[0m\u001b[1;33m\u001b[0m\u001b[1;33m\u001b[0m\u001b[0m\n",
      "\u001b[1;32m~\\anaconda3\\lib\\site-packages\\fsspec\\spec.py\u001b[0m in \u001b[0;36mopen\u001b[1;34m(self, path, mode, block_size, cache_options, compression, **kwargs)\u001b[0m\n\u001b[0;32m   1007\u001b[0m         \u001b[1;32melse\u001b[0m\u001b[1;33m:\u001b[0m\u001b[1;33m\u001b[0m\u001b[1;33m\u001b[0m\u001b[0m\n\u001b[0;32m   1008\u001b[0m             \u001b[0mac\u001b[0m \u001b[1;33m=\u001b[0m \u001b[0mkwargs\u001b[0m\u001b[1;33m.\u001b[0m\u001b[0mpop\u001b[0m\u001b[1;33m(\u001b[0m\u001b[1;34m\"autocommit\"\u001b[0m\u001b[1;33m,\u001b[0m \u001b[1;32mnot\u001b[0m \u001b[0mself\u001b[0m\u001b[1;33m.\u001b[0m\u001b[0m_intrans\u001b[0m\u001b[1;33m)\u001b[0m\u001b[1;33m\u001b[0m\u001b[1;33m\u001b[0m\u001b[0m\n\u001b[1;32m-> 1009\u001b[1;33m             f = self._open(\n\u001b[0m\u001b[0;32m   1010\u001b[0m                 \u001b[0mpath\u001b[0m\u001b[1;33m,\u001b[0m\u001b[1;33m\u001b[0m\u001b[1;33m\u001b[0m\u001b[0m\n\u001b[0;32m   1011\u001b[0m                 \u001b[0mmode\u001b[0m\u001b[1;33m=\u001b[0m\u001b[0mmode\u001b[0m\u001b[1;33m,\u001b[0m\u001b[1;33m\u001b[0m\u001b[1;33m\u001b[0m\u001b[0m\n",
      "\u001b[1;32m~\\anaconda3\\lib\\site-packages\\fsspec\\implementations\\local.py\u001b[0m in \u001b[0;36m_open\u001b[1;34m(self, path, mode, block_size, **kwargs)\u001b[0m\n\u001b[0;32m    153\u001b[0m         \u001b[1;32mif\u001b[0m \u001b[0mself\u001b[0m\u001b[1;33m.\u001b[0m\u001b[0mauto_mkdir\u001b[0m \u001b[1;32mand\u001b[0m \u001b[1;34m\"w\"\u001b[0m \u001b[1;32min\u001b[0m \u001b[0mmode\u001b[0m\u001b[1;33m:\u001b[0m\u001b[1;33m\u001b[0m\u001b[1;33m\u001b[0m\u001b[0m\n\u001b[0;32m    154\u001b[0m             \u001b[0mself\u001b[0m\u001b[1;33m.\u001b[0m\u001b[0mmakedirs\u001b[0m\u001b[1;33m(\u001b[0m\u001b[0mself\u001b[0m\u001b[1;33m.\u001b[0m\u001b[0m_parent\u001b[0m\u001b[1;33m(\u001b[0m\u001b[0mpath\u001b[0m\u001b[1;33m)\u001b[0m\u001b[1;33m,\u001b[0m \u001b[0mexist_ok\u001b[0m\u001b[1;33m=\u001b[0m\u001b[1;32mTrue\u001b[0m\u001b[1;33m)\u001b[0m\u001b[1;33m\u001b[0m\u001b[1;33m\u001b[0m\u001b[0m\n\u001b[1;32m--> 155\u001b[1;33m         \u001b[1;32mreturn\u001b[0m \u001b[0mLocalFileOpener\u001b[0m\u001b[1;33m(\u001b[0m\u001b[0mpath\u001b[0m\u001b[1;33m,\u001b[0m \u001b[0mmode\u001b[0m\u001b[1;33m,\u001b[0m \u001b[0mfs\u001b[0m\u001b[1;33m=\u001b[0m\u001b[0mself\u001b[0m\u001b[1;33m,\u001b[0m \u001b[1;33m**\u001b[0m\u001b[0mkwargs\u001b[0m\u001b[1;33m)\u001b[0m\u001b[1;33m\u001b[0m\u001b[1;33m\u001b[0m\u001b[0m\n\u001b[0m\u001b[0;32m    156\u001b[0m \u001b[1;33m\u001b[0m\u001b[0m\n\u001b[0;32m    157\u001b[0m     \u001b[1;32mdef\u001b[0m \u001b[0mtouch\u001b[0m\u001b[1;33m(\u001b[0m\u001b[0mself\u001b[0m\u001b[1;33m,\u001b[0m \u001b[0mpath\u001b[0m\u001b[1;33m,\u001b[0m \u001b[1;33m**\u001b[0m\u001b[0mkwargs\u001b[0m\u001b[1;33m)\u001b[0m\u001b[1;33m:\u001b[0m\u001b[1;33m\u001b[0m\u001b[1;33m\u001b[0m\u001b[0m\n",
      "\u001b[1;32m~\\anaconda3\\lib\\site-packages\\fsspec\\implementations\\local.py\u001b[0m in \u001b[0;36m__init__\u001b[1;34m(self, path, mode, autocommit, fs, compression, **kwargs)\u001b[0m\n\u001b[0;32m    248\u001b[0m         \u001b[0mself\u001b[0m\u001b[1;33m.\u001b[0m\u001b[0mcompression\u001b[0m \u001b[1;33m=\u001b[0m \u001b[0mget_compression\u001b[0m\u001b[1;33m(\u001b[0m\u001b[0mpath\u001b[0m\u001b[1;33m,\u001b[0m \u001b[0mcompression\u001b[0m\u001b[1;33m)\u001b[0m\u001b[1;33m\u001b[0m\u001b[1;33m\u001b[0m\u001b[0m\n\u001b[0;32m    249\u001b[0m         \u001b[0mself\u001b[0m\u001b[1;33m.\u001b[0m\u001b[0mblocksize\u001b[0m \u001b[1;33m=\u001b[0m \u001b[0mio\u001b[0m\u001b[1;33m.\u001b[0m\u001b[0mDEFAULT_BUFFER_SIZE\u001b[0m\u001b[1;33m\u001b[0m\u001b[1;33m\u001b[0m\u001b[0m\n\u001b[1;32m--> 250\u001b[1;33m         \u001b[0mself\u001b[0m\u001b[1;33m.\u001b[0m\u001b[0m_open\u001b[0m\u001b[1;33m(\u001b[0m\u001b[1;33m)\u001b[0m\u001b[1;33m\u001b[0m\u001b[1;33m\u001b[0m\u001b[0m\n\u001b[0m\u001b[0;32m    251\u001b[0m \u001b[1;33m\u001b[0m\u001b[0m\n\u001b[0;32m    252\u001b[0m     \u001b[1;32mdef\u001b[0m \u001b[0m_open\u001b[0m\u001b[1;33m(\u001b[0m\u001b[0mself\u001b[0m\u001b[1;33m)\u001b[0m\u001b[1;33m:\u001b[0m\u001b[1;33m\u001b[0m\u001b[1;33m\u001b[0m\u001b[0m\n",
      "\u001b[1;32m~\\anaconda3\\lib\\site-packages\\fsspec\\implementations\\local.py\u001b[0m in \u001b[0;36m_open\u001b[1;34m(self)\u001b[0m\n\u001b[0;32m    253\u001b[0m         \u001b[1;32mif\u001b[0m \u001b[0mself\u001b[0m\u001b[1;33m.\u001b[0m\u001b[0mf\u001b[0m \u001b[1;32mis\u001b[0m \u001b[1;32mNone\u001b[0m \u001b[1;32mor\u001b[0m \u001b[0mself\u001b[0m\u001b[1;33m.\u001b[0m\u001b[0mf\u001b[0m\u001b[1;33m.\u001b[0m\u001b[0mclosed\u001b[0m\u001b[1;33m:\u001b[0m\u001b[1;33m\u001b[0m\u001b[1;33m\u001b[0m\u001b[0m\n\u001b[0;32m    254\u001b[0m             \u001b[1;32mif\u001b[0m \u001b[0mself\u001b[0m\u001b[1;33m.\u001b[0m\u001b[0mautocommit\u001b[0m \u001b[1;32mor\u001b[0m \u001b[1;34m\"w\"\u001b[0m \u001b[1;32mnot\u001b[0m \u001b[1;32min\u001b[0m \u001b[0mself\u001b[0m\u001b[1;33m.\u001b[0m\u001b[0mmode\u001b[0m\u001b[1;33m:\u001b[0m\u001b[1;33m\u001b[0m\u001b[1;33m\u001b[0m\u001b[0m\n\u001b[1;32m--> 255\u001b[1;33m                 \u001b[0mself\u001b[0m\u001b[1;33m.\u001b[0m\u001b[0mf\u001b[0m \u001b[1;33m=\u001b[0m \u001b[0mopen\u001b[0m\u001b[1;33m(\u001b[0m\u001b[0mself\u001b[0m\u001b[1;33m.\u001b[0m\u001b[0mpath\u001b[0m\u001b[1;33m,\u001b[0m \u001b[0mmode\u001b[0m\u001b[1;33m=\u001b[0m\u001b[0mself\u001b[0m\u001b[1;33m.\u001b[0m\u001b[0mmode\u001b[0m\u001b[1;33m)\u001b[0m\u001b[1;33m\u001b[0m\u001b[1;33m\u001b[0m\u001b[0m\n\u001b[0m\u001b[0;32m    256\u001b[0m                 \u001b[1;32mif\u001b[0m \u001b[0mself\u001b[0m\u001b[1;33m.\u001b[0m\u001b[0mcompression\u001b[0m\u001b[1;33m:\u001b[0m\u001b[1;33m\u001b[0m\u001b[1;33m\u001b[0m\u001b[0m\n\u001b[0;32m    257\u001b[0m                     \u001b[0mcompress\u001b[0m \u001b[1;33m=\u001b[0m \u001b[0mcompr\u001b[0m\u001b[1;33m[\u001b[0m\u001b[0mself\u001b[0m\u001b[1;33m.\u001b[0m\u001b[0mcompression\u001b[0m\u001b[1;33m]\u001b[0m\u001b[1;33m\u001b[0m\u001b[1;33m\u001b[0m\u001b[0m\n",
      "\u001b[1;31mOSError\u001b[0m: [Errno 22] Invalid argument: 'C:/Users/micha/Desktop/Trader/data/fx_days.ds/dataset.arrow'"
     ]
    }
   ],
   "source": [
    "all_datasets = concatenate_datasets(list_ds)\n",
    "all_datasets.save_to_disk(\"data/fx_days.ds\")"
   ]
  },
  {
   "cell_type": "code",
   "execution_count": null,
   "metadata": {},
   "outputs": [],
   "source": [
    "datasets.load_from_disk(\"data/fx_days.ds\")"
   ]
  },
  {
   "cell_type": "code",
   "execution_count": null,
   "metadata": {},
   "outputs": [],
   "source": []
  }
 ],
 "metadata": {
  "kernelspec": {
   "display_name": "Python 3",
   "language": "python",
   "name": "python3"
  },
  "language_info": {
   "codemirror_mode": {
    "name": "ipython",
    "version": 3
   },
   "file_extension": ".py",
   "mimetype": "text/x-python",
   "name": "python",
   "nbconvert_exporter": "python",
   "pygments_lexer": "ipython3",
   "version": "3.8.5"
  }
 },
 "nbformat": 4,
 "nbformat_minor": 4
}
