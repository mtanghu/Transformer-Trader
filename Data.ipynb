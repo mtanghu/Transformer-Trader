{
 "cells": [
  {
   "cell_type": "code",
   "execution_count": 1,
   "metadata": {},
   "outputs": [],
   "source": [
    "import pandas as pd\n",
    "import numpy as np\n",
    "\n",
    "from datasets import Dataset"
   ]
  },
  {
   "cell_type": "code",
   "execution_count": 2,
   "metadata": {},
   "outputs": [],
   "source": [
    "fx = pd.read_csv(\n",
    "    'data/EURUSD_1min.txt',\n",
    "    names = ['day', 'time', 'open',\n",
    "            'high', 'low', 'close', 'volume'])\n",
    "\n",
    "fx['datetime'] = fx['day'].astype(str) + \" \" + fx['time']\n",
    "fx['datetime'] = pd.to_datetime(fx['datetime'], infer_datetime_format = True)\n",
    "\n",
    "fx = fx.drop(columns = ['day', 'time'])"
   ]
  },
  {
   "cell_type": "markdown",
   "metadata": {},
   "source": [
    "# Preprocessing\n",
    "\n",
    "- Step 1: linearly interpolate gaps (shoot, not sure how to do this in parallel besides filling in all gaps and then getting rid of friday -> sunday\n",
    "- Step 2: so we will go from 21:00 to 21:00 from sunday to friday\n",
    "    - make a \"trading day\" feature starting from 21:00 of \n",
    "    - get rid of stragler days with no trades at end and beginning if the don't match up right\n",
    "- Step 3: subtract the day's open at 21:00 from each day (group by day easy) -- let's not honestly...\n",
    "- Step 4: make relative volume indicator using comparing real volume to groupby day's MA -- yeah I mean for now let's not\n",
    "- Step 5: 60min HLC\n",
    "\n",
    "- Step 6: create train, validation and test datasets\n",
    "- Step 7: divide each column by their std (ungrouped) USING ONLY TRAINING SET MAKING SURE TO SAVE THIS NUMBER -- not for now\n",
    "\n",
    "\n",
    "Make JSON:\n",
    "- make the weekday and relative volume a feature\n",
    "- make inputs_embeds a 2d array containing OHLCV and label 2D array of HLC (no day of week)\n",
    "- store as JSON"
   ]
  },
  {
   "cell_type": "code",
   "execution_count": 3,
   "metadata": {},
   "outputs": [],
   "source": [
    "# Linearly interpolate time gaps\n",
    "fx = fx.set_index('datetime').asfreq('1min')\n",
    "fx['close'] = fx['close'].fillna(method = 'ffill')\n",
    "fx['volume'] = fx['volume'].fillna(0) # no volume in gaps (according to first rate data people)\n",
    "\n",
    "# fill open high and low with most recent close\n",
    "fx = fx.fillna({\n",
    "    'open': fx['close'],\n",
    "    'high': fx['close'],\n",
    "    'low': fx['close']\n",
    "})"
   ]
  },
  {
   "cell_type": "code",
   "execution_count": 4,
   "metadata": {},
   "outputs": [],
   "source": [
    "# define the \"trading day\" as from starting on 9pm UTC of the previous day ending at 8:59pm UTC\n",
    "fx['day'] = fx.index.dayofweek \n",
    "fx.loc[fx.between_time('21:00', '23:59').index, 'day'] += 1\n",
    "fx['day'] = fx['day'] % 7 # sunday = 6, then + 1 would be 7 but we want that roll over to monday = 0\n",
    "\n",
    "# ordinal trading day since start of data (just for help in preprocessing)\n",
    "fx['ordinal_day'] = (fx['day'] != fx['day'].shift()).cumsum()"
   ]
  },
  {
   "cell_type": "code",
   "execution_count": 5,
   "metadata": {},
   "outputs": [
    {
     "data": {
      "text/plain": [
       "<AxesSubplot:>"
      ]
     },
     "execution_count": 5,
     "metadata": {},
     "output_type": "execute_result"
    },
    {
     "data": {
      "image/png": "[encoded data removed]",
      "text/plain": [
       "<Figure size 432x288 with 1 Axes>"
      ]
     },
     "metadata": {
      "needs_background": "light"
     },
     "output_type": "display_data"
    }
   ],
   "source": [
    "# look at distribution of how many 0 volume minute\n",
    "(fx['volume'] == 0.).groupby(fx['ordinal_day']).sum().hist(bins = 30)"
   ]
  },
  {
   "cell_type": "code",
   "execution_count": 6,
   "metadata": {},
   "outputs": [],
   "source": [
    "# let's just arbitrary say there should be less than 100 zero volume -- shouldn't really mattter in the end\n",
    "voluminous_index = (fx['volume'] == 0.).groupby(fx['ordinal_day']).filter(lambda x: x.sum() < 100).index\n",
    "fx = fx.loc[voluminous_index]"
   ]
  },
  {
   "cell_type": "code",
   "execution_count": 7,
   "metadata": {},
   "outputs": [
    {
     "data": {
      "text/html": [
       "<div>\n",
       "<style scoped>\n",
       "    .dataframe tbody tr th:only-of-type {\n",
       "        vertical-align: middle;\n",
       "    }\n",
       "\n",
       "    .dataframe tbody tr th {\n",
       "        vertical-align: top;\n",
       "    }\n",
       "\n",
       "    .dataframe thead th {\n",
       "        text-align: right;\n",
       "    }\n",
       "</style>\n",
       "<table border=\"1\" class=\"dataframe\">\n",
       "  <thead>\n",
       "    <tr style=\"text-align: right;\">\n",
       "      <th></th>\n",
       "      <th>open</th>\n",
       "      <th>high</th>\n",
       "      <th>low</th>\n",
       "      <th>close</th>\n",
       "      <th>volume</th>\n",
       "      <th>day</th>\n",
       "      <th>ordinal_day</th>\n",
       "    </tr>\n",
       "    <tr>\n",
       "      <th>datetime</th>\n",
       "      <th></th>\n",
       "      <th></th>\n",
       "      <th></th>\n",
       "      <th></th>\n",
       "      <th></th>\n",
       "      <th></th>\n",
       "      <th></th>\n",
       "    </tr>\n",
       "  </thead>\n",
       "  <tbody>\n",
       "    <tr>\n",
       "      <th>2009-01-02 20:59:00</th>\n",
       "      <td>1.38480</td>\n",
       "      <td>1.38520</td>\n",
       "      <td>1.38470</td>\n",
       "      <td>1.38510</td>\n",
       "      <td>61.0</td>\n",
       "      <td>4</td>\n",
       "      <td>1</td>\n",
       "    </tr>\n",
       "    <tr>\n",
       "      <th>2009-01-04 21:00:00</th>\n",
       "      <td>1.38980</td>\n",
       "      <td>1.38980</td>\n",
       "      <td>1.38980</td>\n",
       "      <td>1.38980</td>\n",
       "      <td>3.0</td>\n",
       "      <td>0</td>\n",
       "      <td>4</td>\n",
       "    </tr>\n",
       "    <tr>\n",
       "      <th>2009-01-04 21:01:00</th>\n",
       "      <td>1.38980</td>\n",
       "      <td>1.38980</td>\n",
       "      <td>1.38930</td>\n",
       "      <td>1.38960</td>\n",
       "      <td>8.0</td>\n",
       "      <td>0</td>\n",
       "      <td>4</td>\n",
       "    </tr>\n",
       "    <tr>\n",
       "      <th>2009-01-05 20:59:00</th>\n",
       "      <td>1.35720</td>\n",
       "      <td>1.35730</td>\n",
       "      <td>1.35710</td>\n",
       "      <td>1.35730</td>\n",
       "      <td>36.0</td>\n",
       "      <td>0</td>\n",
       "      <td>4</td>\n",
       "    </tr>\n",
       "    <tr>\n",
       "      <th>2009-01-05 21:00:00</th>\n",
       "      <td>1.35730</td>\n",
       "      <td>1.35760</td>\n",
       "      <td>1.35710</td>\n",
       "      <td>1.35760</td>\n",
       "      <td>96.0</td>\n",
       "      <td>1</td>\n",
       "      <td>5</td>\n",
       "    </tr>\n",
       "    <tr>\n",
       "      <th>...</th>\n",
       "      <td>...</td>\n",
       "      <td>...</td>\n",
       "      <td>...</td>\n",
       "      <td>...</td>\n",
       "      <td>...</td>\n",
       "      <td>...</td>\n",
       "      <td>...</td>\n",
       "    </tr>\n",
       "    <tr>\n",
       "      <th>2022-09-29 21:00:00</th>\n",
       "      <td>0.98130</td>\n",
       "      <td>0.98180</td>\n",
       "      <td>0.98130</td>\n",
       "      <td>0.98160</td>\n",
       "      <td>32.0</td>\n",
       "      <td>4</td>\n",
       "      <td>5020</td>\n",
       "    </tr>\n",
       "    <tr>\n",
       "      <th>2022-09-29 21:01:00</th>\n",
       "      <td>0.98163</td>\n",
       "      <td>0.98180</td>\n",
       "      <td>0.98145</td>\n",
       "      <td>0.98148</td>\n",
       "      <td>21.0</td>\n",
       "      <td>4</td>\n",
       "      <td>5020</td>\n",
       "    </tr>\n",
       "    <tr>\n",
       "      <th>2022-09-30 20:59:00</th>\n",
       "      <td>0.98019</td>\n",
       "      <td>0.98068</td>\n",
       "      <td>0.97970</td>\n",
       "      <td>0.98000</td>\n",
       "      <td>40.0</td>\n",
       "      <td>4</td>\n",
       "      <td>5020</td>\n",
       "    </tr>\n",
       "    <tr>\n",
       "      <th>2022-10-02 21:00:00</th>\n",
       "      <td>0.97786</td>\n",
       "      <td>0.97786</td>\n",
       "      <td>0.97786</td>\n",
       "      <td>0.97786</td>\n",
       "      <td>0.0</td>\n",
       "      <td>0</td>\n",
       "      <td>5023</td>\n",
       "    </tr>\n",
       "    <tr>\n",
       "      <th>2022-10-02 21:01:00</th>\n",
       "      <td>0.97786</td>\n",
       "      <td>0.97786</td>\n",
       "      <td>0.97786</td>\n",
       "      <td>0.97786</td>\n",
       "      <td>0.0</td>\n",
       "      <td>0</td>\n",
       "      <td>5023</td>\n",
       "    </tr>\n",
       "  </tbody>\n",
       "</table>\n",
       "<p>10332 rows × 7 columns</p>\n",
       "</div>"
      ],
      "text/plain": [
       "                        open     high      low    close  volume  day  \\\n",
       "datetime                                                               \n",
       "2009-01-02 20:59:00  1.38480  1.38520  1.38470  1.38510    61.0    4   \n",
       "2009-01-04 21:00:00  1.38980  1.38980  1.38980  1.38980     3.0    0   \n",
       "2009-01-04 21:01:00  1.38980  1.38980  1.38930  1.38960     8.0    0   \n",
       "2009-01-05 20:59:00  1.35720  1.35730  1.35710  1.35730    36.0    0   \n",
       "2009-01-05 21:00:00  1.35730  1.35760  1.35710  1.35760    96.0    1   \n",
       "...                      ...      ...      ...      ...     ...  ...   \n",
       "2022-09-29 21:00:00  0.98130  0.98180  0.98130  0.98160    32.0    4   \n",
       "2022-09-29 21:01:00  0.98163  0.98180  0.98145  0.98148    21.0    4   \n",
       "2022-09-30 20:59:00  0.98019  0.98068  0.97970  0.98000    40.0    4   \n",
       "2022-10-02 21:00:00  0.97786  0.97786  0.97786  0.97786     0.0    0   \n",
       "2022-10-02 21:01:00  0.97786  0.97786  0.97786  0.97786     0.0    0   \n",
       "\n",
       "                     ordinal_day  \n",
       "datetime                          \n",
       "2009-01-02 20:59:00            1  \n",
       "2009-01-04 21:00:00            4  \n",
       "2009-01-04 21:01:00            4  \n",
       "2009-01-05 20:59:00            4  \n",
       "2009-01-05 21:00:00            5  \n",
       "...                          ...  \n",
       "2022-09-29 21:00:00         5020  \n",
       "2022-09-29 21:01:00         5020  \n",
       "2022-09-30 20:59:00         5020  \n",
       "2022-10-02 21:00:00         5023  \n",
       "2022-10-02 21:01:00         5023  \n",
       "\n",
       "[10332 rows x 7 columns]"
      ]
     },
     "execution_count": 7,
     "metadata": {},
     "output_type": "execute_result"
    }
   ],
   "source": [
    "# quick sanity check of data \n",
    "fx.between_time('20:59', '21:01')"
   ]
  },
  {
   "cell_type": "markdown",
   "metadata": {},
   "source": [
    "# All data"
   ]
  },
  {
   "cell_type": "code",
   "execution_count": 1,
   "metadata": {},
   "outputs": [],
   "source": [
    "import os\n",
    "import pandas as pd\n",
    "import numpy as np\n",
    "\n",
    "from datasets import Dataset, concatenate_datasets"
   ]
  },
  {
   "cell_type": "code",
   "execution_count": 2,
   "metadata": {},
   "outputs": [],
   "source": [
    "def make_dataset(filename, periods = 60):\n",
    "    fx = pd.read_csv(\n",
    "    filename,\n",
    "    names = ['day', 'time', 'open',\n",
    "            'high', 'low', 'close', 'volume'])\n",
    "\n",
    "    fx['datetime'] = fx['day'].astype(str) + \" \" + fx['time']\n",
    "    fx['datetime'] = pd.to_datetime(fx['datetime'], infer_datetime_format = True)\n",
    "\n",
    "    fx = fx.drop(columns = ['day', 'time'])\n",
    "    \n",
    "    # Linearly interpolate time gaps\n",
    "    fx = fx.set_index('datetime').asfreq('1min')\n",
    "    fx['close'] = fx['close'].fillna(method = 'ffill')\n",
    "    fx['volume'] = fx['volume'].fillna(0) # no volume in gaps (according to first rate data people)\n",
    "\n",
    "    # fill open high and low with most recent close\n",
    "    fx = fx.fillna({\n",
    "        'open': fx['close'],\n",
    "        'high': fx['close'],\n",
    "        'low': fx['close']\n",
    "    })\n",
    "    \n",
    "    # define the \"trading day\" as from starting on 9pm UTC of the previous day ending at 8:59pm UTC\n",
    "    fx['day'] = fx.index.dayofweek \n",
    "    fx.loc[fx.between_time('21:00', '23:59').index, 'day'] += 1\n",
    "    fx['day'] = fx['day'] % 7 # sunday = 6, then + 1 would be 7 but we want that roll over to monday = 0\n",
    "\n",
    "    # ordinal trading day since start of data (just for help in preprocessing)\n",
    "    fx['ordinal_day'] = (fx['day'] != fx['day'].shift()).cumsum()\n",
    "    \n",
    "    # let's just arbitrary say there should be less than 100 zero volume -- shouldn't really mattter in the end\n",
    "    voluminous_index = (fx['volume'] == 0.).groupby(fx['ordinal_day']).filter(lambda x: x.sum() < 100).index\n",
    "    fx = fx.loc[voluminous_index]\n",
    "\n",
    "    futures = {}\n",
    "    for i in range(1, periods + 1):\n",
    "        col_name = f'future_close{i}'\n",
    "        futures[col_name]  = fx['close'].shift(-i) - fx['close']\n",
    "    futures_df = pd.DataFrame(futures)\n",
    "    future_cols = futures_df.columns\n",
    "\n",
    "    fx = pd.concat((fx, futures_df), axis = 1)\n",
    "    \n",
    "    # clean up data odditity of future columns coming from the future of non-consecutive days (i.e. no overnight trading)\n",
    "    fx['day_break'] = ((fx['day'] != (fx['day']).shift(-1)) & (fx['day'] != (fx['day'] - 1).shift(-1)))\n",
    "    no_futures = fx[fx.groupby('ordinal_day')['day_break'].transform('any')].between_time(f'{20 - periods // 60}:{59 - periods % 60}', '20:59').index\n",
    "    fx.loc[no_futures, future_cols] = 0\n",
    "    \n",
    "    # de mean using opening price of day\n",
    "    fx['day_close'] = fx['close'].sub(fx.groupby('ordinal_day')['close'].transform('first'), axis = 0)\n",
    "    fx[['open', 'high', 'low']] = fx[['open', 'high', 'low']].sub(fx['close'], axis = 0)\n",
    "    fx['close'] = fx['close'] - fx['close'].shift(1)\n",
    "    \n",
    "#     # de mean volume using rolling average of day\n",
    "#     fx[\"volume\"] = fx['volume'] - fx['volume'].groupby(fx['ordinal_day']).rolling(5000, min_periods = 0).mean().reset_index(drop = True, level = 0)\n",
    "    \n",
    "    # get rid of first and last day due to data incompleteness\n",
    "    fx = fx.drop(fx[fx['ordinal_day'] == fx['ordinal_day'].min()].index)\n",
    "    fx = fx.drop(fx[fx['ordinal_day'] == fx['ordinal_day'].max()].index)\n",
    "    \n",
    "    features = ['open', 'high', 'low', 'close', 'day_close']\n",
    "    \n",
    "    stds = fx.iloc[:4000000][features].std(axis = 0)\n",
    "    fx[features] = fx[features].div(stds, axis = 1)\n",
    "    \n",
    "    print(filename, '\\n', repr(stds.values))\n",
    "    \n",
    "    ohlcv = fx[features].values.reshape(-1, 1440, 5)\n",
    "    future = fx[future_cols].values.reshape(-1, 1440, periods)\n",
    "    \n",
    "    # save some memory\n",
    "    del fx\n",
    "    \n",
    "    ds = Dataset.from_dict({\"ohlcv\": ohlcv, \"future\": future})\n",
    "    \n",
    "    return ds"
   ]
  },
  {
   "cell_type": "code",
   "execution_count": 3,
   "metadata": {},
   "outputs": [
    {
     "data": {
      "text/plain": [
       "['AUDUSD_1min.txt',\n",
       " 'EURCHF_1min.txt',\n",
       " 'EURGBP_1min.txt',\n",
       " 'EURJPY_1min.txt',\n",
       " 'EURUSD_1min.txt',\n",
       " 'GBPJPY_1min.txt',\n",
       " 'GBPUSD_1min.txt',\n",
       " 'USDCAD_1min.txt',\n",
       " 'USDCHF_1min.txt',\n",
       " 'USDJPY_1min.txt']"
      ]
     },
     "execution_count": 3,
     "metadata": {},
     "output_type": "execute_result"
    }
   ],
   "source": [
    "data_dir = './data/1mins/'\n",
    "os.listdir(data_dir)"
   ]
  },
  {
   "cell_type": "code",
   "execution_count": 4,
   "metadata": {},
   "outputs": [],
   "source": [
    "# make eurusd the last dataset\n",
    "filenames = [\n",
    "    'AUDUSD_1min.txt',\n",
    "    'EURCHF_1min.txt',\n",
    "    'EURGBP_1min.txt',\n",
    "    'EURJPY_1min.txt',\n",
    "    'GBPJPY_1min.txt',\n",
    "    'GBPUSD_1min.txt',\n",
    "    'USDCAD_1min.txt',\n",
    "    'USDCHF_1min.txt',\n",
    "    'USDJPY_1min.txt',\n",
    "    'EURUSD_1min.txt'\n",
    "]"
   ]
  },
  {
   "cell_type": "code",
   "execution_count": 5,
   "metadata": {},
   "outputs": [
    {
     "name": "stdout",
     "output_type": "stream",
     "text": [
      "./data/1mins/AUDUSD_1min.txt \n",
      " array([0.00017544, 0.0001289 , 0.00012869, 0.00020141, 0.00420767])\n",
      "./data/1mins/EURCHF_1min.txt \n",
      " array([0.00015943, 0.00012811, 0.00012887, 0.00020714, 0.00346342])\n",
      "./data/1mins/EURGBP_1min.txt \n",
      " array([0.00013495, 0.00010049, 0.00010396, 0.00015599, 0.00306316])\n",
      "./data/1mins/EURJPY_1min.txt \n",
      " array([0.02540015, 0.01861955, 0.01853017, 0.02725528, 0.60491368])\n",
      "./data/1mins/GBPJPY_1min.txt \n",
      " array([0.0333769 , 0.02473986, 0.0244145 , 0.03538734, 0.82613484])\n",
      "./data/1mins/GBPUSD_1min.txt \n",
      " array([0.00024653, 0.00018456, 0.00018529, 0.00027917, 0.00578123])\n",
      "./data/1mins/USDCAD_1min.txt \n",
      " array([0.00017359, 0.00012897, 0.00013408, 0.00024119, 0.00374798])\n",
      "./data/1mins/USDCHF_1min.txt \n",
      " array([0.00017272, 0.00013109, 0.00013035, 0.00022164, 0.00414723])\n",
      "./data/1mins/USDJPY_1min.txt \n",
      " array([0.01694065, 0.01276201, 0.01261803, 0.01969121, 0.40558088])\n",
      "./data/1mins/EURUSD_1min.txt \n",
      " array([0.00020527, 0.00015178, 0.00015272, 0.00022341, 0.00463119])\n"
     ]
    }
   ],
   "source": [
    "all_datasets = Dataset.from_dict({\"ohlcv\": [], \"future\": []}) # just an initialization\n",
    "\n",
    "for file in filenames:\n",
    "    dataset = make_dataset(data_dir + file)\n",
    "#     if file != \"EURUSD_1min.txt\":\n",
    "#         # need to cut off last few days to allow for \"forward testing\"\n",
    "#         split = dataset.train_test_split(.05, shuffle = False, keep_in_memory = True)\n",
    "#         dataset = split['train']\n",
    "    \n",
    "    all_datasets = concatenate_datasets((all_datasets, dataset))\n",
    "#     print(file, end = '\\r')"
   ]
  },
  {
   "cell_type": "code",
   "execution_count": 8,
   "metadata": {},
   "outputs": [
    {
     "data": {
      "text/plain": [
       "Dataset({\n",
       "    features: ['ohlcv', 'future'],\n",
       "    num_rows: 34429\n",
       "})"
      ]
     },
     "execution_count": 8,
     "metadata": {},
     "output_type": "execute_result"
    }
   ],
   "source": [
    "all_datasets"
   ]
  },
  {
   "cell_type": "code",
   "execution_count": 7,
   "metadata": {},
   "outputs": [],
   "source": [
    "all_datasets.save_to_disk(\"data/fx_days.ds\")"
   ]
  },
  {
   "cell_type": "code",
   "execution_count": 5,
   "metadata": {},
   "outputs": [],
   "source": [
    "ds.save_to_disk(\"data/new_eur.ds\")"
   ]
  },
  {
   "cell_type": "code",
   "execution_count": null,
   "metadata": {},
   "outputs": [],
   "source": []
  }
 ],
 "metadata": {
  "kernelspec": {
   "display_name": "Python 3",
   "language": "python",
   "name": "python3"
  },
  "language_info": {
   "codemirror_mode": {
    "name": "ipython",
    "version": 3
   },
   "file_extension": ".py",
   "mimetype": "text/x-python",
   "name": "python",
   "nbconvert_exporter": "python",
   "pygments_lexer": "ipython3",
   "version": "3.8.5"
  }
 },
 "nbformat": 4,
 "nbformat_minor": 4
}
