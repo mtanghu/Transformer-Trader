{
 "cells": [
  {
   "cell_type": "code",
   "execution_count": 1,
   "metadata": {},
   "outputs": [],
   "source": [
    "import pandas as pd\n",
    "import numpy as np\n",
    "\n",
    "from datasets import Dataset"
   ]
  },
  {
   "cell_type": "code",
   "execution_count": 29,
   "metadata": {},
   "outputs": [],
   "source": [
    "fx = pd.read_csv(\n",
    "    'data/EURUSD_1min.txt',\n",
    "    names = ['day', 'time', 'open',\n",
    "            'high', 'low', 'close', 'volume'])\n",
    "\n",
    "fx['datetime'] = fx['day'].astype(str) + \" \" + fx['time']\n",
    "fx['datetime'] = pd.to_datetime(fx['datetime'], infer_datetime_format = True)\n",
    "\n",
    "fx = fx.drop(columns = ['day', 'time'])"
   ]
  },
  {
   "cell_type": "markdown",
   "metadata": {},
   "source": [
    "# Preprocessing\n",
    "\n",
    "- Step 1: linearly interpolate gaps (shoot, not sure how to do this in parallel besides filling in all gaps and then getting rid of friday -> sunday\n",
    "- Step 2: so we will go from 21:00 to 21:00 from sunday to friday\n",
    "    - make a \"trading day\" feature starting from 21:00 of \n",
    "    - get rid of stragler days with no trades at end and beginning if the don't match up right\n",
    "- Step 3: subtract the day's open at 21:00 from each day (group by day easy) -- let's not honestly...\n",
    "- Step 4: make relative volume indicator using comparing real volume to groupby day's MA -- yeah I mean for now let's not\n",
    "- Step 5: 60min HLC\n",
    "\n",
    "- Step 6: create train, validation and test datasets\n",
    "- Step 7: divide each column by their std (ungrouped) USING ONLY TRAINING SET MAKING SURE TO SAVE THIS NUMBER -- not for now\n",
    "\n",
    "\n",
    "Make JSON:\n",
    "- make the weekday and relative volume a feature\n",
    "- make inputs_embeds a 2d array containing OHLCV and label 2D array of HLC (no day of week)\n",
    "- store as JSON"
   ]
  },
  {
   "cell_type": "code",
   "execution_count": 3,
   "metadata": {},
   "outputs": [],
   "source": [
    "# Linearly interpolate time gaps\n",
    "fx = fx.set_index('datetime').asfreq('1min')\n",
    "fx['close'] = fx['close'].fillna(method = 'ffill')\n",
    "fx['volume'] = fx['volume'].fillna(0) # no volume in gaps (according to first rate data people)\n",
    "\n",
    "# fill open high and low with most recent close\n",
    "fx = fx.fillna({\n",
    "    'open': fx['close'],\n",
    "    'high': fx['close'],\n",
    "    'low': fx['close']\n",
    "})"
   ]
  },
  {
   "cell_type": "code",
   "execution_count": 4,
   "metadata": {},
   "outputs": [],
   "source": [
    "# define the \"trading day\" as from starting on 9pm UTC of the previous day ending at 8:59pm UTC\n",
    "fx['day'] = fx.index.dayofweek \n",
    "fx.loc[fx.between_time('21:00', '23:59').index, 'day'] += 1\n",
    "fx['day'] = fx['day'] % 7 # sunday = 6, then + 1 would be 7 but we want that roll over to monday = 0\n",
    "\n",
    "# ordinal trading day since start of data (just for help in preprocessing)\n",
    "fx['ordinal_day'] = (fx['day'] != fx['day'].shift()).cumsum()"
   ]
  },
  {
   "cell_type": "code",
   "execution_count": 5,
   "metadata": {},
   "outputs": [
    {
     "data": {
      "text/plain": [
       "<AxesSubplot:>"
      ]
     },
     "execution_count": 5,
     "metadata": {},
     "output_type": "execute_result"
    },
    {
     "data": {
      "image/png": "[encoded data removed]",
      "text/plain": [
       "<Figure size 432x288 with 1 Axes>"
      ]
     },
     "metadata": {
      "needs_background": "light"
     },
     "output_type": "display_data"
    }
   ],
   "source": [
    "# look at distribution of how many mintues with price change (low volume)\n",
    "(fx['close'] == fx['close'].shift(1)).groupby(fx['ordinal_day']).sum().hist(bins = 30)"
   ]
  },
  {
   "cell_type": "code",
   "execution_count": 16,
   "metadata": {},
   "outputs": [],
   "source": [
    "# let's just arbitrary say there should be less than 400 no change minutes (get rid of low to no volume days)\n",
    "voluminous_index = (fx['close'] == fx['close'].shift(1)).groupby(fx['ordinal_day']).filter(lambda x: x.sum() < 400).index\n",
    "fx = fx.loc[voluminous_index]"
   ]
  },
  {
   "cell_type": "code",
   "execution_count": 17,
   "metadata": {},
   "outputs": [
    {
     "data": {
      "text/html": [
       "<div>\n",
       "<style scoped>\n",
       "    .dataframe tbody tr th:only-of-type {\n",
       "        vertical-align: middle;\n",
       "    }\n",
       "\n",
       "    .dataframe tbody tr th {\n",
       "        vertical-align: top;\n",
       "    }\n",
       "\n",
       "    .dataframe thead th {\n",
       "        text-align: right;\n",
       "    }\n",
       "</style>\n",
       "<table border=\"1\" class=\"dataframe\">\n",
       "  <thead>\n",
       "    <tr style=\"text-align: right;\">\n",
       "      <th></th>\n",
       "      <th>open</th>\n",
       "      <th>high</th>\n",
       "      <th>low</th>\n",
       "      <th>close</th>\n",
       "      <th>day</th>\n",
       "      <th>ordinal_day</th>\n",
       "    </tr>\n",
       "    <tr>\n",
       "      <th>datetime</th>\n",
       "      <th></th>\n",
       "      <th></th>\n",
       "      <th></th>\n",
       "      <th></th>\n",
       "      <th></th>\n",
       "      <th></th>\n",
       "    </tr>\n",
       "  </thead>\n",
       "  <tbody>\n",
       "    <tr>\n",
       "      <th>2020-04-07 20:59:00</th>\n",
       "      <td>1.08920</td>\n",
       "      <td>1.08920</td>\n",
       "      <td>1.08920</td>\n",
       "      <td>1.08920</td>\n",
       "      <td>1</td>\n",
       "      <td>1</td>\n",
       "    </tr>\n",
       "    <tr>\n",
       "      <th>2020-04-07 21:00:00</th>\n",
       "      <td>1.08910</td>\n",
       "      <td>1.08920</td>\n",
       "      <td>1.08910</td>\n",
       "      <td>1.08920</td>\n",
       "      <td>2</td>\n",
       "      <td>2</td>\n",
       "    </tr>\n",
       "    <tr>\n",
       "      <th>2020-04-07 21:01:00</th>\n",
       "      <td>1.08920</td>\n",
       "      <td>1.08920</td>\n",
       "      <td>1.08920</td>\n",
       "      <td>1.08920</td>\n",
       "      <td>2</td>\n",
       "      <td>2</td>\n",
       "    </tr>\n",
       "    <tr>\n",
       "      <th>2020-04-08 20:59:00</th>\n",
       "      <td>1.08550</td>\n",
       "      <td>1.08550</td>\n",
       "      <td>1.08540</td>\n",
       "      <td>1.08540</td>\n",
       "      <td>2</td>\n",
       "      <td>2</td>\n",
       "    </tr>\n",
       "    <tr>\n",
       "      <th>2020-04-08 21:00:00</th>\n",
       "      <td>1.08580</td>\n",
       "      <td>1.08595</td>\n",
       "      <td>1.08580</td>\n",
       "      <td>1.08595</td>\n",
       "      <td>3</td>\n",
       "      <td>3</td>\n",
       "    </tr>\n",
       "    <tr>\n",
       "      <th>...</th>\n",
       "      <td>...</td>\n",
       "      <td>...</td>\n",
       "      <td>...</td>\n",
       "      <td>...</td>\n",
       "      <td>...</td>\n",
       "      <td>...</td>\n",
       "    </tr>\n",
       "    <tr>\n",
       "      <th>2022-11-01 21:00:00</th>\n",
       "      <td>0.98750</td>\n",
       "      <td>0.98750</td>\n",
       "      <td>0.98750</td>\n",
       "      <td>0.98750</td>\n",
       "      <td>2</td>\n",
       "      <td>940</td>\n",
       "    </tr>\n",
       "    <tr>\n",
       "      <th>2022-11-01 21:01:00</th>\n",
       "      <td>0.98745</td>\n",
       "      <td>0.98745</td>\n",
       "      <td>0.98745</td>\n",
       "      <td>0.98745</td>\n",
       "      <td>2</td>\n",
       "      <td>940</td>\n",
       "    </tr>\n",
       "    <tr>\n",
       "      <th>2022-11-02 20:59:00</th>\n",
       "      <td>0.98160</td>\n",
       "      <td>0.98180</td>\n",
       "      <td>0.98160</td>\n",
       "      <td>0.98180</td>\n",
       "      <td>2</td>\n",
       "      <td>940</td>\n",
       "    </tr>\n",
       "    <tr>\n",
       "      <th>2022-11-02 21:00:00</th>\n",
       "      <td>0.98190</td>\n",
       "      <td>0.98240</td>\n",
       "      <td>0.98190</td>\n",
       "      <td>0.98230</td>\n",
       "      <td>3</td>\n",
       "      <td>941</td>\n",
       "    </tr>\n",
       "    <tr>\n",
       "      <th>2022-11-02 21:01:00</th>\n",
       "      <td>0.98235</td>\n",
       "      <td>0.98235</td>\n",
       "      <td>0.98200</td>\n",
       "      <td>0.98210</td>\n",
       "      <td>3</td>\n",
       "      <td>941</td>\n",
       "    </tr>\n",
       "  </tbody>\n",
       "</table>\n",
       "<p>1872 rows × 6 columns</p>\n",
       "</div>"
      ],
      "text/plain": [
       "                        open     high      low    close  day  ordinal_day\n",
       "datetime                                                                 \n",
       "2020-04-07 20:59:00  1.08920  1.08920  1.08920  1.08920    1            1\n",
       "2020-04-07 21:00:00  1.08910  1.08920  1.08910  1.08920    2            2\n",
       "2020-04-07 21:01:00  1.08920  1.08920  1.08920  1.08920    2            2\n",
       "2020-04-08 20:59:00  1.08550  1.08550  1.08540  1.08540    2            2\n",
       "2020-04-08 21:00:00  1.08580  1.08595  1.08580  1.08595    3            3\n",
       "...                      ...      ...      ...      ...  ...          ...\n",
       "2022-11-01 21:00:00  0.98750  0.98750  0.98750  0.98750    2          940\n",
       "2022-11-01 21:01:00  0.98745  0.98745  0.98745  0.98745    2          940\n",
       "2022-11-02 20:59:00  0.98160  0.98180  0.98160  0.98180    2          940\n",
       "2022-11-02 21:00:00  0.98190  0.98240  0.98190  0.98230    3          941\n",
       "2022-11-02 21:01:00  0.98235  0.98235  0.98200  0.98210    3          941\n",
       "\n",
       "[1872 rows x 6 columns]"
      ]
     },
     "execution_count": 17,
     "metadata": {},
     "output_type": "execute_result"
    }
   ],
   "source": [
    "# quick sanity check of data \n",
    "fx.between_time('20:59', '21:01')"
   ]
  },
  {
   "cell_type": "markdown",
   "metadata": {},
   "source": [
    "# Twelvedata"
   ]
  },
  {
   "cell_type": "code",
   "execution_count": 12,
   "metadata": {},
   "outputs": [],
   "source": [
    "fx = pd.read_csv('data/twelvedata/EUR_USD.csv')\n",
    "fx['datetime'] = pd.to_datetime(fx['datetime'], infer_datetime_format = True)"
   ]
  },
  {
   "cell_type": "code",
   "execution_count": 13,
   "metadata": {},
   "outputs": [],
   "source": [
    "# Linearly interpolate time gaps\n",
    "fx = fx.set_index('datetime').asfreq('1min')\n",
    "fx['close'] = fx['close'].fillna(method = 'ffill')\n",
    "\n",
    "# fill open high and low with most recent close\n",
    "fx = fx.fillna({\n",
    "    'open': fx['close'],\n",
    "    'high': fx['close'],\n",
    "    'low': fx['close']\n",
    "})"
   ]
  },
  {
   "cell_type": "code",
   "execution_count": 14,
   "metadata": {},
   "outputs": [],
   "source": [
    "# define the \"trading day\" as from starting on 9pm UTC of the previous day ending at 8:59pm UTC\n",
    "fx['day'] = fx.index.dayofweek \n",
    "fx.loc[fx.between_time('21:00', '23:59').index, 'day'] += 1\n",
    "fx['day'] = fx['day'] % 7 # sunday = 6, then + 1 would be 7 but we want that roll over to monday = 0\n",
    "\n",
    "# ordinal trading day since start of data (just for help in preprocessing)\n",
    "fx['ordinal_day'] = (fx['day'] != fx['day'].shift()).cumsum()"
   ]
  },
  {
   "cell_type": "code",
   "execution_count": 15,
   "metadata": {},
   "outputs": [
    {
     "data": {
      "text/plain": [
       "<AxesSubplot:>"
      ]
     },
     "execution_count": 15,
     "metadata": {},
     "output_type": "execute_result"
    },
    {
     "data": {
      "image/png": "[encoded data removed]",
      "text/plain": [
       "<Figure size 432x288 with 1 Axes>"
      ]
     },
     "metadata": {
      "needs_background": "light"
     },
     "output_type": "display_data"
    }
   ],
   "source": [
    "# look at distribution of how many 0 volume minute\n",
    "(fx['close'] == fx['close'].shift(1)).groupby(fx['ordinal_day']).sum().hist(bins = 30)"
   ]
  },
  {
   "cell_type": "markdown",
   "metadata": {},
   "source": [
    "# All data"
   ]
  },
  {
   "cell_type": "code",
   "execution_count": 1,
   "metadata": {},
   "outputs": [],
   "source": [
    "import os\n",
    "import pandas as pd\n",
    "import numpy as np\n",
    "\n",
    "import datasets\n",
    "from datasets import Dataset, concatenate_datasets"
   ]
  },
  {
   "cell_type": "markdown",
   "metadata": {},
   "source": [
    "# Start with processing all CSVs to datasets"
   ]
  },
  {
   "cell_type": "code",
   "execution_count": 5,
   "metadata": {},
   "outputs": [],
   "source": [
    "def make_dataset(filename, periods = 60):\n",
    "    if filename.startswith('./data/1mins'):\n",
    "        fx = pd.read_csv(\n",
    "        filename,\n",
    "        names = ['day', 'time', 'open',\n",
    "                'high', 'low', 'close', 'volume'])\n",
    "\n",
    "        fx['datetime'] = fx['day'].astype(str) + \" \" + fx['time']\n",
    "        fx = fx.drop(columns = ['day', 'time'])\n",
    "        fx['datetime'] = pd.to_datetime(fx['datetime'], infer_datetime_format = True)\n",
    "        \n",
    "        # since twelve data will cover from then onwards\n",
    "        fx = fx.loc[:'2020-04-07']\n",
    "    elif filename.startswith('./data/twelvedata'):\n",
    "        fx = pd.read_csv(filename)\n",
    "        fx['datetime'] = pd.to_datetime(fx['datetime'], infer_datetime_format = True)\n",
    "    \n",
    "    # Linearly interpolate time gaps\n",
    "    fx = fx.set_index('datetime').asfreq('1min')\n",
    "    fx['close'] = fx['close'].fillna(method = 'ffill')\n",
    "\n",
    "    # fill open high and low with most recent close\n",
    "    fx = fx.fillna({\n",
    "        'open': fx['close'],\n",
    "        'high': fx['close'],\n",
    "        'low': fx['close']\n",
    "    })\n",
    "    \n",
    "    # define the \"trading day\" as from starting on 9pm UTC of the previous day ending at 8:59pm UTC\n",
    "    fx['day'] = fx.index.dayofweek \n",
    "    fx.loc[fx.between_time('21:00', '23:59').index, 'day'] += 1\n",
    "    fx['day'] = fx['day'] % 7 # sunday = 6, then + 1 would be 7 but we want that roll over to monday = 0\n",
    "\n",
    "    # ordinal trading day since start of data (just for help in preprocessing)\n",
    "    fx['ordinal_day'] = (fx['day'] != fx['day'].shift()).cumsum()\n",
    "    \n",
    "    # let's just arbitrary say there should be less than 400 no change minutes (get rid of low to no volume days)\n",
    "    voluminous_index = (fx['close'] == fx['close'].shift(1)).groupby(fx['ordinal_day']).filter(lambda x: x.sum() < 400).index\n",
    "    fx = fx.loc[voluminous_index]\n",
    "\n",
    "    futures = {}\n",
    "    for i in range(1, periods + 1):\n",
    "        col_name = f'future_close{i}'\n",
    "        futures[col_name]  = fx['close'].shift(-i) - fx['close']\n",
    "    futures_df = pd.DataFrame(futures)\n",
    "    future_cols = futures_df.columns\n",
    "\n",
    "    fx = pd.concat((fx, futures_df), axis = 1)\n",
    "    \n",
    "    # clean up data odditity of future columns coming from the future of non-consecutive days (i.e. no overnight trading)\n",
    "    fx['day_break'] = ((fx['day'] != (fx['day']).shift(-1)) & (fx['day'] != (fx['day'] - 1).shift(-1)))\n",
    "    no_futures = fx[fx.groupby('ordinal_day')['day_break'].transform('any')].between_time(f'{20 - periods // 60}:{59 - periods % 60}', '20:59').index\n",
    "    fx.loc[no_futures, future_cols] = 0\n",
    "    \n",
    "    # de mean using opening price of day\n",
    "    fx['day_close'] = fx['close'].sub(fx.groupby('ordinal_day')['close'].transform('first'), axis = 0)\n",
    "    fx[['open', 'high', 'low']] = fx[['open', 'high', 'low']].sub(fx['close'], axis = 0)\n",
    "    fx['close'] = fx['close'] - fx['close'].shift(1)\n",
    "    \n",
    "    # get rid of first and last day due to data incompleteness\n",
    "    fx = fx.drop(fx[fx['ordinal_day'] == fx['ordinal_day'].min()].index)\n",
    "    fx = fx.drop(fx[fx['ordinal_day'] == fx['ordinal_day'].max()].index)\n",
    "    \n",
    "    features = ['open', 'high', 'low', 'close', 'day_close']\n",
    "    \n",
    "    stds = fx.iloc[:int(len(fx) * .9)][features].std(axis = 0)\n",
    "    fx[features] = fx[features].div(stds, axis = 1)\n",
    "    \n",
    "    print(filename, '\\n', repr(stds.values))\n",
    "    \n",
    "    ohlcv = fx[features].values.reshape(-1, 1440, 5)\n",
    "    future = fx[future_cols].values.reshape(-1, 1440, periods)\n",
    "    \n",
    "    # save some memory\n",
    "    del fx\n",
    "    \n",
    "    ds = Dataset.from_dict({\"ohlcv\": ohlcv, \"future\": future})\n",
    "    \n",
    "    return ds"
   ]
  },
  {
   "cell_type": "code",
   "execution_count": 3,
   "metadata": {},
   "outputs": [
    {
     "name": "stdout",
     "output_type": "stream",
     "text": [
      "./data/1mins/AUDUSD_1min.txt \n",
      " array([0.00021721, 0.00015546, 0.00015462, 0.00022247, 0.00526431])\n",
      "./data/1mins/EURCHF_1min.txt \n",
      " array([0.00020018, 0.00015932, 0.00016135, 0.0002044 , 0.00458594])\n",
      "./data/1mins/EURGBP_1min.txt \n",
      " array([0.0001416 , 0.00010584, 0.00010687, 0.00014365, 0.00315551])\n",
      "./data/1mins/EURJPY_1min.txt \n",
      " array([0.02979671, 0.02138034, 0.02135969, 0.03035297, 0.70318711])\n",
      "./data/1mins/EURUSD_1min.txt \n",
      " array([0.00024709, 0.0001771 , 0.00017815, 0.00025166, 0.00558102])\n",
      "./data/1mins/GBPJPY_1min.txt \n",
      " array([0.03579834, 0.026064  , 0.02611605, 0.03635724, 0.83814371])\n",
      "./data/1mins/GBPUSD_1min.txt \n",
      " array([0.00027971, 0.00020617, 0.00020588, 0.00028495, 0.0062404 ])\n",
      "./data/1mins/USDCAD_1min.txt \n",
      " array([0.00019273, 0.00014654, 0.00014633, 0.00020033, 0.00404176])\n",
      "./data/1mins/USDCHF_1min.txt \n",
      " array([0.00020071, 0.00014892, 0.00014858, 0.00020432, 0.00454653])\n",
      "./data/1mins/USDJPY_1min.txt \n",
      " array([0.01716284, 0.01285   , 0.01272735, 0.01755535, 0.41071785])\n"
     ]
    }
   ],
   "source": [
    "data_dir = \"./data/1mins/\"\n",
    "for file in os.listdir(data_dir):\n",
    "    dataset = make_dataset(data_dir + file)\n",
    "    dataset.save_to_disk(f\"data/sets/{file[:7]}.ds\")"
   ]
  },
  {
   "cell_type": "markdown",
   "metadata": {},
   "source": [
    "# now TwelveData"
   ]
  },
  {
   "cell_type": "code",
   "execution_count": 6,
   "metadata": {},
   "outputs": [
    {
     "name": "stdout",
     "output_type": "stream",
     "text": [
      "./data/twelvedata/AUD_CAD.csv \n",
      " array([0.00018097, 0.00012721, 0.00013315, 0.00018941, 0.00268662])\n",
      "./data/twelvedata/AUD_CHF.csv \n",
      " array([1.37778030e-04, 9.79979016e-05, 9.91099518e-05, 1.48218023e-04,\n",
      "       2.68455916e-03])\n",
      "./data/twelvedata/AUD_JPY.csv \n",
      " array([0.01665746, 0.01135966, 0.01129499, 0.01812697, 0.40310416])\n",
      "./data/twelvedata/AUD_NZD.csv \n",
      " array([0.00017239, 0.00012595, 0.00012756, 0.00018005, 0.00245304])\n",
      "./data/twelvedata/AUD_USD.csv \n",
      " array([1.33835106e-04, 8.99916107e-05, 8.92213424e-05, 1.48887039e-04,\n",
      "       3.12024080e-03])\n",
      "./data/twelvedata/CAD_CHF.csv \n",
      " array([0.0001521 , 0.00011196, 0.00010982, 0.00015848, 0.00230064])\n",
      "./data/twelvedata/CAD_JPY.csv \n",
      " array([0.017607  , 0.01241396, 0.01194279, 0.01861588, 0.36439691])\n",
      "./data/twelvedata/CHF_JPY.csv \n",
      " array([0.02005409, 0.01504193, 0.015535  , 0.02112835, 0.38129505])\n",
      "./data/twelvedata/EUR_AUD.csv \n",
      " array([0.00025753, 0.00018015, 0.00018086, 0.00027922, 0.00560566])\n",
      "./data/twelvedata/EUR_CAD.csv \n",
      " array([0.00026181, 0.00018816, 0.00019833, 0.00027379, 0.00408585])\n",
      "./data/twelvedata/EUR_CHF.csv \n",
      " array([0.0001621 , 0.00012547, 0.0001208 , 0.00016967, 0.0022466 ])\n",
      "./data/twelvedata/EUR_GBP.csv \n",
      " array([1.28644569e-04, 9.25677176e-05, 9.22759553e-05, 1.40038806e-04,\n",
      "       2.35045303e-03])\n",
      "./data/twelvedata/EUR_JPY.csv \n",
      " array([0.01934114, 0.01365534, 0.013487  , 0.02081807, 0.45278801])\n",
      "./data/twelvedata/EUR_NZD.csv \n",
      " array([0.00028693, 0.00020592, 0.00020633, 0.0003098 , 0.00613072])\n",
      "./data/twelvedata/EUR_USD.csv \n",
      " array([0.00015032, 0.00010454, 0.00010324, 0.00016687, 0.00318778])\n",
      "./data/twelvedata/GBP_AUD.csv \n",
      " array([0.00029488, 0.00020821, 0.00020867, 0.00031921, 0.00570333])\n",
      "./data/twelvedata/GBP_CAD.csv \n",
      " array([0.00030794, 0.00022149, 0.00023253, 0.00032382, 0.00467404])\n",
      "./data/twelvedata/GBP_CHF.csv \n",
      " array([0.00021132, 0.00015854, 0.00015332, 0.00022587, 0.00379662])\n",
      "./data/twelvedata/GBP_JPY.csv \n",
      " array([0.02430428, 0.01711439, 0.01684966, 0.02635755, 0.58921583])\n",
      "./data/twelvedata/GBP_NZD.csv \n",
      " array([0.00033176, 0.00024086, 0.00024151, 0.00035864, 0.00638905])\n",
      "./data/twelvedata/GBP_USD.csv \n",
      " array([0.00018976, 0.00013372, 0.00013233, 0.00021195, 0.0043833 ])\n",
      "./data/twelvedata/NZD_CAD.csv \n",
      " array([0.00017753, 0.00012739, 0.00013124, 0.00018635, 0.00280685])\n",
      "./data/twelvedata/NZD_CHF.csv \n",
      " array([1.31574466e-04, 9.48351527e-05, 9.29404993e-05, 1.41647452e-04,\n",
      "       2.49812733e-03])\n",
      "./data/twelvedata/NZD_JPY.csv \n",
      " array([0.01565127, 0.01085924, 0.01077444, 0.01705726, 0.36323747])\n",
      "./data/twelvedata/NZD_USD.csv \n",
      " array([1.28063558e-04, 8.76283311e-05, 8.69290913e-05, 1.42632970e-04,\n",
      "       2.97147438e-03])\n",
      "./data/twelvedata/USD_CAD.csv \n",
      " array([0.00021755, 0.00015245, 0.00016235, 0.00022874, 0.00357154])\n",
      "./data/twelvedata/USD_CHF.csv \n",
      " array([0.00014479, 0.00010791, 0.00010555, 0.00015632, 0.00263492])\n",
      "./data/twelvedata/USD_JPY.csv \n",
      " array([0.01802272, 0.0126618 , 0.01245391, 0.02262485, 0.50371055])\n"
     ]
    }
   ],
   "source": [
    "data_dir = \"./data/twelvedata/\"\n",
    "for file in os.listdir(data_dir):\n",
    "    dataset = make_dataset(data_dir + file)\n",
    "    dataset.save_to_disk(f\"data/sets/twelve_{file[:7]}.ds\")"
   ]
  },
  {
   "cell_type": "markdown",
   "metadata": {},
   "source": [
    "# Concat all datasets (done in 2 stages due to memory contraints)"
   ]
  },
  {
   "cell_type": "code",
   "execution_count": 7,
   "metadata": {},
   "outputs": [
    {
     "data": {
      "text/plain": [
       "['AUDUSD_.ds',\n",
       " 'EURCHF_.ds',\n",
       " 'EURGBP_.ds',\n",
       " 'EURJPY_.ds',\n",
       " 'EURUSD_.ds',\n",
       " 'GBPJPY_.ds',\n",
       " 'GBPUSD_.ds',\n",
       " 'twelve_AUD_CAD.ds',\n",
       " 'twelve_AUD_CHF.ds',\n",
       " 'twelve_AUD_JPY.ds',\n",
       " 'twelve_AUD_NZD.ds',\n",
       " 'twelve_AUD_USD.ds',\n",
       " 'twelve_CAD_CHF.ds',\n",
       " 'twelve_CAD_JPY.ds',\n",
       " 'twelve_CHF_JPY.ds',\n",
       " 'twelve_EUR_AUD.ds',\n",
       " 'twelve_EUR_CAD.ds',\n",
       " 'twelve_EUR_CHF.ds',\n",
       " 'twelve_EUR_GBP.ds',\n",
       " 'twelve_EUR_JPY.ds',\n",
       " 'twelve_EUR_NZD.ds',\n",
       " 'twelve_EUR_USD.ds',\n",
       " 'twelve_GBP_AUD.ds',\n",
       " 'twelve_GBP_CAD.ds',\n",
       " 'twelve_GBP_CHF.ds',\n",
       " 'twelve_GBP_JPY.ds',\n",
       " 'twelve_GBP_NZD.ds',\n",
       " 'twelve_GBP_USD.ds',\n",
       " 'twelve_NZD_CAD.ds',\n",
       " 'twelve_NZD_CHF.ds',\n",
       " 'twelve_NZD_JPY.ds',\n",
       " 'twelve_NZD_USD.ds',\n",
       " 'twelve_USD_CAD.ds',\n",
       " 'twelve_USD_CHF.ds',\n",
       " 'twelve_USD_JPY.ds',\n",
       " 'USDCAD_.ds',\n",
       " 'USDCHF_.ds',\n",
       " 'USDJPY_.ds']"
      ]
     },
     "execution_count": 7,
     "metadata": {},
     "output_type": "execute_result"
    }
   ],
   "source": [
    "data_dir = './data/sets/'\n",
    "os.listdir(data_dir)"
   ]
  },
  {
   "cell_type": "code",
   "execution_count": 8,
   "metadata": {},
   "outputs": [],
   "source": [
    "# make eurusd the last dataset\n",
    "filenames =[\n",
    "    'AUDUSD_.ds',\n",
    "    'EURCHF_.ds',\n",
    "    'EURGBP_.ds',\n",
    "    'EURJPY_.ds',\n",
    "    'EURUSD_.ds',\n",
    "    'GBPJPY_.ds',\n",
    "    'GBPUSD_.ds',\n",
    "    'twelve_AUD_CAD.ds',\n",
    "    'twelve_AUD_CHF.ds',\n",
    "    'twelve_AUD_JPY.ds',\n",
    "    'twelve_AUD_NZD.ds',\n",
    "    'twelve_AUD_USD.ds',\n",
    "    'twelve_CAD_CHF.ds',\n",
    "    'twelve_CAD_JPY.ds',\n",
    "    'twelve_CHF_JPY.ds',\n",
    "    'twelve_EUR_AUD.ds',\n",
    "    'twelve_EUR_CAD.ds',\n",
    "    'twelve_EUR_CHF.ds',\n",
    "    'twelve_EUR_GBP.ds',\n",
    "    'twelve_EUR_JPY.ds',\n",
    "    'twelve_EUR_NZD.ds',\n",
    "    'twelve_GBP_AUD.ds',\n",
    "    'twelve_GBP_CAD.ds',\n",
    "    'twelve_GBP_CHF.ds',\n",
    "    'twelve_GBP_JPY.ds',\n",
    "    'twelve_GBP_NZD.ds',\n",
    "    'twelve_GBP_USD.ds',\n",
    "    'twelve_NZD_CAD.ds',\n",
    "    'twelve_NZD_CHF.ds',\n",
    "    'twelve_NZD_JPY.ds',\n",
    "    'twelve_NZD_USD.ds',\n",
    "    'twelve_USD_CAD.ds',\n",
    "    'twelve_USD_CHF.ds',\n",
    "    'twelve_USD_JPY.ds',\n",
    "    'USDCAD_.ds',\n",
    "    'USDCHF_.ds',\n",
    "    'USDJPY_.ds',\n",
    "    'twelve_EUR_USD.ds'\n",
    "]"
   ]
  },
  {
   "cell_type": "code",
   "execution_count": 9,
   "metadata": {},
   "outputs": [],
   "source": [
    "list_ds = [datasets.load_from_disk(data_dir + filename) for filename in filenames]"
   ]
  },
  {
   "cell_type": "code",
   "execution_count": 11,
   "metadata": {},
   "outputs": [],
   "source": [
    "all_datasets = concatenate_datasets(list_ds)\n",
    "all_datasets.save_to_disk(\"data/fx_days.ds\")"
   ]
  },
  {
   "cell_type": "code",
   "execution_count": 12,
   "metadata": {},
   "outputs": [
    {
     "data": {
      "text/plain": [
       "Dataset({\n",
       "    features: ['ohlcv', 'future'],\n",
       "    num_rows: 31795\n",
       "})"
      ]
     },
     "execution_count": 12,
     "metadata": {},
     "output_type": "execute_result"
    }
   ],
   "source": [
    "datasets.load_from_disk(\"data/fx_days.ds\")"
   ]
  }
 ],
 "metadata": {
  "kernelspec": {
   "display_name": "Python 3",
   "language": "python",
   "name": "python3"
  },
  "language_info": {
   "codemirror_mode": {
    "name": "ipython",
    "version": 3
   },
   "file_extension": ".py",
   "mimetype": "text/x-python",
   "name": "python",
   "nbconvert_exporter": "python",
   "pygments_lexer": "ipython3",
   "version": "3.8.5"
  }
 },
 "nbformat": 4,
 "nbformat_minor": 4
}
