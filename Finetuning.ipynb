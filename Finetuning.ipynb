{
 "cells": [
  {
   "cell_type": "code",
   "execution_count": null,
   "metadata": {},
   "outputs": [],
   "source": [
    "import MetaTrader5 as mt5"
   ]
  },
  {
   "cell_type": "code",
   "execution_count": null,
   "metadata": {},
   "outputs": [],
   "source": [
    "from trader_models import SRUTrader, GPT2Config\n",
    "\n",
    "import torch\n",
    "import pandas as pd\n",
    "import numpy as np\n",
    "\n",
    "from datetime import datetime, timedelta\n",
    "import pytz\n",
    "\n",
    "stds = [0.00020527, 0.00015178, 0.00015272, 0.00022341, 0.00463119]"
   ]
  },
  {
   "cell_type": "code",
   "execution_count": null,
   "metadata": {},
   "outputs": [],
   "source": [
    "mt5.initialize(path = \"C:/Program Files/Coinexx MT5 Terminal/terminal64.exe\",\n",
    "               login = 806219,\n",
    "               server = \"Coinexx-Demo\",\n",
    "               password = \"@Ma4J@p0#@epM#0\")"
   ]
  },
  {
   "cell_type": "markdown",
   "metadata": {},
   "source": [
    "# Finetuning"
   ]
  },
  {
   "cell_type": "markdown",
   "metadata": {},
   "source": [
    "## collect coinexx data for all currencies"
   ]
  },
  {
   "cell_type": "code",
   "execution_count": 199,
   "metadata": {},
   "outputs": [],
   "source": [
    "from datasets import Dataset, concatenate_datasets"
   ]
  },
  {
   "cell_type": "code",
   "execution_count": 205,
   "metadata": {},
   "outputs": [],
   "source": [
    "stds = {\n",
    "    'AUDUSD':[0.00017544, 0.0001289 , 0.00012869, 0.00020141, 0.00420767],\n",
    "    'EURCHF':[0.00015943, 0.00012811, 0.00012887, 0.00020714, 0.00346342],\n",
    "    'EURGBP':[0.00013495, 0.00010049, 0.00010396, 0.00015599, 0.00306316],\n",
    "    'EURJPY':[0.02540015, 0.01861955, 0.01853017, 0.02725528, 0.60491368],\n",
    "    'GBPJPY':[0.0333769 , 0.02473986, 0.0244145 , 0.03538734, 0.82613484],\n",
    "    'GBPUSD':[0.00024653, 0.00018456, 0.00018529, 0.00027917, 0.00578123],\n",
    "    'USDCAD':[0.00017359, 0.00012897, 0.00013408, 0.00024119, 0.00374798],\n",
    "    'USDCHF':[0.00017272, 0.00013109, 0.00013035, 0.00022164, 0.00414723],\n",
    "    'USDJPY':[0.01694065, 0.01276201, 0.01261803, 0.01969121, 0.40558088],\n",
    "    'EURUSD':[0.00020527, 0.00015178, 0.00015272, 0.00022341, 0.00463119]\n",
    "}"
   ]
  },
  {
   "cell_type": "code",
   "execution_count": 206,
   "metadata": {},
   "outputs": [],
   "source": [
    "def make_dataset(currency, periods = 60, stds = None):\n",
    "    bars = mt5.copy_rates_from(currency, mt5.TIMEFRAME_M1, datetime.now(), 65*1440)\n",
    "    bars = pd.DataFrame(bars)\n",
    "\n",
    "    # use coinexx timezone to avoid confusion (where 0:00 is start of trading day)\n",
    "    bars['time'] = pd.to_datetime(bars['time'], unit='s') - timedelta(hours = 3)\n",
    "    bars = bars.set_index('time')\n",
    "    \n",
    "    fx = bars.asfreq('1min')\n",
    "    fx['volume'] = fx['tick_volume']\n",
    "    \n",
    "    fx['close'] = fx['close'].fillna(method = 'ffill')\n",
    "    fx['volume'] = fx['volume'].fillna(0) # no volume in gaps (according to first rate data people)\n",
    "\n",
    "    # fill open high and low with most recent close\n",
    "    fx = fx.fillna({\n",
    "        'open': fx['close'],\n",
    "        'high': fx['close'],\n",
    "        'low': fx['close']\n",
    "    })\n",
    "\n",
    "    # define the \"trading day\" as from starting on 9pm UTC of the previous day ending at 8:59pm UTC\n",
    "    fx['day'] = fx.index.dayofweek \n",
    "    fx.loc[fx.between_time('21:00', '23:59').index, 'day'] += 1\n",
    "    fx['day'] = fx['day'] % 7 # sunday = 6, then + 1 would be 7 but we want that roll over to monday = 0\n",
    "\n",
    "    # ordinal trading day since start of data (just for help in preprocessing)\n",
    "    fx['ordinal_day'] = (fx['day'] != fx['day'].shift()).cumsum()\n",
    "\n",
    "    # let's just arbitrary say there should be less than 500 zero volume -- shouldn't really mattter in the end\n",
    "    voluminous_index = (fx['volume'] == 0.).groupby(fx['ordinal_day']).filter(lambda x: x.sum() < 500).index\n",
    "    fx = fx.loc[voluminous_index]\n",
    "\n",
    "    futures = {}\n",
    "    for i in range(1, periods + 1):\n",
    "        col_name = f'future_close{i}'\n",
    "        futures[col_name]  = fx['close'].shift(-i) - fx['close']\n",
    "    futures_df = pd.DataFrame(futures)\n",
    "    future_cols = futures_df.columns\n",
    "\n",
    "    fx = pd.concat((fx, futures_df), axis = 1)\n",
    "\n",
    "    # clean up data odditity of future columns coming from the future of non-consecutive days (i.e. no overnight trading)\n",
    "    fx['day_break'] = ((fx['day'] != (fx['day']).shift(-1)) & (fx['day'] != (fx['day'] - 1).shift(-1)))\n",
    "    no_futures = fx[fx.groupby('ordinal_day')['day_break'].transform('any')].between_time(f'{20 - periods // 60}:{59 - periods % 60}', '20:59').index\n",
    "    fx.loc[no_futures, future_cols] = 0\n",
    "\n",
    "    # de mean using opening price of day\n",
    "    fx['day_close'] = fx['close'].sub(fx.groupby('ordinal_day')['close'].transform('first'), axis = 0)\n",
    "    fx[['open', 'high', 'low']] = fx[['open', 'high', 'low']].sub(fx['close'], axis = 0)\n",
    "    fx['close'] = fx['close'] - fx['close'].shift(1)\n",
    "\n",
    "    #     # de mean volume using rolling average of day\n",
    "    #     fx[\"volume\"] = fx['volume'] - fx['volume'].groupby(fx['ordinal_day']).rolling(5000, min_periods = 0).mean().reset_index(drop = True, level = 0)\n",
    "\n",
    "    # get rid of first and last day due to data incompleteness\n",
    "    fx = fx.drop(fx[fx['ordinal_day'] == fx['ordinal_day'].min()].index)\n",
    "    fx = fx.drop(fx[fx['ordinal_day'] == fx['ordinal_day'].max()].index)\n",
    "\n",
    "    features = ['open', 'high', 'low', 'close', 'day_close']\n",
    "\n",
    "    fx[features] = fx[features].div(stds[currency], axis = 1)\n",
    "\n",
    "    ohlcv = fx[features].values.reshape(-1, 1440, 5)\n",
    "    future = fx[future_cols].values.reshape(-1, 1440, periods)\n",
    "\n",
    "    # save some memory\n",
    "    del fx\n",
    "\n",
    "    ds = Dataset.from_dict({\"ohlcv\": ohlcv, \"future\": future})\n",
    "    return ds"
   ]
  },
  {
   "cell_type": "code",
   "execution_count": 207,
   "metadata": {},
   "outputs": [
    {
     "name": "stdout",
     "output_type": "stream",
     "text": [
      "AUDUSD\n",
      "EURCHF\n",
      "EURGBP\n",
      "EURJPY\n",
      "GBPJPY\n",
      "GBPUSD\n",
      "USDCAD\n",
      "USDCHF\n",
      "USDJPY\n",
      "EURUSD\n"
     ]
    }
   ],
   "source": [
    "all_datasets = Dataset.from_dict({\"ohlcv\": [], \"future\": []}) # just an initialization\n",
    "\n",
    "for currency in stds.keys():\n",
    "    dataset = make_dataset(currency, periods = 60, stds = stds)\n",
    "    print(currency)\n",
    "    \n",
    "    all_datasets = concatenate_datasets((all_datasets, dataset))"
   ]
  },
  {
   "cell_type": "code",
   "execution_count": 215,
   "metadata": {},
   "outputs": [
    {
     "data": {
      "text/plain": [
       "DatasetDict({\n",
       "    train: Dataset({\n",
       "        features: ['ohlcv', 'future'],\n",
       "        num_rows: 641\n",
       "    })\n",
       "    test: Dataset({\n",
       "        features: ['ohlcv', 'future'],\n",
       "        num_rows: 14\n",
       "    })\n",
       "})"
      ]
     },
     "execution_count": 215,
     "metadata": {},
     "output_type": "execute_result"
    }
   ],
   "source": [
    "dataset = all_datasets.train_test_split(.02, shuffle = False)\n",
    "dataset"
   ]
  },
  {
   "cell_type": "code",
   "execution_count": 228,
   "metadata": {},
   "outputs": [],
   "source": [
    "dataset.save_to_disk('data/coinexx-aug-oct.dt')"
   ]
  },
  {
   "cell_type": "markdown",
   "metadata": {},
   "source": [
    "# Finetune model on coinexx data\n",
    "\n",
    "### Result: \n",
    "for some reason the model isn't able to identify as many trade oppurtunities and has much lower profits -- the main culprit I can see (from just visual chart analysis) is that coinexx provies their in-house bid price as the \"price\" for ohlc candles which can be quite 'off' when there's low volume (but is extremely similar when there's high volume). This shouldn't pose an issue when trading (since one would only reasonably trade when there's high volume), but does pose a model for getting accurate pricing data that the model can use and reasonably in-distribution."
   ]
  },
  {
   "cell_type": "code",
   "execution_count": 216,
   "metadata": {},
   "outputs": [],
   "source": [
    "from transformers import Trainer, TrainingArguments"
   ]
  },
  {
   "cell_type": "code",
   "execution_count": 217,
   "metadata": {},
   "outputs": [],
   "source": [
    "def compute_metrics(preds):\n",
    "    soft_profit, soft_trade = preds.predictions\n",
    "    abs_trade = np.abs(soft_trade)\n",
    "    abs_trade = abs_trade.astype('float64') # half precision will cause the sum to overflow on next line\n",
    "    trades = abs_trade.sum()\n",
    "    \n",
    "    day_profits = soft_profit.sum(axis = (1, 2))\n",
    "    \n",
    "    metrics = {\n",
    "        'day profit': day_profits.mean(),\n",
    "        'day sharpe': day_profits.mean() / day_profits.std(),\n",
    "        'trade %': trades * 100 / soft_profit.size,\n",
    "        \n",
    "#         'full trade %': (abs_trade >= .8).mean() * 100,\n",
    "#         'full trade accuracy': (soft_profit[abs_trade >= .8] > 0).mean() * 100,\n",
    "#         'full trade g/l': soft_profit[(abs_trade >= .8) & (soft_profit > 0)].mean()\n",
    "#                           / -soft_profit[(abs_trade >= .8) & (soft_profit < 0)].mean(),\n",
    "        \n",
    "        'medium trade %': ((abs_trade < .8) & (abs_trade >= .5)).mean() * 100,\n",
    "        'medium trade accuracy': (soft_profit[(abs_trade < .8) & (abs_trade >= .5)] > 0).mean() * 100,\n",
    "        'medium trade g/l': soft_profit[(abs_trade < .8) & (abs_trade >= .5) & (soft_profit > 0)].mean()\n",
    "                            / -soft_profit[(abs_trade < .8) & (abs_trade >= .5) & (soft_profit < 0)].mean(),       \n",
    "        \n",
    "        'small trade %': ((abs_trade < .5) & (abs_trade >= .2)).mean() * 100,\n",
    "        'small trade accuracy': (soft_profit[(abs_trade < .5) & (abs_trade >= .2)] > 0).mean() * 100,\n",
    "        'small trade g/l': soft_profit[(abs_trade < .5) & (abs_trade >= .2) & (soft_profit > 0)].mean()\n",
    "                            / -soft_profit[(abs_trade < .5) & (abs_trade >= .2) & (soft_profit < 0)].mean(),\n",
    "        \n",
    "        'micro trade %': ((abs_trade < .15) & (abs_trade >= .1)).mean() * 100,\n",
    "        'micro trade accuracy': (soft_profit[(abs_trade < .15) & (abs_trade >= .1)] > 0).mean() * 100,\n",
    "        'micro trade g/l': soft_profit[(abs_trade < .15) & (abs_trade >= .1) & (soft_profit > 0)].mean()\n",
    "                            / -soft_profit[(abs_trade < .15) & (abs_trade >= .1) & (soft_profit < 0)].mean(),\n",
    "    }\n",
    "    \n",
    "    # round the metrics\n",
    "    metrics = {k: np.format_float_positional(v, precision = 4) for k, v in metrics.items()}\n",
    "    \n",
    "    return metrics"
   ]
  },
  {
   "cell_type": "code",
   "execution_count": 223,
   "metadata": {},
   "outputs": [
    {
     "name": "stderr",
     "output_type": "stream",
     "text": [
      "PyTorch: setting up devices\n"
     ]
    }
   ],
   "source": [
    "training_args = TrainingArguments(\n",
    "    output_dir = \"./results\",\n",
    "    logging_strategy = \"steps\",\n",
    "    evaluation_strategy = \"steps\",\n",
    "    logging_steps = 10,\n",
    "    eval_steps = 10,\n",
    "    report_to = \"none\",\n",
    "    learning_rate = 5e-5,\n",
    "    weight_decay = .01,\n",
    "    lr_scheduler_type = \"cosine\",\n",
    "    warmup_ratio = .05,\n",
    "    num_train_epochs = 1,\n",
    "    per_device_train_batch_size = 2,\n",
    "    per_device_eval_batch_size = 2,\n",
    "    max_grad_norm = 1,\n",
    "    fp16 = True,\n",
    ")"
   ]
  },
  {
   "cell_type": "code",
   "execution_count": 224,
   "metadata": {},
   "outputs": [
    {
     "name": "stderr",
     "output_type": "stream",
     "text": [
      "loading weights file srupp.model\\pytorch_model.bin\n",
      "All model checkpoint weights were used when initializing SRUTrader.\n",
      "\n",
      "All the weights of SRUTrader were initialized from the model checkpoint at srupp.model.\n",
      "If your task is similar to the task the model of the checkpoint was trained on, you can already use SRUTrader for predictions without further training.\n"
     ]
    }
   ],
   "source": [
    "config = GPT2Config(\n",
    "    n_embd = 448, n_head = 7\n",
    ")\n",
    "model = SRUTrader.from_pretrained('srupp.model', config = config).cuda().eval()"
   ]
  },
  {
   "cell_type": "code",
   "execution_count": 225,
   "metadata": {},
   "outputs": [
    {
     "name": "stderr",
     "output_type": "stream",
     "text": [
      "Using cuda_amp half precision backend\n"
     ]
    }
   ],
   "source": [
    "trainer = Trainer(\n",
    "    model = model,\n",
    "    args = training_args,\n",
    "    train_dataset = dataset['train'],\n",
    "    eval_dataset = dataset['test'],\n",
    "    compute_metrics = compute_metrics\n",
    ")"
   ]
  },
  {
   "cell_type": "code",
   "execution_count": 227,
   "metadata": {},
   "outputs": [
    {
     "name": "stderr",
     "output_type": "stream",
     "text": [
      "***** Running training *****\n",
      "  Num examples = 641\n",
      "  Num Epochs = 1\n",
      "  Instantaneous batch size per device = 2\n",
      "  Total train batch size (w. parallel, distributed & accumulation) = 2\n",
      "  Gradient Accumulation steps = 1\n",
      "  Total optimization steps = 321\n",
      "Could not estimate the number of tokens of the input, floating-point operations will not be computed\n"
     ]
    },
    {
     "data": {
      "text/html": [
       "\n",
       "    <div>\n",
       "      \n",
       "      <progress value='321' max='321' style='width:300px; height:20px; vertical-align: middle;'></progress>\n",
       "      [321/321 02:38, Epoch 1/1]\n",
       "    </div>\n",
       "    <table border=\"1\" class=\"dataframe\">\n",
       "  <thead>\n",
       " <tr style=\"text-align: left;\">\n",
       "      <th>Step</th>\n",
       "      <th>Training Loss</th>\n",
       "      <th>Validation Loss</th>\n",
       "      <th>Day profit</th>\n",
       "      <th>Day sharpe</th>\n",
       "      <th>Trade %</th>\n",
       "      <th>Medium trade %</th>\n",
       "      <th>Medium trade accuracy</th>\n",
       "      <th>Medium trade g/l</th>\n",
       "      <th>Small trade %</th>\n",
       "      <th>Small trade accuracy</th>\n",
       "      <th>Small trade g/l</th>\n",
       "      <th>Micro trade %</th>\n",
       "      <th>Micro trade accuracy</th>\n",
       "      <th>Micro trade g/l</th>\n",
       "    </tr>\n",
       "  </thead>\n",
       "  <tbody>\n",
       "    <tr>\n",
       "      <td>10</td>\n",
       "      <td>0.678500</td>\n",
       "      <td>0.677094</td>\n",
       "      <td>0.0668</td>\n",
       "      <td>0.0689</td>\n",
       "      <td>5.6134</td>\n",
       "      <td>0.0053</td>\n",
       "      <td>87.5</td>\n",
       "      <td>3.5253</td>\n",
       "      <td>1.9693</td>\n",
       "      <td>57.2394</td>\n",
       "      <td>0.5636</td>\n",
       "      <td>9.6640</td>\n",
       "      <td>55.6375</td>\n",
       "      <td>0.9371</td>\n",
       "    </tr>\n",
       "    <tr>\n",
       "      <td>20</td>\n",
       "      <td>0.679200</td>\n",
       "      <td>0.677613</td>\n",
       "      <td>-0.0586</td>\n",
       "      <td>-0.0497</td>\n",
       "      <td>6.209</td>\n",
       "      <td>0.0287</td>\n",
       "      <td>92.2190</td>\n",
       "      <td>0.8637</td>\n",
       "      <td>3.106</td>\n",
       "      <td>56.2257</td>\n",
       "      <td>0.4972</td>\n",
       "      <td>11.4518</td>\n",
       "      <td>53.7983</td>\n",
       "      <td>0.8418</td>\n",
       "    </tr>\n",
       "    <tr>\n",
       "      <td>30</td>\n",
       "      <td>0.682400</td>\n",
       "      <td>0.677176</td>\n",
       "      <td>0.2364</td>\n",
       "      <td>0.2895</td>\n",
       "      <td>5.9066</td>\n",
       "      <td>0.0831</td>\n",
       "      <td>88.8557</td>\n",
       "      <td>4.3689</td>\n",
       "      <td>2.659</td>\n",
       "      <td>64.1296</td>\n",
       "      <td>0.7838</td>\n",
       "      <td>9.8556</td>\n",
       "      <td>54.9344</td>\n",
       "      <td>0.9163</td>\n",
       "    </tr>\n",
       "    <tr>\n",
       "      <td>40</td>\n",
       "      <td>0.680000</td>\n",
       "      <td>0.675608</td>\n",
       "      <td>0.4648</td>\n",
       "      <td>0.727</td>\n",
       "      <td>5.3418</td>\n",
       "      <td>0.1772</td>\n",
       "      <td>80.8302</td>\n",
       "      <td>3.7594</td>\n",
       "      <td>2.0070</td>\n",
       "      <td>72.579</td>\n",
       "      <td>1.8290</td>\n",
       "      <td>8.1332</td>\n",
       "      <td>54.2372</td>\n",
       "      <td>1.0298</td>\n",
       "    </tr>\n",
       "    <tr>\n",
       "      <td>50</td>\n",
       "      <td>0.685400</td>\n",
       "      <td>0.676420</td>\n",
       "      <td>0.2962</td>\n",
       "      <td>1.1447</td>\n",
       "      <td>3.3462</td>\n",
       "      <td>0.1686</td>\n",
       "      <td>81.4615</td>\n",
       "      <td>3.7596</td>\n",
       "      <td>1.2896</td>\n",
       "      <td>76.6844</td>\n",
       "      <td>2.6995</td>\n",
       "      <td>1.5069</td>\n",
       "      <td>63.0568</td>\n",
       "      <td>1.0549</td>\n",
       "    </tr>\n",
       "    <tr>\n",
       "      <td>60</td>\n",
       "      <td>0.675900</td>\n",
       "      <td>0.677618</td>\n",
       "      <td>0.1455</td>\n",
       "      <td>0.7713</td>\n",
       "      <td>3.2484</td>\n",
       "      <td>0.1702</td>\n",
       "      <td>78.679</td>\n",
       "      <td>3.6503</td>\n",
       "      <td>1.3376</td>\n",
       "      <td>74.5859</td>\n",
       "      <td>2.3588</td>\n",
       "      <td>1.8591</td>\n",
       "      <td>58.0621</td>\n",
       "      <td>0.8752</td>\n",
       "    </tr>\n",
       "    <tr>\n",
       "      <td>70</td>\n",
       "      <td>0.676600</td>\n",
       "      <td>0.678879</td>\n",
       "      <td>0.1148</td>\n",
       "      <td>0.4161</td>\n",
       "      <td>4.3692</td>\n",
       "      <td>0.4243</td>\n",
       "      <td>79.7545</td>\n",
       "      <td>3.5516</td>\n",
       "      <td>2.6283</td>\n",
       "      <td>64.8717</td>\n",
       "      <td>1.3612</td>\n",
       "      <td>3.9682</td>\n",
       "      <td>48.9031</td>\n",
       "      <td>0.8558</td>\n",
       "    </tr>\n",
       "    <tr>\n",
       "      <td>80</td>\n",
       "      <td>0.679400</td>\n",
       "      <td>0.677291</td>\n",
       "      <td>0.1607</td>\n",
       "      <td>0.5139</td>\n",
       "      <td>3.5497</td>\n",
       "      <td>0.296</td>\n",
       "      <td>78.9944</td>\n",
       "      <td>3.4975</td>\n",
       "      <td>1.7980</td>\n",
       "      <td>73.5298</td>\n",
       "      <td>2.1574</td>\n",
       "      <td>3.2226</td>\n",
       "      <td>49.1303</td>\n",
       "      <td>1.0511</td>\n",
       "    </tr>\n",
       "    <tr>\n",
       "      <td>90</td>\n",
       "      <td>0.681700</td>\n",
       "      <td>0.677227</td>\n",
       "      <td>0.1221</td>\n",
       "      <td>0.2331</td>\n",
       "      <td>3.8201</td>\n",
       "      <td>0.1045</td>\n",
       "      <td>75.2373</td>\n",
       "      <td>3.8161</td>\n",
       "      <td>1.2612</td>\n",
       "      <td>77.7516</td>\n",
       "      <td>2.6787</td>\n",
       "      <td>3.6462</td>\n",
       "      <td>48.4877</td>\n",
       "      <td>0.9430</td>\n",
       "    </tr>\n",
       "    <tr>\n",
       "      <td>100</td>\n",
       "      <td>0.674300</td>\n",
       "      <td>0.679956</td>\n",
       "      <td>0.3865</td>\n",
       "      <td>0.6067</td>\n",
       "      <td>5.1926</td>\n",
       "      <td>0.0063</td>\n",
       "      <td>93.4211</td>\n",
       "      <td>14.0342</td>\n",
       "      <td>0.4253</td>\n",
       "      <td>79.7434</td>\n",
       "      <td>3.8279</td>\n",
       "      <td>5.2562</td>\n",
       "      <td>57.0267</td>\n",
       "      <td>1.1843</td>\n",
       "    </tr>\n",
       "    <tr>\n",
       "      <td>110</td>\n",
       "      <td>0.676300</td>\n",
       "      <td>0.681185</td>\n",
       "      <td>0.4393</td>\n",
       "      <td>0.5181</td>\n",
       "      <td>6.3548</td>\n",
       "      <td>0.0013</td>\n",
       "      <td>87.5</td>\n",
       "      <td>14.6453</td>\n",
       "      <td>0.3249</td>\n",
       "      <td>78.3715</td>\n",
       "      <td>4.2421</td>\n",
       "      <td>14.3517</td>\n",
       "      <td>54.5715</td>\n",
       "      <td>1.2369</td>\n",
       "    </tr>\n",
       "    <tr>\n",
       "      <td>120</td>\n",
       "      <td>0.683700</td>\n",
       "      <td>0.679259</td>\n",
       "      <td>0.3882</td>\n",
       "      <td>0.6740</td>\n",
       "      <td>4.9409</td>\n",
       "      <td>0.0100</td>\n",
       "      <td>93.3884</td>\n",
       "      <td>14.1007</td>\n",
       "      <td>0.472</td>\n",
       "      <td>80.1191</td>\n",
       "      <td>3.672</td>\n",
       "      <td>2.8394</td>\n",
       "      <td>62.472</td>\n",
       "      <td>1.1643</td>\n",
       "    </tr>\n",
       "    <tr>\n",
       "      <td>130</td>\n",
       "      <td>0.678000</td>\n",
       "      <td>0.677045</td>\n",
       "      <td>0.2517</td>\n",
       "      <td>0.8722</td>\n",
       "      <td>3.1983</td>\n",
       "      <td>0.047</td>\n",
       "      <td>93.4859</td>\n",
       "      <td>7.2448</td>\n",
       "      <td>0.9878</td>\n",
       "      <td>79.6385</td>\n",
       "      <td>2.906</td>\n",
       "      <td>2.1442</td>\n",
       "      <td>60.0208</td>\n",
       "      <td>1.4879</td>\n",
       "    </tr>\n",
       "    <tr>\n",
       "      <td>140</td>\n",
       "      <td>0.675800</td>\n",
       "      <td>0.676312</td>\n",
       "      <td>0.3607</td>\n",
       "      <td>1.047</td>\n",
       "      <td>3.8279</td>\n",
       "      <td>0.2068</td>\n",
       "      <td>80.048</td>\n",
       "      <td>3.3965</td>\n",
       "      <td>1.8109</td>\n",
       "      <td>74.0196</td>\n",
       "      <td>2.0390</td>\n",
       "      <td>1.3051</td>\n",
       "      <td>61.0566</td>\n",
       "      <td>1.2599</td>\n",
       "    </tr>\n",
       "    <tr>\n",
       "      <td>150</td>\n",
       "      <td>0.680400</td>\n",
       "      <td>0.676470</td>\n",
       "      <td>0.5032</td>\n",
       "      <td>1.0531</td>\n",
       "      <td>5.2004</td>\n",
       "      <td>0.5634</td>\n",
       "      <td>79.8973</td>\n",
       "      <td>2.9616</td>\n",
       "      <td>2.8226</td>\n",
       "      <td>66.0067</td>\n",
       "      <td>1.6048</td>\n",
       "      <td>3.152</td>\n",
       "      <td>55.2458</td>\n",
       "      <td>1.1014</td>\n",
       "    </tr>\n",
       "    <tr>\n",
       "      <td>160</td>\n",
       "      <td>0.679900</td>\n",
       "      <td>0.676128</td>\n",
       "      <td>0.3961</td>\n",
       "      <td>0.9581</td>\n",
       "      <td>4.4336</td>\n",
       "      <td>0.2449</td>\n",
       "      <td>79.9122</td>\n",
       "      <td>3.7438</td>\n",
       "      <td>2.2247</td>\n",
       "      <td>71.3081</td>\n",
       "      <td>1.7974</td>\n",
       "      <td>2.7580</td>\n",
       "      <td>52.3306</td>\n",
       "      <td>1.1875</td>\n",
       "    </tr>\n",
       "    <tr>\n",
       "      <td>170</td>\n",
       "      <td>0.675700</td>\n",
       "      <td>0.675975</td>\n",
       "      <td>0.3749</td>\n",
       "      <td>0.9423</td>\n",
       "      <td>4.2149</td>\n",
       "      <td>0.1934</td>\n",
       "      <td>81.0603</td>\n",
       "      <td>3.9755</td>\n",
       "      <td>1.972</td>\n",
       "      <td>73.299</td>\n",
       "      <td>1.9251</td>\n",
       "      <td>2.6911</td>\n",
       "      <td>52.5006</td>\n",
       "      <td>1.167</td>\n",
       "    </tr>\n",
       "    <tr>\n",
       "      <td>180</td>\n",
       "      <td>0.682700</td>\n",
       "      <td>0.676723</td>\n",
       "      <td>0.4461</td>\n",
       "      <td>1.0071</td>\n",
       "      <td>4.5753</td>\n",
       "      <td>0.1014</td>\n",
       "      <td>88.6623</td>\n",
       "      <td>4.1830</td>\n",
       "      <td>1.4622</td>\n",
       "      <td>76.1746</td>\n",
       "      <td>2.3779</td>\n",
       "      <td>3.0757</td>\n",
       "      <td>56.373</td>\n",
       "      <td>1.2854</td>\n",
       "    </tr>\n",
       "    <tr>\n",
       "      <td>190</td>\n",
       "      <td>0.674300</td>\n",
       "      <td>0.676787</td>\n",
       "      <td>0.4721</td>\n",
       "      <td>0.9867</td>\n",
       "      <td>4.7884</td>\n",
       "      <td>0.0954</td>\n",
       "      <td>88.9948</td>\n",
       "      <td>4.2235</td>\n",
       "      <td>1.4293</td>\n",
       "      <td>77.5291</td>\n",
       "      <td>2.5237</td>\n",
       "      <td>3.6857</td>\n",
       "      <td>56.3097</td>\n",
       "      <td>1.3443</td>\n",
       "    </tr>\n",
       "    <tr>\n",
       "      <td>200</td>\n",
       "      <td>0.674100</td>\n",
       "      <td>0.676274</td>\n",
       "      <td>0.4437</td>\n",
       "      <td>0.9996</td>\n",
       "      <td>4.7745</td>\n",
       "      <td>0.1471</td>\n",
       "      <td>83.0242</td>\n",
       "      <td>4.1272</td>\n",
       "      <td>2.0928</td>\n",
       "      <td>74.5052</td>\n",
       "      <td>2.0110</td>\n",
       "      <td>3.7748</td>\n",
       "      <td>50.3285</td>\n",
       "      <td>1.1844</td>\n",
       "    </tr>\n",
       "    <tr>\n",
       "      <td>210</td>\n",
       "      <td>0.675100</td>\n",
       "      <td>0.676354</td>\n",
       "      <td>0.3691</td>\n",
       "      <td>0.9028</td>\n",
       "      <td>4.5788</td>\n",
       "      <td>0.1647</td>\n",
       "      <td>81.4257</td>\n",
       "      <td>4.0792</td>\n",
       "      <td>2.6315</td>\n",
       "      <td>70.8240</td>\n",
       "      <td>1.8772</td>\n",
       "      <td>3.8512</td>\n",
       "      <td>46.7585</td>\n",
       "      <td>0.9004</td>\n",
       "    </tr>\n",
       "    <tr>\n",
       "      <td>220</td>\n",
       "      <td>0.673400</td>\n",
       "      <td>0.676454</td>\n",
       "      <td>0.3322</td>\n",
       "      <td>0.8583</td>\n",
       "      <td>4.5311</td>\n",
       "      <td>0.1906</td>\n",
       "      <td>81.0061</td>\n",
       "      <td>4.0291</td>\n",
       "      <td>2.7941</td>\n",
       "      <td>70.095</td>\n",
       "      <td>1.7797</td>\n",
       "      <td>3.9048</td>\n",
       "      <td>45.6470</td>\n",
       "      <td>0.8557</td>\n",
       "    </tr>\n",
       "    <tr>\n",
       "      <td>230</td>\n",
       "      <td>0.676700</td>\n",
       "      <td>0.676601</td>\n",
       "      <td>0.3376</td>\n",
       "      <td>1.0016</td>\n",
       "      <td>4.1047</td>\n",
       "      <td>0.1553</td>\n",
       "      <td>81.9585</td>\n",
       "      <td>4.1433</td>\n",
       "      <td>1.9548</td>\n",
       "      <td>73.0514</td>\n",
       "      <td>1.8496</td>\n",
       "      <td>2.8491</td>\n",
       "      <td>51.7686</td>\n",
       "      <td>1.1529</td>\n",
       "    </tr>\n",
       "    <tr>\n",
       "      <td>240</td>\n",
       "      <td>0.676200</td>\n",
       "      <td>0.676991</td>\n",
       "      <td>0.3725</td>\n",
       "      <td>1.0133</td>\n",
       "      <td>4.165</td>\n",
       "      <td>0.1375</td>\n",
       "      <td>83.8244</td>\n",
       "      <td>4.0194</td>\n",
       "      <td>1.6901</td>\n",
       "      <td>73.7808</td>\n",
       "      <td>1.9799</td>\n",
       "      <td>1.9285</td>\n",
       "      <td>54.7692</td>\n",
       "      <td>1.2205</td>\n",
       "    </tr>\n",
       "    <tr>\n",
       "      <td>250</td>\n",
       "      <td>0.677600</td>\n",
       "      <td>0.676730</td>\n",
       "      <td>0.3222</td>\n",
       "      <td>1.0522</td>\n",
       "      <td>3.8582</td>\n",
       "      <td>0.1491</td>\n",
       "      <td>82.8064</td>\n",
       "      <td>4.0523</td>\n",
       "      <td>1.7403</td>\n",
       "      <td>73.645</td>\n",
       "      <td>1.9308</td>\n",
       "      <td>2.1236</td>\n",
       "      <td>54.2414</td>\n",
       "      <td>1.2872</td>\n",
       "    </tr>\n",
       "    <tr>\n",
       "      <td>260</td>\n",
       "      <td>0.674200</td>\n",
       "      <td>0.676660</td>\n",
       "      <td>0.3012</td>\n",
       "      <td>0.9917</td>\n",
       "      <td>3.8611</td>\n",
       "      <td>0.1785</td>\n",
       "      <td>81.334</td>\n",
       "      <td>4.1067</td>\n",
       "      <td>2.0241</td>\n",
       "      <td>71.9969</td>\n",
       "      <td>1.7912</td>\n",
       "      <td>2.2586</td>\n",
       "      <td>52.1559</td>\n",
       "      <td>1.1547</td>\n",
       "    </tr>\n",
       "    <tr>\n",
       "      <td>270</td>\n",
       "      <td>0.674800</td>\n",
       "      <td>0.676563</td>\n",
       "      <td>0.2924</td>\n",
       "      <td>0.9338</td>\n",
       "      <td>3.9195</td>\n",
       "      <td>0.2005</td>\n",
       "      <td>80.7835</td>\n",
       "      <td>3.9596</td>\n",
       "      <td>2.1656</td>\n",
       "      <td>71.6244</td>\n",
       "      <td>1.7562</td>\n",
       "      <td>2.5655</td>\n",
       "      <td>51.4856</td>\n",
       "      <td>1.1170</td>\n",
       "    </tr>\n",
       "    <tr>\n",
       "      <td>280</td>\n",
       "      <td>0.674600</td>\n",
       "      <td>0.676500</td>\n",
       "      <td>0.2838</td>\n",
       "      <td>0.8732</td>\n",
       "      <td>3.994</td>\n",
       "      <td>0.2241</td>\n",
       "      <td>80.4131</td>\n",
       "      <td>3.9088</td>\n",
       "      <td>2.2917</td>\n",
       "      <td>70.8983</td>\n",
       "      <td>1.7160</td>\n",
       "      <td>2.8518</td>\n",
       "      <td>50.6102</td>\n",
       "      <td>1.0734</td>\n",
       "    </tr>\n",
       "    <tr>\n",
       "      <td>290</td>\n",
       "      <td>0.668900</td>\n",
       "      <td>0.676473</td>\n",
       "      <td>0.28</td>\n",
       "      <td>0.8347</td>\n",
       "      <td>4.0415</td>\n",
       "      <td>0.2470</td>\n",
       "      <td>80.5556</td>\n",
       "      <td>3.9476</td>\n",
       "      <td>2.3973</td>\n",
       "      <td>70.2048</td>\n",
       "      <td>1.6709</td>\n",
       "      <td>2.9335</td>\n",
       "      <td>50.0225</td>\n",
       "      <td>1.0452</td>\n",
       "    </tr>\n",
       "    <tr>\n",
       "      <td>300</td>\n",
       "      <td>0.675100</td>\n",
       "      <td>0.676480</td>\n",
       "      <td>0.2852</td>\n",
       "      <td>0.8495</td>\n",
       "      <td>4.0480</td>\n",
       "      <td>0.2543</td>\n",
       "      <td>80.5267</td>\n",
       "      <td>3.9569</td>\n",
       "      <td>2.4540</td>\n",
       "      <td>70.0141</td>\n",
       "      <td>1.6501</td>\n",
       "      <td>2.8918</td>\n",
       "      <td>49.7241</td>\n",
       "      <td>1.0402</td>\n",
       "    </tr>\n",
       "    <tr>\n",
       "      <td>310</td>\n",
       "      <td>0.673000</td>\n",
       "      <td>0.676494</td>\n",
       "      <td>0.2890</td>\n",
       "      <td>0.8706</td>\n",
       "      <td>4.0576</td>\n",
       "      <td>0.2594</td>\n",
       "      <td>80.529</td>\n",
       "      <td>3.9484</td>\n",
       "      <td>2.484</td>\n",
       "      <td>69.8662</td>\n",
       "      <td>1.6447</td>\n",
       "      <td>2.8454</td>\n",
       "      <td>49.5903</td>\n",
       "      <td>1.0440</td>\n",
       "    </tr>\n",
       "    <tr>\n",
       "      <td>320</td>\n",
       "      <td>0.676000</td>\n",
       "      <td>0.676492</td>\n",
       "      <td>0.2899</td>\n",
       "      <td>0.8742</td>\n",
       "      <td>4.0593</td>\n",
       "      <td>0.2607</td>\n",
       "      <td>80.4313</td>\n",
       "      <td>3.9569</td>\n",
       "      <td>2.4882</td>\n",
       "      <td>69.8475</td>\n",
       "      <td>1.6435</td>\n",
       "      <td>2.8374</td>\n",
       "      <td>49.477</td>\n",
       "      <td>1.0393</td>\n",
       "    </tr>\n",
       "  </tbody>\n",
       "</table><p>"
      ],
      "text/plain": [
       "<IPython.core.display.HTML object>"
      ]
     },
     "metadata": {},
     "output_type": "display_data"
    },
    {
     "name": "stderr",
     "output_type": "stream",
     "text": [
      "***** Running Evaluation *****\n",
      "  Num examples = 14\n",
      "  Batch size = 2\n",
      "***** Running Evaluation *****\n",
      "  Num examples = 14\n",
      "  Batch size = 2\n",
      "***** Running Evaluation *****\n",
      "  Num examples = 14\n",
      "  Batch size = 2\n",
      "***** Running Evaluation *****\n",
      "  Num examples = 14\n",
      "  Batch size = 2\n",
      "***** Running Evaluation *****\n",
      "  Num examples = 14\n",
      "  Batch size = 2\n",
      "***** Running Evaluation *****\n",
      "  Num examples = 14\n",
      "  Batch size = 2\n",
      "***** Running Evaluation *****\n",
      "  Num examples = 14\n",
      "  Batch size = 2\n",
      "***** Running Evaluation *****\n",
      "  Num examples = 14\n",
      "  Batch size = 2\n",
      "***** Running Evaluation *****\n",
      "  Num examples = 14\n",
      "  Batch size = 2\n",
      "***** Running Evaluation *****\n",
      "  Num examples = 14\n",
      "  Batch size = 2\n",
      "***** Running Evaluation *****\n",
      "  Num examples = 14\n",
      "  Batch size = 2\n",
      "***** Running Evaluation *****\n",
      "  Num examples = 14\n",
      "  Batch size = 2\n",
      "***** Running Evaluation *****\n",
      "  Num examples = 14\n",
      "  Batch size = 2\n",
      "***** Running Evaluation *****\n",
      "  Num examples = 14\n",
      "  Batch size = 2\n",
      "***** Running Evaluation *****\n",
      "  Num examples = 14\n",
      "  Batch size = 2\n",
      "***** Running Evaluation *****\n",
      "  Num examples = 14\n",
      "  Batch size = 2\n",
      "***** Running Evaluation *****\n",
      "  Num examples = 14\n",
      "  Batch size = 2\n",
      "***** Running Evaluation *****\n",
      "  Num examples = 14\n",
      "  Batch size = 2\n",
      "***** Running Evaluation *****\n",
      "  Num examples = 14\n",
      "  Batch size = 2\n",
      "***** Running Evaluation *****\n",
      "  Num examples = 14\n",
      "  Batch size = 2\n",
      "***** Running Evaluation *****\n",
      "  Num examples = 14\n",
      "  Batch size = 2\n",
      "***** Running Evaluation *****\n",
      "  Num examples = 14\n",
      "  Batch size = 2\n",
      "***** Running Evaluation *****\n",
      "  Num examples = 14\n",
      "  Batch size = 2\n",
      "***** Running Evaluation *****\n",
      "  Num examples = 14\n",
      "  Batch size = 2\n",
      "***** Running Evaluation *****\n",
      "  Num examples = 14\n",
      "  Batch size = 2\n",
      "***** Running Evaluation *****\n",
      "  Num examples = 14\n",
      "  Batch size = 2\n",
      "***** Running Evaluation *****\n",
      "  Num examples = 14\n",
      "  Batch size = 2\n",
      "***** Running Evaluation *****\n",
      "  Num examples = 14\n",
      "  Batch size = 2\n",
      "***** Running Evaluation *****\n",
      "  Num examples = 14\n",
      "  Batch size = 2\n",
      "***** Running Evaluation *****\n",
      "  Num examples = 14\n",
      "  Batch size = 2\n",
      "***** Running Evaluation *****\n",
      "  Num examples = 14\n",
      "  Batch size = 2\n",
      "***** Running Evaluation *****\n",
      "  Num examples = 14\n",
      "  Batch size = 2\n",
      "\n",
      "\n",
      "Training completed. Do not forget to share your model on huggingface.co/models =)\n",
      "\n",
      "\n"
     ]
    },
    {
     "data": {
      "text/plain": [
       "TrainOutput(global_step=321, training_loss=0.6772050647720741, metrics={'train_runtime': 158.664, 'train_samples_per_second': 4.04, 'train_steps_per_second': 2.023, 'total_flos': 0.0, 'train_loss': 0.6772050647720741, 'epoch': 1.0})"
      ]
     },
     "execution_count": 227,
     "metadata": {},
     "output_type": "execute_result"
    }
   ],
   "source": [
    "trainer.train()"
   ]
  },
  {
   "cell_type": "code",
   "execution_count": 16,
   "metadata": {},
   "outputs": [
    {
     "name": "stderr",
     "output_type": "stream",
     "text": [
      "***** Running Prediction *****\n",
      "  Num examples = 60\n",
      "  Batch size = 1\n"
     ]
    },
    {
     "data": {
      "text/html": [],
      "text/plain": [
       "<IPython.core.display.HTML object>"
      ]
     },
     "metadata": {},
     "output_type": "display_data"
    },
    {
     "name": "stderr",
     "output_type": "stream",
     "text": [
      "<ipython-input-10-3fb8edfb8ee8>:15: RuntimeWarning: Mean of empty slice.\n",
      "  'full trade accuracy': (soft_profit[abs_trade >= .8] > 0).mean() * 100,\n",
      "<ipython-input-10-3fb8edfb8ee8>:16: RuntimeWarning: Mean of empty slice.\n",
      "  'full trade g/l': soft_profit[(abs_trade >= .8) & (soft_profit > 0)].mean()\n",
      "<ipython-input-10-3fb8edfb8ee8>:17: RuntimeWarning: Mean of empty slice.\n",
      "  / -soft_profit[(abs_trade >= .8) & (soft_profit < 0)].mean(),\n"
     ]
    }
   ],
   "source": [
    "soft_profit, soft_trade = trainer.predict(ds).predictions"
   ]
  },
  {
   "cell_type": "code",
   "execution_count": 18,
   "metadata": {},
   "outputs": [
    {
     "data": {
      "text/plain": [
       "array([[[ 0.00000000e+00,  0.00000000e+00,  0.00000000e+00, ...,\n",
       "          1.49585641e-04,  7.14117923e-05,  1.62243377e-04],\n",
       "        [ 0.00000000e+00,  0.00000000e+00,  0.00000000e+00, ...,\n",
       "          1.64430734e-04,  2.10088954e-04,  1.83061929e-04],\n",
       "        [ 0.00000000e+00,  0.00000000e+00,  6.24865352e-05, ...,\n",
       "          2.17204259e-04,  1.66988262e-04,  1.66958242e-04],\n",
       "        ...,\n",
       "        [ 4.47448747e-06,  1.28042984e-05,  1.47973205e-05, ...,\n",
       "         -4.12161262e-06, -8.11238078e-06,  8.11315431e-07],\n",
       "        [-9.66660991e-06, -8.32455680e-06, -6.23248616e-06, ...,\n",
       "         -1.16448173e-05, -1.15573885e-05, -3.67991743e-06],\n",
       "        [ 0.00000000e+00,  0.00000000e+00,  0.00000000e+00, ...,\n",
       "         -6.94259052e-06, -3.50047344e-06, -1.27684780e-05]],\n",
       "\n",
       "       [[ 0.00000000e+00,  0.00000000e+00,  0.00000000e+00, ...,\n",
       "          1.05956497e-04,  4.46323720e-05,  1.47033061e-04],\n",
       "        [ 0.00000000e+00,  0.00000000e+00,  0.00000000e+00, ...,\n",
       "          1.02769220e-04,  1.90393112e-04,  1.86451973e-04],\n",
       "        [ 0.00000000e+00,  0.00000000e+00,  3.28876490e-06, ...,\n",
       "          1.96841356e-04,  1.70080646e-04,  1.70365558e-04],\n",
       "        ...,\n",
       "        [-0.00000000e+00, -0.00000000e+00, -0.00000000e+00, ...,\n",
       "         -0.00000000e+00, -0.00000000e+00, -0.00000000e+00],\n",
       "        [ 0.00000000e+00,  0.00000000e+00,  0.00000000e+00, ...,\n",
       "         -0.00000000e+00, -0.00000000e+00, -0.00000000e+00],\n",
       "        [-0.00000000e+00,  0.00000000e+00,  0.00000000e+00, ...,\n",
       "         -0.00000000e+00, -0.00000000e+00, -0.00000000e+00]],\n",
       "\n",
       "       [[ 0.00000000e+00,  0.00000000e+00,  0.00000000e+00, ...,\n",
       "          1.02840131e-04,  4.90956081e-05,  2.53505277e-06],\n",
       "        [ 0.00000000e+00,  0.00000000e+00,  0.00000000e+00, ...,\n",
       "          1.13046139e-04,  3.28263991e-06,  6.44106840e-05],\n",
       "        [ 0.00000000e+00,  0.00000000e+00,  4.27539453e-05, ...,\n",
       "          3.39381654e-06,  5.87551331e-05, -1.09033950e-04],\n",
       "        ...,\n",
       "        [ 2.10692576e-07, -1.13481865e-05, -5.33468119e-06, ...,\n",
       "          2.51626238e-06,  2.52784480e-06,  4.47712409e-06],\n",
       "        [ 6.51493065e-06, -4.09073800e-06,  3.80238293e-06, ...,\n",
       "          1.60451896e-06,  2.18653690e-06,  5.33994307e-06],\n",
       "        [ 0.00000000e+00,  0.00000000e+00,  0.00000000e+00, ...,\n",
       "          4.36097162e-06,  3.21112043e-06, -1.03671464e-05]],\n",
       "\n",
       "       ...,\n",
       "\n",
       "       [[ 0.00000000e+00,  0.00000000e+00,  0.00000000e+00, ...,\n",
       "          6.29506249e-04,  3.31767282e-04,  5.67851879e-04],\n",
       "        [ 0.00000000e+00,  0.00000000e+00,  0.00000000e+00, ...,\n",
       "          7.63917807e-04,  7.35311361e-04,  8.98359518e-04],\n",
       "        [ 0.00000000e+00,  0.00000000e+00,  3.12432676e-04, ...,\n",
       "          7.60214927e-04,  8.19479465e-04,  6.67832966e-04],\n",
       "        ...,\n",
       "        [-2.60789693e-06, -5.96062910e-06, -3.55776365e-06, ...,\n",
       "         -1.27104886e-06, -3.56995770e-06,  9.34450418e-06],\n",
       "        [-1.34139589e-06, -1.81692656e-06, -1.16339379e-06, ...,\n",
       "         -1.37327311e-06, -4.86201634e-06,  6.50236416e-06],\n",
       "        [ 0.00000000e+00,  0.00000000e+00,  0.00000000e+00, ...,\n",
       "         -2.69752582e-06, -9.02209285e-06,  3.45118633e-06]],\n",
       "\n",
       "       [[ 0.00000000e+00,  0.00000000e+00,  0.00000000e+00, ...,\n",
       "         -9.34910277e-05, -2.97549122e-05,  6.08412665e-05],\n",
       "        [ 0.00000000e+00,  0.00000000e+00,  0.00000000e+00, ...,\n",
       "         -6.85128107e-05,  7.87833560e-05,  6.44106840e-05],\n",
       "        [ 0.00000000e+00,  0.00000000e+00,  4.93314765e-05, ...,\n",
       "          8.14515952e-05,  5.87551331e-05,  5.79242878e-05],\n",
       "        ...,\n",
       "        [-4.25709771e-07,  3.52929078e-06,  6.02839873e-06, ...,\n",
       "          1.45411350e-05,  1.27392914e-05,  1.34782940e-05],\n",
       "        [ 4.11976907e-06,  4.43255931e-06,  7.73561078e-06, ...,\n",
       "          1.58519051e-05,  1.69762134e-05,  1.65302172e-05],\n",
       "        [ 0.00000000e+00,  0.00000000e+00,  0.00000000e+00, ...,\n",
       "         -3.85181556e-06, -5.70186648e-06, -9.68520544e-06]],\n",
       "\n",
       "       [[ 0.00000000e+00,  0.00000000e+00,  0.00000000e+00, ...,\n",
       "          8.72582896e-05,  3.27304042e-05, -5.07010554e-06],\n",
       "        [ 0.00000000e+00,  0.00000000e+00,  0.00000000e+00, ...,\n",
       "          7.53640925e-05, -6.56527982e-06, -1.25431325e-04],\n",
       "        [ 0.00000000e+00,  0.00000000e+00,  6.57752980e-06, ...,\n",
       "         -6.78763308e-06, -1.14417890e-04, -1.15848576e-04],\n",
       "        ...,\n",
       "        [ 1.95374082e-06,  2.18316909e-05,  1.74612960e-05, ...,\n",
       "          2.15423916e-05,  2.29487014e-05,  3.18853672e-05],\n",
       "        [-7.72666317e-06,  3.12810448e-06,  2.07336439e-06, ...,\n",
       "          1.30389044e-05,  1.70219428e-05,  2.07311423e-05],\n",
       "        [ 0.00000000e+00,  0.00000000e+00,  0.00000000e+00, ...,\n",
       "          3.75703689e-06,  4.96015537e-06,             nan]]],\n",
       "      dtype=float32)"
      ]
     },
     "execution_count": 18,
     "metadata": {},
     "output_type": "execute_result"
    }
   ],
   "source": [
    "soft_profit"
   ]
  },
  {
   "cell_type": "code",
   "execution_count": 21,
   "metadata": {},
   "outputs": [
    {
     "data": {
      "text/plain": [
       "array([-0.10601331,  0.19516471,  0.23336619, -0.05969831, -0.4341677 ,\n",
       "       -0.02745487,  0.51009107,  0.6031806 ,  0.16753218,  0.4870276 ,\n",
       "        0.32832676,  0.3179854 ,  0.34116435,  0.12706763,  0.24137959,\n",
       "        0.29164404, -0.33993146, -0.45186442,  0.57859915,  0.0011117 ,\n",
       "       -0.01809889, -0.09342682, -0.35466096,  0.33533168, -0.2679992 ,\n",
       "        0.2728712 , -0.6233173 , -0.30619666,  0.50972503,  0.32917267,\n",
       "        0.21646272,  0.2082004 ,  0.10806694,  0.33817148,  0.44864586,\n",
       "        0.10449322,  0.70270455,  0.33602938,  0.12963685, -0.05887564,\n",
       "        0.4174014 ,  0.33633503,  0.32883826, -0.80043465,  0.65656275,\n",
       "        0.33215594,  0.8055757 ,  0.4326677 ,  0.06251893,  0.42092678,\n",
       "        0.25705886,  0.2973602 , -0.21407813,  0.34523734,  0.47126114,\n",
       "        0.10435741, -0.13981313,  0.836215  , -0.47440407, -0.51945966],\n",
       "      dtype=float32)"
      ]
     },
     "execution_count": 21,
     "metadata": {},
     "output_type": "execute_result"
    }
   ],
   "source": [
    "np.nansum(soft_profit, axis = (1, 2))"
   ]
  },
  {
   "cell_type": "code",
   "execution_count": 305,
   "metadata": {},
   "outputs": [
    {
     "data": {
      "text/plain": [
       "(array([ 1.,  0.,  1.,  1.,  2.,  2.,  2.,  1.,  3.,  5.,  1.,  6.,  6.,\n",
       "        13.,  3.,  4.,  3.,  2.,  1.,  2.]),\n",
       " array([-0.80043465, -0.7186022 , -0.63676965, -0.5549372 , -0.47310472,\n",
       "        -0.39127225, -0.30943975, -0.22760727, -0.14577478, -0.0639423 ,\n",
       "         0.01789019,  0.09972267,  0.18155515,  0.26338762,  0.34522012,\n",
       "         0.42705262,  0.5088851 ,  0.59071755,  0.6725501 ,  0.75438255,\n",
       "         0.836215  ], dtype=float32),\n",
       " <BarContainer object of 20 artists>)"
      ]
     },
     "execution_count": 305,
     "metadata": {},
     "output_type": "execute_result"
    },
    {
     "data": {
      "image/png": "[encoded data removed]",
      "text/plain": [
       "<Figure size 432x288 with 1 Axes>"
      ]
     },
     "metadata": {
      "needs_background": "light"
     },
     "output_type": "display_data"
    }
   ],
   "source": [
    "import matplotlib.pyplot as plt\n",
    "\n",
    "plt.hist(soft_profit.sum(axis = (1, 2)), bins = 20)"
   ]
  },
  {
   "cell_type": "code",
   "execution_count": 132,
   "metadata": {},
   "outputs": [
    {
     "data": {
      "text/plain": [
       "array([24.,  5.,  0.,  0.,  0.,  0.,  0.,  0.,  0.,  0.,  0.,  0.,  0.,\n",
       "        0.,  0.,  0.,  0.,  0.,  0.,  0.,  0.,  0.,  0.,  0.])"
      ]
     },
     "execution_count": 132,
     "metadata": {},
     "output_type": "execute_result"
    }
   ],
   "source": [
    "# full trade percent on 24 hours, ignoring last hour, it makes most trades in london and ny sessions (esp overlap)\n",
    "((np.abs(soft_trade) > .2).mean(axis = (0, 2)).reshape(-1, 60).mean(axis = 1) * 100).round()"
   ]
  },
  {
   "cell_type": "code",
   "execution_count": 92,
   "metadata": {},
   "outputs": [
    {
     "data": {
      "text/plain": [
       "array([0.60239198, 0.45658951, 0.45523148, 0.51649691, 0.48442901,\n",
       "       0.53009259, 0.49013889, 0.51314815, 0.52763889, 0.49820988,\n",
       "       0.5032716 , 0.47896605, 0.45555556, 0.4745216 , 0.53973765,\n",
       "       0.51631173, 0.49580247, 0.54430556, 0.38655864, 0.51762346,\n",
       "       0.46529321, 0.4346142 , 0.52986111, 0.49816358])"
      ]
     },
     "execution_count": 92,
     "metadata": {},
     "output_type": "execute_result"
    }
   ],
   "source": [
    "# full trade accuracy on 24 hours\n",
    "np.nanmean(np.where(np.abs(soft_trade) > -1, soft_profit > 0, np.nan), axis = (0, 2)).reshape(-1, 60).mean(axis = 1)"
   ]
  },
  {
   "cell_type": "code",
   "execution_count": 93,
   "metadata": {},
   "outputs": [
    {
     "data": {
      "text/plain": [
       "array([ 3.3847431e-05, -3.2217370e-06, -1.3823366e-06,  3.1192237e-06,\n",
       "       -8.9058602e-07,  2.8054599e-06,  3.2354386e-08,  2.3757050e-06,\n",
       "        2.5783327e-06,  3.1100519e-06, -4.5968727e-07, -5.2439140e-07,\n",
       "       -7.0470946e-06, -2.7111716e-06,  3.0191056e-06,  1.8688136e-06,\n",
       "       -1.8838656e-06,  7.1536351e-06, -8.5836882e-06,  2.9546125e-06,\n",
       "       -1.1644762e-06, -5.4339516e-06,  2.6458999e-06,  2.9302541e-06],\n",
       "      dtype=float32)"
      ]
     },
     "execution_count": 93,
     "metadata": {},
     "output_type": "execute_result"
    }
   ],
   "source": [
    "# full trade profit on 24 hours\n",
    "np.nanmean(np.where(np.abs(soft_trade) > -1, soft_profit, np.nan), axis = (0, 2)).reshape(-1, 60).mean(axis = 1)"
   ]
  },
  {
   "cell_type": "code",
   "execution_count": 96,
   "metadata": {},
   "outputs": [
    {
     "data": {
      "text/plain": [
       "array([0.01354167, 0.0123071 , 0.01134259, 0.01165123, 0.01145833,\n",
       "       0.01195988, 0.01118827, 0.01134259, 0.01126543, 0.01114969,\n",
       "       0.01130401, 0.01084105, 0.01145833, 0.01076389, 0.01207562,\n",
       "       0.01084105, 0.01084105, 0.01130401, 0.01153549, 0.01049383,\n",
       "       0.01253858, 0.01091821, 0.01253858, 0.01114969, 0.01149691,\n",
       "       0.01226852, 0.01153549, 0.01253858, 0.01138117, 0.01257716,\n",
       "       0.0117284 , 0.01118827, 0.01388889, 0.01365741, 0.01153549,\n",
       "       0.0128858 , 0.01381173, 0.01458333, 0.01222994, 0.01481481,\n",
       "       0.01315586, 0.01346451, 0.01392747, 0.01415895, 0.01377315,\n",
       "       0.01666667, 0.0185571 , 0.01566358, 0.0148534 , 0.01431327,\n",
       "       0.01257716, 0.01585648, 0.01400463, 0.01728395, 0.01940586,\n",
       "       0.0148534 , 0.01423611, 0.01466049, 0.01566358, 0.0154321 ])"
      ]
     },
     "execution_count": 96,
     "metadata": {},
     "output_type": "execute_result"
    }
   ],
   "source": [
    "# percent full trades on all timeframes\n",
    "(np.abs(soft_trade) > .2).mean(axis = (0, 1))"
   ]
  },
  {
   "cell_type": "code",
   "execution_count": 97,
   "metadata": {},
   "outputs": [
    {
     "data": {
      "text/plain": [
       "array([0.4017094 , 0.48589342, 0.55442177, 0.56622517, 0.56902357,\n",
       "       0.59677419, 0.62413793, 0.64965986, 0.65753425, 0.6816609 ,\n",
       "       0.64163823, 0.70106762, 0.67340067, 0.67741935, 0.66453674,\n",
       "       0.70818505, 0.74021352, 0.75085324, 0.72909699, 0.74264706,\n",
       "       0.75384615, 0.74204947, 0.77538462, 0.78546713, 0.78187919,\n",
       "       0.78930818, 0.80602007, 0.78769231, 0.82711864, 0.79754601,\n",
       "       0.8125    , 0.81034483, 0.78888889, 0.79943503, 0.78595318,\n",
       "       0.76946108, 0.77094972, 0.75396825, 0.76971609, 0.72916667,\n",
       "       0.76246334, 0.747851  , 0.74238227, 0.74386921, 0.73109244,\n",
       "       0.73842593, 0.73180873, 0.74876847, 0.74285714, 0.71698113,\n",
       "       0.74539877, 0.7323601 , 0.72727273, 0.72321429, 0.71769384,\n",
       "       0.70909091, 0.69918699, 0.69473684, 0.68472906, 0.695     ])"
      ]
     },
     "execution_count": 97,
     "metadata": {},
     "output_type": "execute_result"
    }
   ],
   "source": [
    "# full trade accuracy on all timeframes\n",
    "np.nanmean(np.where(np.abs(soft_trade) > .2, soft_profit > 0, np.nan), axis = (0, 1))"
   ]
  },
  {
   "cell_type": "code",
   "execution_count": 98,
   "metadata": {},
   "outputs": [
    {
     "data": {
      "text/plain": [
       "array([3.87642431e-05, 4.82867217e-05, 5.30346224e-05, 5.71032870e-05,\n",
       "       6.46000990e-05, 6.61578815e-05, 7.37340742e-05, 7.77207388e-05,\n",
       "       8.10080455e-05, 8.79798972e-05, 9.58662858e-05, 9.60033867e-05,\n",
       "       1.02072954e-04, 1.16274234e-04, 1.19394033e-04, 1.19139942e-04,\n",
       "       1.17188356e-04, 1.15627976e-04, 1.26749801e-04, 1.31460358e-04,\n",
       "       1.23007601e-04, 1.28528467e-04, 1.26307772e-04, 1.29251872e-04,\n",
       "       1.31724111e-04, 1.25308972e-04, 1.34633490e-04, 1.35371287e-04,\n",
       "       1.38837029e-04, 1.36575953e-04, 1.40024538e-04, 1.46841237e-04,\n",
       "       1.43064666e-04, 1.43730504e-04, 1.55068774e-04, 1.59900490e-04,\n",
       "       1.49507308e-04, 1.60183365e-04, 1.67679274e-04, 1.74265922e-04,\n",
       "       1.73987894e-04, 1.79771640e-04, 1.84036020e-04, 1.88592050e-04,\n",
       "       2.09701611e-04, 1.84028962e-04, 1.83535376e-04, 1.98230890e-04,\n",
       "       2.14863569e-04, 2.15544947e-04, 2.32790320e-04, 2.22888921e-04,\n",
       "       2.47044110e-04, 2.32334700e-04, 2.09812380e-04, 2.64622940e-04,\n",
       "       2.73131067e-04, 2.58436106e-04, 2.73029058e-04, 2.55196355e-04],\n",
       "      dtype=float32)"
      ]
     },
     "execution_count": 98,
     "metadata": {},
     "output_type": "execute_result"
    }
   ],
   "source": [
    "# full trade gain on all timeframes\n",
    "np.nanmean(np.where((np.abs(soft_trade) > .2) & (soft_profit > 0), soft_profit, np.nan), axis = (0, 1))"
   ]
  },
  {
   "cell_type": "code",
   "execution_count": 99,
   "metadata": {},
   "outputs": [
    {
     "data": {
      "text/plain": [
       "array([-2.6926531e-05, -2.4322924e-05, -3.6522557e-05, -3.8901489e-05,\n",
       "       -4.3621127e-05, -4.8837319e-05, -5.5283203e-05, -4.6932801e-05,\n",
       "       -6.6117143e-05, -5.5267577e-05, -6.4423220e-05, -5.6105258e-05,\n",
       "       -7.0949936e-05, -6.3110703e-05, -6.8579480e-05, -7.1946619e-05,\n",
       "       -7.2963376e-05, -7.2417031e-05, -6.0837709e-05, -5.6984212e-05,\n",
       "       -6.3431260e-05, -5.9233374e-05, -7.0768765e-05, -7.1119808e-05,\n",
       "       -6.7338420e-05, -6.3440297e-05, -6.3099731e-05, -7.9270001e-05,\n",
       "       -7.5724965e-05, -6.7836656e-05, -6.6763074e-05, -6.5900815e-05,\n",
       "       -6.6884932e-05, -5.7525474e-05, -6.2009902e-05, -6.6585089e-05,\n",
       "       -7.0515591e-05, -6.9099318e-05, -6.9504269e-05, -6.4450585e-05,\n",
       "       -6.5847002e-05, -6.2522020e-05, -6.4975997e-05, -6.6394976e-05,\n",
       "       -7.0697919e-05, -7.3487092e-05, -7.5647200e-05, -7.4289972e-05,\n",
       "       -7.9624377e-05, -7.5277763e-05, -7.6286298e-05, -7.8171390e-05,\n",
       "       -6.9987487e-05, -7.2869174e-05, -7.5058218e-05, -7.2723757e-05,\n",
       "       -8.3078347e-05, -7.7110803e-05, -8.6003711e-05, -9.2195973e-05],\n",
       "      dtype=float32)"
      ]
     },
     "execution_count": 99,
     "metadata": {},
     "output_type": "execute_result"
    }
   ],
   "source": [
    "# full trade loss on all timeframes\n",
    "np.nanmean(np.where((np.abs(soft_trade) > .2) & (soft_profit < 0), soft_profit, np.nan), axis = (0, 1))"
   ]
  },
  {
   "cell_type": "markdown",
   "metadata": {},
   "source": [
    "# Try model on Twelvedata numbers (third party data provider)\n",
    "\n",
    "### Result:\n",
    "The numbers are much better with the model actually producing 30s and 40s for probabilities.\n",
    "\n",
    "### Conclusion:\n",
    "Third-party data should be used, but likely still requires some finetuning"
   ]
  },
  {
   "cell_type": "code",
   "execution_count": 265,
   "metadata": {},
   "outputs": [
    {
     "name": "stderr",
     "output_type": "stream",
     "text": [
      "loading weights file srupp.model\\pytorch_model.bin\n",
      "All model checkpoint weights were used when initializing SRUTrader.\n",
      "\n",
      "All the weights of SRUTrader were initialized from the model checkpoint at srupp.model.\n",
      "If your task is similar to the task the model of the checkpoint was trained on, you can already use SRUTrader for predictions without further training.\n"
     ]
    }
   ],
   "source": [
    "config = GPT2Config(\n",
    "    n_embd = 448, n_head = 7\n",
    ")\n",
    "model = SRUTrader.from_pretrained('srupp.model', config = config).cuda().eval()"
   ]
  },
  {
   "cell_type": "code",
   "execution_count": 374,
   "metadata": {},
   "outputs": [],
   "source": [
    "import requests\n",
    "import io\n",
    "\n",
    "response = requests.get(\"https://www.alphavantage.co/query?function=FX_INTRADAY&from_symbol=EUR&to_symbol=USD&interval=1min&outputsize=full&apikey=FF4BNWSJ67ZFOVT4\")\n"
   ]
  },
  {
   "cell_type": "code",
   "execution_count": 375,
   "metadata": {},
   "outputs": [],
   "source": [
    "df = pd.DataFrame.from_dict(response.json()['Time Series FX (1min)']).T\n",
    "df = df.rename(columns = {'1. open': 'open', '2. high': 'high', '3. low': 'low', '4. close': 'close'})"
   ]
  },
  {
   "cell_type": "code",
   "execution_count": 371,
   "metadata": {},
   "outputs": [],
   "source": [
    "response = requests.get(f\"https://api.twelvedata.com/time_series?apikey=b1380736fa4d496881c9a1fc87d3dcb3&interval=1min&symbol=EUR/USD&outputsize=4320&start_date=2022-10-01 00:20:00&end_date={datetime.now().strftime('%Y-%m-%d %H:%M:%S')}\")\n",
    "df = pd.DataFrame.from_dict(response.json()['values'])"
   ]
  },
  {
   "cell_type": "code",
   "execution_count": 380,
   "metadata": {},
   "outputs": [
    {
     "data": {
      "image/png": "[encoded data removed]",
      "text/plain": [
       "<Figure size 432x288 with 1 Axes>"
      ]
     },
     "metadata": {
      "needs_background": "light"
     },
     "output_type": "display_data"
    },
    {
     "data": {
      "image/png": "[encoded data removed]",
      "text/plain": [
       "<Figure size 432x288 with 1 Axes>"
      ]
     },
     "metadata": {
      "needs_background": "light"
     },
     "output_type": "display_data"
    }
   ],
   "source": [
    "bars = df.iloc[::-1].reset_index(names = 'datetime')\n",
    "\n",
    "# use coinexx timezone to avoid confusion (where 0:00 is start of trading day)\n",
    "bars['datetime'] = pd.to_datetime(bars['datetime']) + timedelta(hours = 3)\n",
    "bars = bars.set_index('datetime')\n",
    "bars = bars.astype(float)\n",
    "\n",
    "# preprocessing (same code as original)\n",
    "bars['day_close'] = bars['close'].sub(bars.groupby(bars.index.day)['close'].transform('first'), axis = 0)\n",
    "bars[['open', 'high', 'low']] = bars[['open', 'high', 'low']].sub(bars['close'], axis = 0)\n",
    "bars['close'] = bars['close'] - bars['close'].shift(1)\n",
    "\n",
    "# filter to only today\n",
    "bars = bars[bars.index.day == bars.index.day[-1]]\n",
    "\n",
    "bars = bars[['open', 'high', 'low', 'close', 'day_close']]\n",
    "bars = bars.div(stds['EURUSD'], axis = 1)\n",
    "\n",
    "with torch.no_grad():\n",
    "    model = model.eval()\n",
    "    bars['pred'] = (model(torch.Tensor(bars.values).unsqueeze(0).cuda())[0].mean(dim = 1) * 100).round().cpu().numpy()\n",
    "    bars[['day_close']].plot()\n",
    "    bars[['pred']].plot()"
   ]
  },
  {
   "cell_type": "code",
   "execution_count": null,
   "metadata": {},
   "outputs": [],
   "source": []
  }
 ],
 "metadata": {
  "kernelspec": {
   "display_name": "Python 3",
   "language": "python",
   "name": "python3"
  },
  "language_info": {
   "codemirror_mode": {
    "name": "ipython",
    "version": 3
   },
   "file_extension": ".py",
   "mimetype": "text/x-python",
   "name": "python",
   "nbconvert_exporter": "python",
   "pygments_lexer": "ipython3",
   "version": "3.8.5"
  }
 },
 "nbformat": 4,
 "nbformat_minor": 4
}
